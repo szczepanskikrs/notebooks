{
 "cells": [
  {
   "cell_type": "markdown",
   "metadata": {},
   "source": [
    "___\n",
    "\n",
    "<a href='http://www.pieriandata.com'><img src='../Pierian_Data_Logo.png'/></a>\n",
    "___\n",
    "<center><em>Copyright by Pierian Data Inc.</em></center>\n",
    "<center><em>For more information, visit us at <a href='http://www.pieriandata.com'>www.pieriandata.com</a></em></center>"
   ]
  },
  {
   "cell_type": "markdown",
   "metadata": {},
   "source": [
    "# Groupby Operations and Multi-level Index"
   ]
  },
  {
   "cell_type": "code",
   "execution_count": 67,
   "metadata": {
    "ExecuteTime": {
     "end_time": "2024-03-30T16:21:25.956598Z",
     "start_time": "2024-03-30T16:21:25.952037Z"
    }
   },
   "outputs": [],
   "source": [
    "import numpy as np\n",
    "import pandas as pd"
   ]
  },
  {
   "cell_type": "markdown",
   "metadata": {},
   "source": [
    "## Data"
   ]
  },
  {
   "cell_type": "code",
   "execution_count": 68,
   "metadata": {
    "ExecuteTime": {
     "end_time": "2024-03-30T16:21:26.276420Z",
     "start_time": "2024-03-30T16:21:26.258656Z"
    }
   },
   "outputs": [
    {
     "data": {
      "text/plain": "      mpg  cylinders  displacement horsepower  weight  acceleration  \\\n0    18.0          8         307.0        130    3504          12.0   \n1    15.0          8         350.0        165    3693          11.5   \n2    18.0          8         318.0        150    3436          11.0   \n3    16.0          8         304.0        150    3433          12.0   \n4    17.0          8         302.0        140    3449          10.5   \n..    ...        ...           ...        ...     ...           ...   \n393  27.0          4         140.0         86    2790          15.6   \n394  44.0          4          97.0         52    2130          24.6   \n395  32.0          4         135.0         84    2295          11.6   \n396  28.0          4         120.0         79    2625          18.6   \n397  31.0          4         119.0         82    2720          19.4   \n\n     model_year  origin                       name  \n0            70       1  chevrolet chevelle malibu  \n1            70       1          buick skylark 320  \n2            70       1         plymouth satellite  \n3            70       1              amc rebel sst  \n4            70       1                ford torino  \n..          ...     ...                        ...  \n393          82       1            ford mustang gl  \n394          82       2                  vw pickup  \n395          82       1              dodge rampage  \n396          82       1                ford ranger  \n397          82       1                 chevy s-10  \n\n[398 rows x 9 columns]",
      "text/html": "<div>\n<style scoped>\n    .dataframe tbody tr th:only-of-type {\n        vertical-align: middle;\n    }\n\n    .dataframe tbody tr th {\n        vertical-align: top;\n    }\n\n    .dataframe thead th {\n        text-align: right;\n    }\n</style>\n<table border=\"1\" class=\"dataframe\">\n  <thead>\n    <tr style=\"text-align: right;\">\n      <th></th>\n      <th>mpg</th>\n      <th>cylinders</th>\n      <th>displacement</th>\n      <th>horsepower</th>\n      <th>weight</th>\n      <th>acceleration</th>\n      <th>model_year</th>\n      <th>origin</th>\n      <th>name</th>\n    </tr>\n  </thead>\n  <tbody>\n    <tr>\n      <th>0</th>\n      <td>18.0</td>\n      <td>8</td>\n      <td>307.0</td>\n      <td>130</td>\n      <td>3504</td>\n      <td>12.0</td>\n      <td>70</td>\n      <td>1</td>\n      <td>chevrolet chevelle malibu</td>\n    </tr>\n    <tr>\n      <th>1</th>\n      <td>15.0</td>\n      <td>8</td>\n      <td>350.0</td>\n      <td>165</td>\n      <td>3693</td>\n      <td>11.5</td>\n      <td>70</td>\n      <td>1</td>\n      <td>buick skylark 320</td>\n    </tr>\n    <tr>\n      <th>2</th>\n      <td>18.0</td>\n      <td>8</td>\n      <td>318.0</td>\n      <td>150</td>\n      <td>3436</td>\n      <td>11.0</td>\n      <td>70</td>\n      <td>1</td>\n      <td>plymouth satellite</td>\n    </tr>\n    <tr>\n      <th>3</th>\n      <td>16.0</td>\n      <td>8</td>\n      <td>304.0</td>\n      <td>150</td>\n      <td>3433</td>\n      <td>12.0</td>\n      <td>70</td>\n      <td>1</td>\n      <td>amc rebel sst</td>\n    </tr>\n    <tr>\n      <th>4</th>\n      <td>17.0</td>\n      <td>8</td>\n      <td>302.0</td>\n      <td>140</td>\n      <td>3449</td>\n      <td>10.5</td>\n      <td>70</td>\n      <td>1</td>\n      <td>ford torino</td>\n    </tr>\n    <tr>\n      <th>...</th>\n      <td>...</td>\n      <td>...</td>\n      <td>...</td>\n      <td>...</td>\n      <td>...</td>\n      <td>...</td>\n      <td>...</td>\n      <td>...</td>\n      <td>...</td>\n    </tr>\n    <tr>\n      <th>393</th>\n      <td>27.0</td>\n      <td>4</td>\n      <td>140.0</td>\n      <td>86</td>\n      <td>2790</td>\n      <td>15.6</td>\n      <td>82</td>\n      <td>1</td>\n      <td>ford mustang gl</td>\n    </tr>\n    <tr>\n      <th>394</th>\n      <td>44.0</td>\n      <td>4</td>\n      <td>97.0</td>\n      <td>52</td>\n      <td>2130</td>\n      <td>24.6</td>\n      <td>82</td>\n      <td>2</td>\n      <td>vw pickup</td>\n    </tr>\n    <tr>\n      <th>395</th>\n      <td>32.0</td>\n      <td>4</td>\n      <td>135.0</td>\n      <td>84</td>\n      <td>2295</td>\n      <td>11.6</td>\n      <td>82</td>\n      <td>1</td>\n      <td>dodge rampage</td>\n    </tr>\n    <tr>\n      <th>396</th>\n      <td>28.0</td>\n      <td>4</td>\n      <td>120.0</td>\n      <td>79</td>\n      <td>2625</td>\n      <td>18.6</td>\n      <td>82</td>\n      <td>1</td>\n      <td>ford ranger</td>\n    </tr>\n    <tr>\n      <th>397</th>\n      <td>31.0</td>\n      <td>4</td>\n      <td>119.0</td>\n      <td>82</td>\n      <td>2720</td>\n      <td>19.4</td>\n      <td>82</td>\n      <td>1</td>\n      <td>chevy s-10</td>\n    </tr>\n  </tbody>\n</table>\n<p>398 rows × 9 columns</p>\n</div>"
     },
     "execution_count": 68,
     "metadata": {},
     "output_type": "execute_result"
    }
   ],
   "source": [
    "df = pd.read_csv('mpg.csv')\n",
    "df"
   ]
  },
  {
   "cell_type": "code",
   "outputs": [
    {
     "data": {
      "text/plain": "0      130\n1      165\n2      150\n3      150\n4      140\n      ... \n393     86\n394     52\n395     84\n396     79\n397     82\nName: horsepower, Length: 398, dtype: object"
     },
     "execution_count": 69,
     "metadata": {},
     "output_type": "execute_result"
    }
   ],
   "source": [
    "df[\"horsepower\"].replace(to_replace=\"?\",value=0)"
   ],
   "metadata": {
    "collapsed": false,
    "ExecuteTime": {
     "end_time": "2024-03-30T16:21:26.329677Z",
     "start_time": "2024-03-30T16:21:26.321818Z"
    }
   },
   "execution_count": 69
  },
  {
   "cell_type": "code",
   "execution_count": 70,
   "metadata": {
    "ExecuteTime": {
     "end_time": "2024-03-30T16:21:26.384053Z",
     "start_time": "2024-03-30T16:21:26.375688Z"
    }
   },
   "outputs": [
    {
     "data": {
      "text/plain": "mpg                           16.0\ncylinders                        8\ndisplacement                 400.0\nhorsepower                     230\nweight                        4278\nacceleration                   9.5\nmodel_year                      73\norigin                           1\nname            pontiac grand prix\nName: 116, dtype: object"
     },
     "execution_count": 70,
     "metadata": {},
     "output_type": "execute_result"
    }
   ],
   "source": [
    "df2 = df[\"horsepower\"].replace(to_replace=\"?\",value=0)\n",
    "df.iloc[df2.astype({\"horsepower\":'int'}).idxmax()]"
   ]
  },
  {
   "cell_type": "markdown",
   "metadata": {},
   "source": [
    "## groupby() method"
   ]
  },
  {
   "cell_type": "code",
   "execution_count": 71,
   "metadata": {
    "ExecuteTime": {
     "end_time": "2024-03-30T16:21:26.423994Z",
     "start_time": "2024-03-30T16:21:26.419957Z"
    }
   },
   "outputs": [],
   "source": [
    "# Creates a groupby object waiting for an aggregate method"
   ]
  },
  {
   "cell_type": "markdown",
   "metadata": {},
   "source": [
    "#### Adding an aggregate method call. To use a grouped object, you need to tell pandas how you want to aggregate the data.\n",
    "\n",
    "Common Options:\n",
    "\n",
    "    mean(): Compute mean of groups\n",
    "    sum(): Compute sum of group values\n",
    "    size(): Compute group sizes\n",
    "    count(): Compute count of group\n",
    "    std(): Standard deviation of groups\n",
    "    var(): Compute variance of groups\n",
    "    sem(): Standard error of the mean of groups\n",
    "    describe(): Generates descriptive statistics\n",
    "    first(): Compute first of group values\n",
    "    last(): Compute last of group values\n",
    "    nth() : Take nth value, or a subset if n is a list\n",
    "    min(): Compute min of group values\n",
    "    max(): Compute max of group values\n",
    "    \n",
    "Full List at the Online Documentation: https://pandas.pydata.org/docs/reference/groupby.html"
   ]
  },
  {
   "cell_type": "code",
   "execution_count": 72,
   "metadata": {
    "ExecuteTime": {
     "end_time": "2024-03-30T16:21:26.476225Z",
     "start_time": "2024-03-30T16:21:26.472003Z"
    }
   },
   "outputs": [],
   "source": [
    "# model_year becomes the index! It is NOT a column name,it is now the name of the index"
   ]
  },
  {
   "cell_type": "code",
   "execution_count": 73,
   "metadata": {
    "ExecuteTime": {
     "end_time": "2024-03-30T16:21:26.643041Z",
     "start_time": "2024-03-30T16:21:26.623389Z"
    }
   },
   "outputs": [
    {
     "name": "stdout",
     "output_type": "stream",
     "text": [
      "model_year  cylinders\n",
      "70          4            2372.0\n",
      "            6            2711.0\n",
      "            8            3805.5\n",
      "71          4            2074.0\n",
      "            6            3285.0\n",
      "            8            4464.0\n",
      "72          3            2330.0\n",
      "            4            2283.0\n",
      "            8            4274.0\n",
      "73          3            2124.0\n",
      "            4            2310.0\n",
      "            6            2924.5\n",
      "            8            4257.5\n",
      "74          4            2125.0\n",
      "            6            3336.0\n",
      "            8            4457.0\n",
      "75          4            2615.5\n",
      "            6            3348.0\n",
      "            8            4469.0\n",
      "76          4            2202.0\n",
      "            6            3293.0\n",
      "            8            4055.0\n",
      "77          3            2720.0\n",
      "            4            2115.0\n",
      "            6            3520.0\n",
      "            8            4192.5\n",
      "78          4            2230.0\n",
      "            5            2830.0\n",
      "            6            3395.0\n",
      "            8            3497.5\n",
      "79          4            2175.0\n",
      "            5            3530.0\n",
      "            6            3117.5\n",
      "            8            3870.0\n",
      "80          3            2420.0\n",
      "            4            2265.0\n",
      "            5            2950.0\n",
      "            6            3145.5\n",
      "81          4            2215.0\n",
      "            6            3060.0\n",
      "            8            3725.0\n",
      "82          4            2382.5\n",
      "            6            2945.0\n",
      "Name: weight, dtype: float64\n",
      "model_year  cylinders\n",
      "70          4            2292.571429\n",
      "            6            2710.500000\n",
      "            8            3940.055556\n",
      "71          4            2056.384615\n",
      "            6            3171.875000\n",
      "            8            4537.714286\n",
      "72          3            2330.000000\n",
      "            4            2382.642857\n",
      "            8            4228.384615\n",
      "73          3            2124.000000\n",
      "            4            2338.090909\n",
      "            6            2917.125000\n",
      "            8            4279.050000\n",
      "74          4            2151.466667\n",
      "            6            3320.000000\n",
      "            8            4438.400000\n",
      "75          4            2489.250000\n",
      "            6            3398.333333\n",
      "            8            4108.833333\n",
      "76          4            2306.600000\n",
      "            6            3349.600000\n",
      "            8            4064.666667\n",
      "77          3            2720.000000\n",
      "            4            2205.071429\n",
      "            6            3383.000000\n",
      "            8            4177.500000\n",
      "78          4            2296.764706\n",
      "            5            2830.000000\n",
      "            6            3314.166667\n",
      "            8            3563.333333\n",
      "79          4            2357.583333\n",
      "            5            3530.000000\n",
      "            6            3025.833333\n",
      "            8            3862.900000\n",
      "80          3            2420.000000\n",
      "            4            2360.080000\n",
      "            5            2950.000000\n",
      "            6            3145.500000\n",
      "81          4            2275.476190\n",
      "            6            3093.571429\n",
      "            8            3725.000000\n",
      "82          4            2402.321429\n",
      "            6            2931.666667\n",
      "Name: weight, dtype: float64\n"
     ]
    }
   ],
   "source": [
    "avg_year = df.groupby([\"model_year\",\"cylinders\"]).median(numeric_only=True)[\"weight\"]\n",
    "avg_year2 = df.groupby([\"model_year\",\"cylinders\"]).mean(numeric_only=True)[\"weight\"]\n",
    "print(avg_year)\n",
    "print(avg_year2)"
   ]
  },
  {
   "cell_type": "code",
   "execution_count": 74,
   "metadata": {
    "ExecuteTime": {
     "end_time": "2024-03-30T16:21:26.677573Z",
     "start_time": "2024-03-30T16:21:26.669943Z"
    }
   },
   "outputs": [
    {
     "data": {
      "text/plain": "MultiIndex([(70, 4),\n            (70, 6),\n            (70, 8),\n            (71, 4),\n            (71, 6),\n            (71, 8),\n            (72, 3),\n            (72, 4),\n            (72, 8),\n            (73, 3),\n            (73, 4),\n            (73, 6),\n            (73, 8),\n            (74, 4),\n            (74, 6),\n            (74, 8),\n            (75, 4),\n            (75, 6),\n            (75, 8),\n            (76, 4),\n            (76, 6),\n            (76, 8),\n            (77, 3),\n            (77, 4),\n            (77, 6),\n            (77, 8),\n            (78, 4),\n            (78, 5),\n            (78, 6),\n            (78, 8),\n            (79, 4),\n            (79, 5),\n            (79, 6),\n            (79, 8),\n            (80, 3),\n            (80, 4),\n            (80, 5),\n            (80, 6),\n            (81, 4),\n            (81, 6),\n            (81, 8),\n            (82, 4),\n            (82, 6)],\n           names=['model_year', 'cylinders'])"
     },
     "execution_count": 74,
     "metadata": {},
     "output_type": "execute_result"
    }
   ],
   "source": [
    "avg_year.index"
   ]
  },
  {
   "cell_type": "code",
   "execution_count": 75,
   "metadata": {
    "ExecuteTime": {
     "end_time": "2024-03-30T16:21:26.747703Z",
     "start_time": "2024-03-30T16:21:26.731419Z"
    }
   },
   "outputs": [
    {
     "ename": "AttributeError",
     "evalue": "'Series' object has no attribute 'columns'",
     "output_type": "error",
     "traceback": [
      "\u001B[0;31m---------------------------------------------------------------------------\u001B[0m",
      "\u001B[0;31mAttributeError\u001B[0m                            Traceback (most recent call last)",
      "\u001B[0;32m/tmp/ipykernel_30504/1040208460.py\u001B[0m in \u001B[0;36m?\u001B[0;34m()\u001B[0m\n\u001B[0;32m----> 1\u001B[0;31m \u001B[0mavg_year\u001B[0m\u001B[0;34m.\u001B[0m\u001B[0mcolumns\u001B[0m\u001B[0;34m\u001B[0m\u001B[0;34m\u001B[0m\u001B[0m\n\u001B[0m",
      "\u001B[0;32m~/notebooks/venv/lib/python3.11/site-packages/pandas/core/generic.py\u001B[0m in \u001B[0;36m?\u001B[0;34m(self, name)\u001B[0m\n\u001B[1;32m   6292\u001B[0m             \u001B[0;32mand\u001B[0m \u001B[0mname\u001B[0m \u001B[0;32mnot\u001B[0m \u001B[0;32min\u001B[0m \u001B[0mself\u001B[0m\u001B[0;34m.\u001B[0m\u001B[0m_accessors\u001B[0m\u001B[0;34m\u001B[0m\u001B[0;34m\u001B[0m\u001B[0m\n\u001B[1;32m   6293\u001B[0m             \u001B[0;32mand\u001B[0m \u001B[0mself\u001B[0m\u001B[0;34m.\u001B[0m\u001B[0m_info_axis\u001B[0m\u001B[0;34m.\u001B[0m\u001B[0m_can_hold_identifiers_and_holds_name\u001B[0m\u001B[0;34m(\u001B[0m\u001B[0mname\u001B[0m\u001B[0;34m)\u001B[0m\u001B[0;34m\u001B[0m\u001B[0;34m\u001B[0m\u001B[0m\n\u001B[1;32m   6294\u001B[0m         ):\n\u001B[1;32m   6295\u001B[0m             \u001B[0;32mreturn\u001B[0m \u001B[0mself\u001B[0m\u001B[0;34m[\u001B[0m\u001B[0mname\u001B[0m\u001B[0;34m]\u001B[0m\u001B[0;34m\u001B[0m\u001B[0;34m\u001B[0m\u001B[0m\n\u001B[0;32m-> 6296\u001B[0;31m         \u001B[0;32mreturn\u001B[0m \u001B[0mobject\u001B[0m\u001B[0;34m.\u001B[0m\u001B[0m__getattribute__\u001B[0m\u001B[0;34m(\u001B[0m\u001B[0mself\u001B[0m\u001B[0;34m,\u001B[0m \u001B[0mname\u001B[0m\u001B[0;34m)\u001B[0m\u001B[0;34m\u001B[0m\u001B[0;34m\u001B[0m\u001B[0m\n\u001B[0m",
      "\u001B[0;31mAttributeError\u001B[0m: 'Series' object has no attribute 'columns'"
     ]
    }
   ],
   "source": [
    "avg_year.columns"
   ]
  },
  {
   "cell_type": "code",
   "execution_count": null,
   "metadata": {},
   "outputs": [],
   "source": [
    "avg_year['mpg']"
   ]
  },
  {
   "cell_type": "code",
   "execution_count": 76,
   "metadata": {
    "ExecuteTime": {
     "end_time": "2024-03-30T16:21:26.946765Z",
     "start_time": "2024-03-30T16:21:26.790037Z"
    }
   },
   "outputs": [
    {
     "ename": "TypeError",
     "evalue": "agg function failed [how->mean,dtype->object]",
     "output_type": "error",
     "traceback": [
      "\u001B[0;31m---------------------------------------------------------------------------\u001B[0m",
      "\u001B[0;31mTypeError\u001B[0m                                 Traceback (most recent call last)",
      "File \u001B[0;32m~/notebooks/venv/lib/python3.11/site-packages/pandas/core/groupby/groupby.py:1942\u001B[0m, in \u001B[0;36mGroupBy._agg_py_fallback\u001B[0;34m(self, how, values, ndim, alt)\u001B[0m\n\u001B[1;32m   1941\u001B[0m \u001B[38;5;28;01mtry\u001B[39;00m:\n\u001B[0;32m-> 1942\u001B[0m     res_values \u001B[38;5;241m=\u001B[39m \u001B[38;5;28;43mself\u001B[39;49m\u001B[38;5;241;43m.\u001B[39;49m\u001B[43m_grouper\u001B[49m\u001B[38;5;241;43m.\u001B[39;49m\u001B[43magg_series\u001B[49m\u001B[43m(\u001B[49m\u001B[43mser\u001B[49m\u001B[43m,\u001B[49m\u001B[43m \u001B[49m\u001B[43malt\u001B[49m\u001B[43m,\u001B[49m\u001B[43m \u001B[49m\u001B[43mpreserve_dtype\u001B[49m\u001B[38;5;241;43m=\u001B[39;49m\u001B[38;5;28;43;01mTrue\u001B[39;49;00m\u001B[43m)\u001B[49m\n\u001B[1;32m   1943\u001B[0m \u001B[38;5;28;01mexcept\u001B[39;00m \u001B[38;5;167;01mException\u001B[39;00m \u001B[38;5;28;01mas\u001B[39;00m err:\n",
      "File \u001B[0;32m~/notebooks/venv/lib/python3.11/site-packages/pandas/core/groupby/ops.py:864\u001B[0m, in \u001B[0;36mBaseGrouper.agg_series\u001B[0;34m(self, obj, func, preserve_dtype)\u001B[0m\n\u001B[1;32m    862\u001B[0m     preserve_dtype \u001B[38;5;241m=\u001B[39m \u001B[38;5;28;01mTrue\u001B[39;00m\n\u001B[0;32m--> 864\u001B[0m result \u001B[38;5;241m=\u001B[39m \u001B[38;5;28;43mself\u001B[39;49m\u001B[38;5;241;43m.\u001B[39;49m\u001B[43m_aggregate_series_pure_python\u001B[49m\u001B[43m(\u001B[49m\u001B[43mobj\u001B[49m\u001B[43m,\u001B[49m\u001B[43m \u001B[49m\u001B[43mfunc\u001B[49m\u001B[43m)\u001B[49m\n\u001B[1;32m    866\u001B[0m npvalues \u001B[38;5;241m=\u001B[39m lib\u001B[38;5;241m.\u001B[39mmaybe_convert_objects(result, try_float\u001B[38;5;241m=\u001B[39m\u001B[38;5;28;01mFalse\u001B[39;00m)\n",
      "File \u001B[0;32m~/notebooks/venv/lib/python3.11/site-packages/pandas/core/groupby/ops.py:885\u001B[0m, in \u001B[0;36mBaseGrouper._aggregate_series_pure_python\u001B[0;34m(self, obj, func)\u001B[0m\n\u001B[1;32m    884\u001B[0m \u001B[38;5;28;01mfor\u001B[39;00m i, group \u001B[38;5;129;01min\u001B[39;00m \u001B[38;5;28menumerate\u001B[39m(splitter):\n\u001B[0;32m--> 885\u001B[0m     res \u001B[38;5;241m=\u001B[39m \u001B[43mfunc\u001B[49m\u001B[43m(\u001B[49m\u001B[43mgroup\u001B[49m\u001B[43m)\u001B[49m\n\u001B[1;32m    886\u001B[0m     res \u001B[38;5;241m=\u001B[39m extract_result(res)\n",
      "File \u001B[0;32m~/notebooks/venv/lib/python3.11/site-packages/pandas/core/groupby/groupby.py:2454\u001B[0m, in \u001B[0;36mGroupBy.mean.<locals>.<lambda>\u001B[0;34m(x)\u001B[0m\n\u001B[1;32m   2451\u001B[0m \u001B[38;5;28;01melse\u001B[39;00m:\n\u001B[1;32m   2452\u001B[0m     result \u001B[38;5;241m=\u001B[39m \u001B[38;5;28mself\u001B[39m\u001B[38;5;241m.\u001B[39m_cython_agg_general(\n\u001B[1;32m   2453\u001B[0m         \u001B[38;5;124m\"\u001B[39m\u001B[38;5;124mmean\u001B[39m\u001B[38;5;124m\"\u001B[39m,\n\u001B[0;32m-> 2454\u001B[0m         alt\u001B[38;5;241m=\u001B[39m\u001B[38;5;28;01mlambda\u001B[39;00m x: \u001B[43mSeries\u001B[49m\u001B[43m(\u001B[49m\u001B[43mx\u001B[49m\u001B[43m,\u001B[49m\u001B[43m \u001B[49m\u001B[43mcopy\u001B[49m\u001B[38;5;241;43m=\u001B[39;49m\u001B[38;5;28;43;01mFalse\u001B[39;49;00m\u001B[43m)\u001B[49m\u001B[38;5;241;43m.\u001B[39;49m\u001B[43mmean\u001B[49m\u001B[43m(\u001B[49m\u001B[43mnumeric_only\u001B[49m\u001B[38;5;241;43m=\u001B[39;49m\u001B[43mnumeric_only\u001B[49m\u001B[43m)\u001B[49m,\n\u001B[1;32m   2455\u001B[0m         numeric_only\u001B[38;5;241m=\u001B[39mnumeric_only,\n\u001B[1;32m   2456\u001B[0m     )\n\u001B[1;32m   2457\u001B[0m     \u001B[38;5;28;01mreturn\u001B[39;00m result\u001B[38;5;241m.\u001B[39m__finalize__(\u001B[38;5;28mself\u001B[39m\u001B[38;5;241m.\u001B[39mobj, method\u001B[38;5;241m=\u001B[39m\u001B[38;5;124m\"\u001B[39m\u001B[38;5;124mgroupby\u001B[39m\u001B[38;5;124m\"\u001B[39m)\n",
      "File \u001B[0;32m~/notebooks/venv/lib/python3.11/site-packages/pandas/core/series.py:6540\u001B[0m, in \u001B[0;36mSeries.mean\u001B[0;34m(self, axis, skipna, numeric_only, **kwargs)\u001B[0m\n\u001B[1;32m   6532\u001B[0m \u001B[38;5;129m@doc\u001B[39m(make_doc(\u001B[38;5;124m\"\u001B[39m\u001B[38;5;124mmean\u001B[39m\u001B[38;5;124m\"\u001B[39m, ndim\u001B[38;5;241m=\u001B[39m\u001B[38;5;241m1\u001B[39m))\n\u001B[1;32m   6533\u001B[0m \u001B[38;5;28;01mdef\u001B[39;00m \u001B[38;5;21mmean\u001B[39m(\n\u001B[1;32m   6534\u001B[0m     \u001B[38;5;28mself\u001B[39m,\n\u001B[0;32m   (...)\u001B[0m\n\u001B[1;32m   6538\u001B[0m     \u001B[38;5;241m*\u001B[39m\u001B[38;5;241m*\u001B[39mkwargs,\n\u001B[1;32m   6539\u001B[0m ):\n\u001B[0;32m-> 6540\u001B[0m     \u001B[38;5;28;01mreturn\u001B[39;00m \u001B[43mNDFrame\u001B[49m\u001B[38;5;241;43m.\u001B[39;49m\u001B[43mmean\u001B[49m\u001B[43m(\u001B[49m\u001B[38;5;28;43mself\u001B[39;49m\u001B[43m,\u001B[49m\u001B[43m \u001B[49m\u001B[43maxis\u001B[49m\u001B[43m,\u001B[49m\u001B[43m \u001B[49m\u001B[43mskipna\u001B[49m\u001B[43m,\u001B[49m\u001B[43m \u001B[49m\u001B[43mnumeric_only\u001B[49m\u001B[43m,\u001B[49m\u001B[43m \u001B[49m\u001B[38;5;241;43m*\u001B[39;49m\u001B[38;5;241;43m*\u001B[39;49m\u001B[43mkwargs\u001B[49m\u001B[43m)\u001B[49m\n",
      "File \u001B[0;32m~/notebooks/venv/lib/python3.11/site-packages/pandas/core/generic.py:12417\u001B[0m, in \u001B[0;36mNDFrame.mean\u001B[0;34m(self, axis, skipna, numeric_only, **kwargs)\u001B[0m\n\u001B[1;32m  12410\u001B[0m \u001B[38;5;28;01mdef\u001B[39;00m \u001B[38;5;21mmean\u001B[39m(\n\u001B[1;32m  12411\u001B[0m     \u001B[38;5;28mself\u001B[39m,\n\u001B[1;32m  12412\u001B[0m     axis: Axis \u001B[38;5;241m|\u001B[39m \u001B[38;5;28;01mNone\u001B[39;00m \u001B[38;5;241m=\u001B[39m \u001B[38;5;241m0\u001B[39m,\n\u001B[0;32m   (...)\u001B[0m\n\u001B[1;32m  12415\u001B[0m     \u001B[38;5;241m*\u001B[39m\u001B[38;5;241m*\u001B[39mkwargs,\n\u001B[1;32m  12416\u001B[0m ) \u001B[38;5;241m-\u001B[39m\u001B[38;5;241m>\u001B[39m Series \u001B[38;5;241m|\u001B[39m \u001B[38;5;28mfloat\u001B[39m:\n\u001B[0;32m> 12417\u001B[0m     \u001B[38;5;28;01mreturn\u001B[39;00m \u001B[38;5;28;43mself\u001B[39;49m\u001B[38;5;241;43m.\u001B[39;49m\u001B[43m_stat_function\u001B[49m\u001B[43m(\u001B[49m\n\u001B[1;32m  12418\u001B[0m \u001B[43m        \u001B[49m\u001B[38;5;124;43m\"\u001B[39;49m\u001B[38;5;124;43mmean\u001B[39;49m\u001B[38;5;124;43m\"\u001B[39;49m\u001B[43m,\u001B[49m\u001B[43m \u001B[49m\u001B[43mnanops\u001B[49m\u001B[38;5;241;43m.\u001B[39;49m\u001B[43mnanmean\u001B[49m\u001B[43m,\u001B[49m\u001B[43m \u001B[49m\u001B[43maxis\u001B[49m\u001B[43m,\u001B[49m\u001B[43m \u001B[49m\u001B[43mskipna\u001B[49m\u001B[43m,\u001B[49m\u001B[43m \u001B[49m\u001B[43mnumeric_only\u001B[49m\u001B[43m,\u001B[49m\u001B[43m \u001B[49m\u001B[38;5;241;43m*\u001B[39;49m\u001B[38;5;241;43m*\u001B[39;49m\u001B[43mkwargs\u001B[49m\n\u001B[1;32m  12419\u001B[0m \u001B[43m    \u001B[49m\u001B[43m)\u001B[49m\n",
      "File \u001B[0;32m~/notebooks/venv/lib/python3.11/site-packages/pandas/core/generic.py:12374\u001B[0m, in \u001B[0;36mNDFrame._stat_function\u001B[0;34m(self, name, func, axis, skipna, numeric_only, **kwargs)\u001B[0m\n\u001B[1;32m  12372\u001B[0m validate_bool_kwarg(skipna, \u001B[38;5;124m\"\u001B[39m\u001B[38;5;124mskipna\u001B[39m\u001B[38;5;124m\"\u001B[39m, none_allowed\u001B[38;5;241m=\u001B[39m\u001B[38;5;28;01mFalse\u001B[39;00m)\n\u001B[0;32m> 12374\u001B[0m \u001B[38;5;28;01mreturn\u001B[39;00m \u001B[38;5;28;43mself\u001B[39;49m\u001B[38;5;241;43m.\u001B[39;49m\u001B[43m_reduce\u001B[49m\u001B[43m(\u001B[49m\n\u001B[1;32m  12375\u001B[0m \u001B[43m    \u001B[49m\u001B[43mfunc\u001B[49m\u001B[43m,\u001B[49m\u001B[43m \u001B[49m\u001B[43mname\u001B[49m\u001B[38;5;241;43m=\u001B[39;49m\u001B[43mname\u001B[49m\u001B[43m,\u001B[49m\u001B[43m \u001B[49m\u001B[43maxis\u001B[49m\u001B[38;5;241;43m=\u001B[39;49m\u001B[43maxis\u001B[49m\u001B[43m,\u001B[49m\u001B[43m \u001B[49m\u001B[43mskipna\u001B[49m\u001B[38;5;241;43m=\u001B[39;49m\u001B[43mskipna\u001B[49m\u001B[43m,\u001B[49m\u001B[43m \u001B[49m\u001B[43mnumeric_only\u001B[49m\u001B[38;5;241;43m=\u001B[39;49m\u001B[43mnumeric_only\u001B[49m\n\u001B[1;32m  12376\u001B[0m \u001B[43m\u001B[49m\u001B[43m)\u001B[49m\n",
      "File \u001B[0;32m~/notebooks/venv/lib/python3.11/site-packages/pandas/core/series.py:6448\u001B[0m, in \u001B[0;36mSeries._reduce\u001B[0;34m(self, op, name, axis, skipna, numeric_only, filter_type, **kwds)\u001B[0m\n\u001B[1;32m   6444\u001B[0m     \u001B[38;5;28;01mraise\u001B[39;00m \u001B[38;5;167;01mTypeError\u001B[39;00m(\n\u001B[1;32m   6445\u001B[0m         \u001B[38;5;124mf\u001B[39m\u001B[38;5;124m\"\u001B[39m\u001B[38;5;124mSeries.\u001B[39m\u001B[38;5;132;01m{\u001B[39;00mname\u001B[38;5;132;01m}\u001B[39;00m\u001B[38;5;124m does not allow \u001B[39m\u001B[38;5;132;01m{\u001B[39;00mkwd_name\u001B[38;5;132;01m}\u001B[39;00m\u001B[38;5;124m=\u001B[39m\u001B[38;5;132;01m{\u001B[39;00mnumeric_only\u001B[38;5;132;01m}\u001B[39;00m\u001B[38;5;124m \u001B[39m\u001B[38;5;124m\"\u001B[39m\n\u001B[1;32m   6446\u001B[0m         \u001B[38;5;124m\"\u001B[39m\u001B[38;5;124mwith non-numeric dtypes.\u001B[39m\u001B[38;5;124m\"\u001B[39m\n\u001B[1;32m   6447\u001B[0m     )\n\u001B[0;32m-> 6448\u001B[0m \u001B[38;5;28;01mreturn\u001B[39;00m \u001B[43mop\u001B[49m\u001B[43m(\u001B[49m\u001B[43mdelegate\u001B[49m\u001B[43m,\u001B[49m\u001B[43m \u001B[49m\u001B[43mskipna\u001B[49m\u001B[38;5;241;43m=\u001B[39;49m\u001B[43mskipna\u001B[49m\u001B[43m,\u001B[49m\u001B[43m \u001B[49m\u001B[38;5;241;43m*\u001B[39;49m\u001B[38;5;241;43m*\u001B[39;49m\u001B[43mkwds\u001B[49m\u001B[43m)\u001B[49m\n",
      "File \u001B[0;32m~/notebooks/venv/lib/python3.11/site-packages/pandas/core/nanops.py:147\u001B[0m, in \u001B[0;36mbottleneck_switch.__call__.<locals>.f\u001B[0;34m(values, axis, skipna, **kwds)\u001B[0m\n\u001B[1;32m    146\u001B[0m \u001B[38;5;28;01melse\u001B[39;00m:\n\u001B[0;32m--> 147\u001B[0m     result \u001B[38;5;241m=\u001B[39m \u001B[43malt\u001B[49m\u001B[43m(\u001B[49m\u001B[43mvalues\u001B[49m\u001B[43m,\u001B[49m\u001B[43m \u001B[49m\u001B[43maxis\u001B[49m\u001B[38;5;241;43m=\u001B[39;49m\u001B[43maxis\u001B[49m\u001B[43m,\u001B[49m\u001B[43m \u001B[49m\u001B[43mskipna\u001B[49m\u001B[38;5;241;43m=\u001B[39;49m\u001B[43mskipna\u001B[49m\u001B[43m,\u001B[49m\u001B[43m \u001B[49m\u001B[38;5;241;43m*\u001B[39;49m\u001B[38;5;241;43m*\u001B[39;49m\u001B[43mkwds\u001B[49m\u001B[43m)\u001B[49m\n\u001B[1;32m    149\u001B[0m \u001B[38;5;28;01mreturn\u001B[39;00m result\n",
      "File \u001B[0;32m~/notebooks/venv/lib/python3.11/site-packages/pandas/core/nanops.py:404\u001B[0m, in \u001B[0;36m_datetimelike_compat.<locals>.new_func\u001B[0;34m(values, axis, skipna, mask, **kwargs)\u001B[0m\n\u001B[1;32m    402\u001B[0m     mask \u001B[38;5;241m=\u001B[39m isna(values)\n\u001B[0;32m--> 404\u001B[0m result \u001B[38;5;241m=\u001B[39m \u001B[43mfunc\u001B[49m\u001B[43m(\u001B[49m\u001B[43mvalues\u001B[49m\u001B[43m,\u001B[49m\u001B[43m \u001B[49m\u001B[43maxis\u001B[49m\u001B[38;5;241;43m=\u001B[39;49m\u001B[43maxis\u001B[49m\u001B[43m,\u001B[49m\u001B[43m \u001B[49m\u001B[43mskipna\u001B[49m\u001B[38;5;241;43m=\u001B[39;49m\u001B[43mskipna\u001B[49m\u001B[43m,\u001B[49m\u001B[43m \u001B[49m\u001B[43mmask\u001B[49m\u001B[38;5;241;43m=\u001B[39;49m\u001B[43mmask\u001B[49m\u001B[43m,\u001B[49m\u001B[43m \u001B[49m\u001B[38;5;241;43m*\u001B[39;49m\u001B[38;5;241;43m*\u001B[39;49m\u001B[43mkwargs\u001B[49m\u001B[43m)\u001B[49m\n\u001B[1;32m    406\u001B[0m \u001B[38;5;28;01mif\u001B[39;00m datetimelike:\n",
      "File \u001B[0;32m~/notebooks/venv/lib/python3.11/site-packages/pandas/core/nanops.py:720\u001B[0m, in \u001B[0;36mnanmean\u001B[0;34m(values, axis, skipna, mask)\u001B[0m\n\u001B[1;32m    719\u001B[0m the_sum \u001B[38;5;241m=\u001B[39m values\u001B[38;5;241m.\u001B[39msum(axis, dtype\u001B[38;5;241m=\u001B[39mdtype_sum)\n\u001B[0;32m--> 720\u001B[0m the_sum \u001B[38;5;241m=\u001B[39m \u001B[43m_ensure_numeric\u001B[49m\u001B[43m(\u001B[49m\u001B[43mthe_sum\u001B[49m\u001B[43m)\u001B[49m\n\u001B[1;32m    722\u001B[0m \u001B[38;5;28;01mif\u001B[39;00m axis \u001B[38;5;129;01mis\u001B[39;00m \u001B[38;5;129;01mnot\u001B[39;00m \u001B[38;5;28;01mNone\u001B[39;00m \u001B[38;5;129;01mand\u001B[39;00m \u001B[38;5;28mgetattr\u001B[39m(the_sum, \u001B[38;5;124m\"\u001B[39m\u001B[38;5;124mndim\u001B[39m\u001B[38;5;124m\"\u001B[39m, \u001B[38;5;28;01mFalse\u001B[39;00m):\n",
      "File \u001B[0;32m~/notebooks/venv/lib/python3.11/site-packages/pandas/core/nanops.py:1701\u001B[0m, in \u001B[0;36m_ensure_numeric\u001B[0;34m(x)\u001B[0m\n\u001B[1;32m   1699\u001B[0m \u001B[38;5;28;01mif\u001B[39;00m \u001B[38;5;28misinstance\u001B[39m(x, \u001B[38;5;28mstr\u001B[39m):\n\u001B[1;32m   1700\u001B[0m     \u001B[38;5;66;03m# GH#44008, GH#36703 avoid casting e.g. strings to numeric\u001B[39;00m\n\u001B[0;32m-> 1701\u001B[0m     \u001B[38;5;28;01mraise\u001B[39;00m \u001B[38;5;167;01mTypeError\u001B[39;00m(\u001B[38;5;124mf\u001B[39m\u001B[38;5;124m\"\u001B[39m\u001B[38;5;124mCould not convert string \u001B[39m\u001B[38;5;124m'\u001B[39m\u001B[38;5;132;01m{\u001B[39;00mx\u001B[38;5;132;01m}\u001B[39;00m\u001B[38;5;124m'\u001B[39m\u001B[38;5;124m to numeric\u001B[39m\u001B[38;5;124m\"\u001B[39m)\n\u001B[1;32m   1702\u001B[0m \u001B[38;5;28;01mtry\u001B[39;00m:\n",
      "\u001B[0;31mTypeError\u001B[0m: Could not convert string '13016515015014019822021522519017016015022595959785884687909511390215200210193' to numeric",
      "\nThe above exception was the direct cause of the following exception:\n",
      "\u001B[0;31mTypeError\u001B[0m                                 Traceback (most recent call last)",
      "Cell \u001B[0;32mIn[76], line 1\u001B[0m\n\u001B[0;32m----> 1\u001B[0m \u001B[43mdf\u001B[49m\u001B[38;5;241;43m.\u001B[39;49m\u001B[43mgroupby\u001B[49m\u001B[43m(\u001B[49m\u001B[38;5;124;43m'\u001B[39;49m\u001B[38;5;124;43mmodel_year\u001B[39;49m\u001B[38;5;124;43m'\u001B[39;49m\u001B[43m)\u001B[49m\u001B[38;5;241;43m.\u001B[39;49m\u001B[43mmean\u001B[49m\u001B[43m(\u001B[49m\u001B[43m)\u001B[49m[\u001B[38;5;124m'\u001B[39m\u001B[38;5;124mmpg\u001B[39m\u001B[38;5;124m'\u001B[39m]\n",
      "File \u001B[0;32m~/notebooks/venv/lib/python3.11/site-packages/pandas/core/groupby/groupby.py:2452\u001B[0m, in \u001B[0;36mGroupBy.mean\u001B[0;34m(self, numeric_only, engine, engine_kwargs)\u001B[0m\n\u001B[1;32m   2445\u001B[0m     \u001B[38;5;28;01mreturn\u001B[39;00m \u001B[38;5;28mself\u001B[39m\u001B[38;5;241m.\u001B[39m_numba_agg_general(\n\u001B[1;32m   2446\u001B[0m         grouped_mean,\n\u001B[1;32m   2447\u001B[0m         executor\u001B[38;5;241m.\u001B[39mfloat_dtype_mapping,\n\u001B[1;32m   2448\u001B[0m         engine_kwargs,\n\u001B[1;32m   2449\u001B[0m         min_periods\u001B[38;5;241m=\u001B[39m\u001B[38;5;241m0\u001B[39m,\n\u001B[1;32m   2450\u001B[0m     )\n\u001B[1;32m   2451\u001B[0m \u001B[38;5;28;01melse\u001B[39;00m:\n\u001B[0;32m-> 2452\u001B[0m     result \u001B[38;5;241m=\u001B[39m \u001B[38;5;28;43mself\u001B[39;49m\u001B[38;5;241;43m.\u001B[39;49m\u001B[43m_cython_agg_general\u001B[49m\u001B[43m(\u001B[49m\n\u001B[1;32m   2453\u001B[0m \u001B[43m        \u001B[49m\u001B[38;5;124;43m\"\u001B[39;49m\u001B[38;5;124;43mmean\u001B[39;49m\u001B[38;5;124;43m\"\u001B[39;49m\u001B[43m,\u001B[49m\n\u001B[1;32m   2454\u001B[0m \u001B[43m        \u001B[49m\u001B[43malt\u001B[49m\u001B[38;5;241;43m=\u001B[39;49m\u001B[38;5;28;43;01mlambda\u001B[39;49;00m\u001B[43m \u001B[49m\u001B[43mx\u001B[49m\u001B[43m:\u001B[49m\u001B[43m \u001B[49m\u001B[43mSeries\u001B[49m\u001B[43m(\u001B[49m\u001B[43mx\u001B[49m\u001B[43m,\u001B[49m\u001B[43m \u001B[49m\u001B[43mcopy\u001B[49m\u001B[38;5;241;43m=\u001B[39;49m\u001B[38;5;28;43;01mFalse\u001B[39;49;00m\u001B[43m)\u001B[49m\u001B[38;5;241;43m.\u001B[39;49m\u001B[43mmean\u001B[49m\u001B[43m(\u001B[49m\u001B[43mnumeric_only\u001B[49m\u001B[38;5;241;43m=\u001B[39;49m\u001B[43mnumeric_only\u001B[49m\u001B[43m)\u001B[49m\u001B[43m,\u001B[49m\n\u001B[1;32m   2455\u001B[0m \u001B[43m        \u001B[49m\u001B[43mnumeric_only\u001B[49m\u001B[38;5;241;43m=\u001B[39;49m\u001B[43mnumeric_only\u001B[49m\u001B[43m,\u001B[49m\n\u001B[1;32m   2456\u001B[0m \u001B[43m    \u001B[49m\u001B[43m)\u001B[49m\n\u001B[1;32m   2457\u001B[0m     \u001B[38;5;28;01mreturn\u001B[39;00m result\u001B[38;5;241m.\u001B[39m__finalize__(\u001B[38;5;28mself\u001B[39m\u001B[38;5;241m.\u001B[39mobj, method\u001B[38;5;241m=\u001B[39m\u001B[38;5;124m\"\u001B[39m\u001B[38;5;124mgroupby\u001B[39m\u001B[38;5;124m\"\u001B[39m)\n",
      "File \u001B[0;32m~/notebooks/venv/lib/python3.11/site-packages/pandas/core/groupby/groupby.py:1998\u001B[0m, in \u001B[0;36mGroupBy._cython_agg_general\u001B[0;34m(self, how, alt, numeric_only, min_count, **kwargs)\u001B[0m\n\u001B[1;32m   1995\u001B[0m     result \u001B[38;5;241m=\u001B[39m \u001B[38;5;28mself\u001B[39m\u001B[38;5;241m.\u001B[39m_agg_py_fallback(how, values, ndim\u001B[38;5;241m=\u001B[39mdata\u001B[38;5;241m.\u001B[39mndim, alt\u001B[38;5;241m=\u001B[39malt)\n\u001B[1;32m   1996\u001B[0m     \u001B[38;5;28;01mreturn\u001B[39;00m result\n\u001B[0;32m-> 1998\u001B[0m new_mgr \u001B[38;5;241m=\u001B[39m \u001B[43mdata\u001B[49m\u001B[38;5;241;43m.\u001B[39;49m\u001B[43mgrouped_reduce\u001B[49m\u001B[43m(\u001B[49m\u001B[43marray_func\u001B[49m\u001B[43m)\u001B[49m\n\u001B[1;32m   1999\u001B[0m res \u001B[38;5;241m=\u001B[39m \u001B[38;5;28mself\u001B[39m\u001B[38;5;241m.\u001B[39m_wrap_agged_manager(new_mgr)\n\u001B[1;32m   2000\u001B[0m \u001B[38;5;28;01mif\u001B[39;00m how \u001B[38;5;129;01min\u001B[39;00m [\u001B[38;5;124m\"\u001B[39m\u001B[38;5;124midxmin\u001B[39m\u001B[38;5;124m\"\u001B[39m, \u001B[38;5;124m\"\u001B[39m\u001B[38;5;124midxmax\u001B[39m\u001B[38;5;124m\"\u001B[39m]:\n",
      "File \u001B[0;32m~/notebooks/venv/lib/python3.11/site-packages/pandas/core/internals/managers.py:1469\u001B[0m, in \u001B[0;36mBlockManager.grouped_reduce\u001B[0;34m(self, func)\u001B[0m\n\u001B[1;32m   1465\u001B[0m \u001B[38;5;28;01mif\u001B[39;00m blk\u001B[38;5;241m.\u001B[39mis_object:\n\u001B[1;32m   1466\u001B[0m     \u001B[38;5;66;03m# split on object-dtype blocks bc some columns may raise\u001B[39;00m\n\u001B[1;32m   1467\u001B[0m     \u001B[38;5;66;03m#  while others do not.\u001B[39;00m\n\u001B[1;32m   1468\u001B[0m     \u001B[38;5;28;01mfor\u001B[39;00m sb \u001B[38;5;129;01min\u001B[39;00m blk\u001B[38;5;241m.\u001B[39m_split():\n\u001B[0;32m-> 1469\u001B[0m         applied \u001B[38;5;241m=\u001B[39m \u001B[43msb\u001B[49m\u001B[38;5;241;43m.\u001B[39;49m\u001B[43mapply\u001B[49m\u001B[43m(\u001B[49m\u001B[43mfunc\u001B[49m\u001B[43m)\u001B[49m\n\u001B[1;32m   1470\u001B[0m         result_blocks \u001B[38;5;241m=\u001B[39m extend_blocks(applied, result_blocks)\n\u001B[1;32m   1471\u001B[0m \u001B[38;5;28;01melse\u001B[39;00m:\n",
      "File \u001B[0;32m~/notebooks/venv/lib/python3.11/site-packages/pandas/core/internals/blocks.py:393\u001B[0m, in \u001B[0;36mBlock.apply\u001B[0;34m(self, func, **kwargs)\u001B[0m\n\u001B[1;32m    387\u001B[0m \u001B[38;5;129m@final\u001B[39m\n\u001B[1;32m    388\u001B[0m \u001B[38;5;28;01mdef\u001B[39;00m \u001B[38;5;21mapply\u001B[39m(\u001B[38;5;28mself\u001B[39m, func, \u001B[38;5;241m*\u001B[39m\u001B[38;5;241m*\u001B[39mkwargs) \u001B[38;5;241m-\u001B[39m\u001B[38;5;241m>\u001B[39m \u001B[38;5;28mlist\u001B[39m[Block]:\n\u001B[1;32m    389\u001B[0m \u001B[38;5;250m    \u001B[39m\u001B[38;5;124;03m\"\"\"\u001B[39;00m\n\u001B[1;32m    390\u001B[0m \u001B[38;5;124;03m    apply the function to my values; return a block if we are not\u001B[39;00m\n\u001B[1;32m    391\u001B[0m \u001B[38;5;124;03m    one\u001B[39;00m\n\u001B[1;32m    392\u001B[0m \u001B[38;5;124;03m    \"\"\"\u001B[39;00m\n\u001B[0;32m--> 393\u001B[0m     result \u001B[38;5;241m=\u001B[39m \u001B[43mfunc\u001B[49m\u001B[43m(\u001B[49m\u001B[38;5;28;43mself\u001B[39;49m\u001B[38;5;241;43m.\u001B[39;49m\u001B[43mvalues\u001B[49m\u001B[43m,\u001B[49m\u001B[43m \u001B[49m\u001B[38;5;241;43m*\u001B[39;49m\u001B[38;5;241;43m*\u001B[39;49m\u001B[43mkwargs\u001B[49m\u001B[43m)\u001B[49m\n\u001B[1;32m    395\u001B[0m     result \u001B[38;5;241m=\u001B[39m maybe_coerce_values(result)\n\u001B[1;32m    396\u001B[0m     \u001B[38;5;28;01mreturn\u001B[39;00m \u001B[38;5;28mself\u001B[39m\u001B[38;5;241m.\u001B[39m_split_op_result(result)\n",
      "File \u001B[0;32m~/notebooks/venv/lib/python3.11/site-packages/pandas/core/groupby/groupby.py:1995\u001B[0m, in \u001B[0;36mGroupBy._cython_agg_general.<locals>.array_func\u001B[0;34m(values)\u001B[0m\n\u001B[1;32m   1992\u001B[0m     \u001B[38;5;28;01mreturn\u001B[39;00m result\n\u001B[1;32m   1994\u001B[0m \u001B[38;5;28;01massert\u001B[39;00m alt \u001B[38;5;129;01mis\u001B[39;00m \u001B[38;5;129;01mnot\u001B[39;00m \u001B[38;5;28;01mNone\u001B[39;00m\n\u001B[0;32m-> 1995\u001B[0m result \u001B[38;5;241m=\u001B[39m \u001B[38;5;28;43mself\u001B[39;49m\u001B[38;5;241;43m.\u001B[39;49m\u001B[43m_agg_py_fallback\u001B[49m\u001B[43m(\u001B[49m\u001B[43mhow\u001B[49m\u001B[43m,\u001B[49m\u001B[43m \u001B[49m\u001B[43mvalues\u001B[49m\u001B[43m,\u001B[49m\u001B[43m \u001B[49m\u001B[43mndim\u001B[49m\u001B[38;5;241;43m=\u001B[39;49m\u001B[43mdata\u001B[49m\u001B[38;5;241;43m.\u001B[39;49m\u001B[43mndim\u001B[49m\u001B[43m,\u001B[49m\u001B[43m \u001B[49m\u001B[43malt\u001B[49m\u001B[38;5;241;43m=\u001B[39;49m\u001B[43malt\u001B[49m\u001B[43m)\u001B[49m\n\u001B[1;32m   1996\u001B[0m \u001B[38;5;28;01mreturn\u001B[39;00m result\n",
      "File \u001B[0;32m~/notebooks/venv/lib/python3.11/site-packages/pandas/core/groupby/groupby.py:1946\u001B[0m, in \u001B[0;36mGroupBy._agg_py_fallback\u001B[0;34m(self, how, values, ndim, alt)\u001B[0m\n\u001B[1;32m   1944\u001B[0m     msg \u001B[38;5;241m=\u001B[39m \u001B[38;5;124mf\u001B[39m\u001B[38;5;124m\"\u001B[39m\u001B[38;5;124magg function failed [how->\u001B[39m\u001B[38;5;132;01m{\u001B[39;00mhow\u001B[38;5;132;01m}\u001B[39;00m\u001B[38;5;124m,dtype->\u001B[39m\u001B[38;5;132;01m{\u001B[39;00mser\u001B[38;5;241m.\u001B[39mdtype\u001B[38;5;132;01m}\u001B[39;00m\u001B[38;5;124m]\u001B[39m\u001B[38;5;124m\"\u001B[39m\n\u001B[1;32m   1945\u001B[0m     \u001B[38;5;66;03m# preserve the kind of exception that raised\u001B[39;00m\n\u001B[0;32m-> 1946\u001B[0m     \u001B[38;5;28;01mraise\u001B[39;00m \u001B[38;5;28mtype\u001B[39m(err)(msg) \u001B[38;5;28;01mfrom\u001B[39;00m \u001B[38;5;21;01merr\u001B[39;00m\n\u001B[1;32m   1948\u001B[0m \u001B[38;5;28;01mif\u001B[39;00m ser\u001B[38;5;241m.\u001B[39mdtype \u001B[38;5;241m==\u001B[39m \u001B[38;5;28mobject\u001B[39m:\n\u001B[1;32m   1949\u001B[0m     res_values \u001B[38;5;241m=\u001B[39m res_values\u001B[38;5;241m.\u001B[39mastype(\u001B[38;5;28mobject\u001B[39m, copy\u001B[38;5;241m=\u001B[39m\u001B[38;5;28;01mFalse\u001B[39;00m)\n",
      "\u001B[0;31mTypeError\u001B[0m: agg function failed [how->mean,dtype->object]"
     ]
    }
   ],
   "source": [
    "df.groupby('model_year').mean()['mpg']"
   ]
  },
  {
   "cell_type": "code",
   "execution_count": null,
   "metadata": {
    "ExecuteTime": {
     "end_time": "2024-03-30T16:21:26.949044Z",
     "start_time": "2024-03-30T16:21:26.948844Z"
    }
   },
   "outputs": [],
   "source": [
    "df.groupby('model_year').describe()"
   ]
  },
  {
   "cell_type": "code",
   "execution_count": 77,
   "metadata": {
    "ExecuteTime": {
     "end_time": "2024-03-30T16:21:27.039810Z",
     "start_time": "2024-03-30T16:21:26.983519Z"
    }
   },
   "outputs": [
    {
     "data": {
      "text/plain": "model_year                   70           71           72           73  \\\nmpg          count    29.000000    28.000000    28.000000    40.000000   \n             mean     17.689655    21.250000    18.714286    17.100000   \n             std       5.339231     6.591942     5.435529     4.700245   \n             min       9.000000    12.000000    11.000000    11.000000   \n             25%      14.000000    15.500000    13.750000    13.000000   \n             50%      16.000000    19.000000    18.500000    16.000000   \n             75%      22.000000    27.000000    23.000000    20.000000   \n             max      27.000000    35.000000    28.000000    29.000000   \ncylinders    count    29.000000    28.000000    28.000000    40.000000   \n             mean      6.758621     5.571429     5.821429     6.375000   \n             std       1.724926     1.665079     2.073708     1.807215   \n             min       4.000000     4.000000     3.000000     3.000000   \n             25%       6.000000     4.000000     4.000000     4.000000   \n             50%       8.000000     6.000000     4.000000     7.000000   \n             75%       8.000000     6.500000     8.000000     8.000000   \n             max       8.000000     8.000000     8.000000     8.000000   \ndisplacement count    29.000000    28.000000    28.000000    40.000000   \n             mean    281.413793   209.750000   218.375000   256.875000   \n             std     124.421380   115.102410   123.781964   121.722085   \n             min      97.000000    71.000000    70.000000    68.000000   \n             25%     198.000000    97.750000   109.250000   121.750000   \n             50%     307.000000   228.500000   131.000000   276.000000   \n             75%     383.000000   273.000000   326.000000   350.250000   \n             max     455.000000   400.000000   429.000000   455.000000   \nweight       count    29.000000    28.000000    28.000000    40.000000   \n             mean   3372.793103  2995.428571  3237.714286  3419.025000   \n             std     852.868663  1061.830859   974.520960   974.809133   \n             min    1835.000000  1613.000000  2100.000000  1867.000000   \n             25%    2648.000000  2110.750000  2285.500000  2554.500000   \n             50%    3449.000000  2798.000000  2956.000000  3338.500000   \n             75%    4312.000000  3603.250000  4169.750000  4247.250000   \n             max    4732.000000  5140.000000  4633.000000  4997.000000   \nacceleration count    29.000000    28.000000    28.000000    40.000000   \n             mean     12.948276    15.142857    15.125000    14.312500   \n             std       3.330982     2.666171     2.850032     2.754222   \n             min       8.000000    11.500000    11.000000     9.500000   \n             25%      10.000000    13.375000    13.375000    12.500000   \n             50%      12.500000    14.500000    14.500000    14.000000   \n             75%      15.000000    16.125000    16.625000    16.000000   \n             max      20.500000    20.500000    23.500000    21.000000   \norigin       count    29.000000    28.000000    28.000000    40.000000   \n             mean      1.310345     1.428571     1.535714     1.375000   \n             std       0.603765     0.741798     0.792658     0.667467   \n             min       1.000000     1.000000     1.000000     1.000000   \n             25%       1.000000     1.000000     1.000000     1.000000   \n             50%       1.000000     1.000000     1.000000     1.000000   \n             75%       1.000000     2.000000     2.000000     2.000000   \n             max       3.000000     3.000000     3.000000     3.000000   \n\nmodel_year                   74           75           76           77  \\\nmpg          count    27.000000    30.000000    34.000000    28.000000   \n             mean     22.703704    20.266667    21.573529    23.375000   \n             std       6.420010     4.940566     5.889297     6.675862   \n             min      13.000000    13.000000    13.000000    15.000000   \n             25%      16.000000    16.000000    16.750000    17.375000   \n             50%      24.000000    19.500000    21.000000    21.750000   \n             75%      27.000000    23.000000    26.375000    30.000000   \n             max      32.000000    33.000000    33.000000    36.000000   \ncylinders    count    27.000000    30.000000    34.000000    28.000000   \n             mean      5.259259     5.600000     5.647059     5.464286   \n             std       1.583390     1.522249     1.667558     1.815206   \n             min       4.000000     4.000000     4.000000     3.000000   \n             25%       4.000000     4.000000     4.000000     4.000000   \n             50%       4.000000     6.000000     6.000000     4.000000   \n             75%       6.000000     6.000000     7.500000     8.000000   \n             max       8.000000     8.000000     8.000000     8.000000   \ndisplacement count    27.000000    30.000000    34.000000    28.000000   \n             mean    171.740741   205.533333   197.794118   191.392857   \n             std      92.601127    87.669730    94.422256   107.813742   \n             min      71.000000    90.000000    85.000000    79.000000   \n             25%      90.000000   121.000000   102.500000    97.750000   \n             50%     122.000000   228.000000   184.000000   143.000000   \n             75%     250.000000   250.000000   291.000000   270.500000   \n             max     350.000000   400.000000   351.000000   400.000000   \nweight       count    27.000000    30.000000    34.000000    28.000000   \n             mean   2877.925926  3176.800000  3078.735294  2997.357143   \n             std     949.308571   765.179781   821.371481   912.825902   \n             min    1649.000000  1795.000000  1795.000000  1825.000000   \n             25%    2116.500000  2676.750000  2228.750000  2135.000000   \n             50%    2489.000000  3098.500000  3171.500000  2747.500000   \n             75%    3622.500000  3662.250000  3803.750000  3925.000000   \n             max    4699.000000  4668.000000  4380.000000  4335.000000   \nacceleration count    27.000000    30.000000    34.000000    28.000000   \n             mean     16.203704    16.050000    15.941176    15.435714   \n             std       1.688532     2.471737     2.801419     2.273391   \n             min      13.500000    11.500000    12.000000    11.100000   \n             25%      15.250000    14.125000    13.925000    14.000000   \n             50%      16.000000    16.000000    15.500000    15.650000   \n             75%      17.000000    17.375000    17.550000    16.925000   \n             max      21.000000    21.000000    22.200000    19.000000   \norigin       count    27.000000    30.000000    34.000000    28.000000   \n             mean      1.666667     1.466667     1.470588     1.571429   \n             std       0.832050     0.730297     0.706476     0.835711   \n             min       1.000000     1.000000     1.000000     1.000000   \n             25%       1.000000     1.000000     1.000000     1.000000   \n             50%       1.000000     1.000000     1.000000     1.000000   \n             75%       2.000000     2.000000     2.000000     2.000000   \n             max       3.000000     3.000000     3.000000     3.000000   \n\nmodel_year                   78           79           80           81  \\\nmpg          count    36.000000    29.000000    29.000000    29.000000   \n             mean     24.061111    25.093103    33.696552    30.334483   \n             std       6.898044     6.794217     7.037983     5.591465   \n             min      16.200000    15.500000    19.100000    17.600000   \n             25%      19.350000    19.200000    29.800000    26.600000   \n             50%      20.700000    23.900000    32.700000    31.600000   \n             75%      28.000000    31.800000    38.100000    34.400000   \n             max      43.100000    37.300000    46.600000    39.100000   \ncylinders    count    36.000000    29.000000    29.000000    29.000000   \n             mean      5.361111     5.827586     4.137931     4.620690   \n             std       1.495761     1.774199     0.580895     1.082781   \n             min       4.000000     4.000000     3.000000     4.000000   \n             25%       4.000000     4.000000     4.000000     4.000000   \n             50%       5.500000     6.000000     4.000000     4.000000   \n             75%       6.000000     8.000000     4.000000     6.000000   \n             max       8.000000     8.000000     6.000000     8.000000   \ndisplacement count    36.000000    29.000000    29.000000    29.000000   \n             mean    177.805556   206.689655   115.827586   135.310345   \n             std      76.012713    96.307581    33.744914    58.387929   \n             min      78.000000    85.000000    70.000000    79.000000   \n             25%     115.500000   121.000000    90.000000    98.000000   \n             50%     159.500000   183.000000   107.000000   119.000000   \n             75%     231.000000   302.000000   140.000000   151.000000   \n             max     318.000000   360.000000   225.000000   350.000000   \nweight       count    36.000000    29.000000    29.000000    29.000000   \n             mean   2861.805556  3055.344828  2436.655172  2522.931034   \n             std     626.023907   747.881497   432.235491   533.600501   \n             min    1800.000000  1915.000000  1835.000000  1755.000000   \n             25%    2282.500000  2556.000000  2110.000000  2065.000000   \n             50%    2910.000000  3190.000000  2335.000000  2385.000000   \n             75%    3410.000000  3725.000000  2800.000000  2900.000000   \n             max    4080.000000  4360.000000  3381.000000  3725.000000   \nacceleration count    36.000000    29.000000    29.000000    29.000000   \n             mean     15.805556    15.813793    16.934483    16.306897   \n             std       2.129915     2.952931     2.826694     2.192509   \n             min      11.200000    11.300000    11.400000    12.600000   \n             25%      14.475000    14.000000    15.100000    14.800000   \n             50%      15.750000    15.000000    16.500000    16.200000   \n             75%      16.825000    17.300000    18.700000    17.300000   \n             max      21.500000    24.800000    23.700000    20.700000   \norigin       count    36.000000    29.000000    29.000000    29.000000   \n             mean      1.611111     1.275862     2.206897     1.965517   \n             std       0.837608     0.591400     0.818505     0.944259   \n             min       1.000000     1.000000     1.000000     1.000000   \n             25%       1.000000     1.000000     2.000000     1.000000   \n             50%       1.000000     1.000000     2.000000     2.000000   \n             75%       2.000000     1.000000     3.000000     3.000000   \n             max       3.000000     3.000000     3.000000     3.000000   \n\nmodel_year                   82  \nmpg          count    31.000000  \n             mean     31.709677  \n             std       5.392548  \n             min      22.000000  \n             25%      27.000000  \n             50%      32.000000  \n             75%      36.000000  \n             max      44.000000  \ncylinders    count    31.000000  \n             mean      4.193548  \n             std       0.601074  \n             min       4.000000  \n             25%       4.000000  \n             50%       4.000000  \n             75%       4.000000  \n             max       6.000000  \ndisplacement count    31.000000  \n             mean    128.870968  \n             std      39.352037  \n             min      91.000000  \n             25%     105.000000  \n             50%     119.000000  \n             75%     142.000000  \n             max     262.000000  \nweight       count    31.000000  \n             mean   2453.548387  \n             std     354.276713  \n             min    1965.000000  \n             25%    2127.500000  \n             50%    2525.000000  \n             75%    2727.500000  \n             max    3035.000000  \nacceleration count    31.000000  \n             mean     16.638710  \n             std       2.484844  \n             min      11.600000  \n             25%      14.850000  \n             50%      16.400000  \n             75%      18.000000  \n             max      24.600000  \norigin       count    31.000000  \n             mean      1.645161  \n             std       0.914636  \n             min       1.000000  \n             25%       1.000000  \n             50%       1.000000  \n             75%       3.000000  \n             max       3.000000  ",
      "text/html": "<div>\n<style scoped>\n    .dataframe tbody tr th:only-of-type {\n        vertical-align: middle;\n    }\n\n    .dataframe tbody tr th {\n        vertical-align: top;\n    }\n\n    .dataframe thead th {\n        text-align: right;\n    }\n</style>\n<table border=\"1\" class=\"dataframe\">\n  <thead>\n    <tr style=\"text-align: right;\">\n      <th></th>\n      <th>model_year</th>\n      <th>70</th>\n      <th>71</th>\n      <th>72</th>\n      <th>73</th>\n      <th>74</th>\n      <th>75</th>\n      <th>76</th>\n      <th>77</th>\n      <th>78</th>\n      <th>79</th>\n      <th>80</th>\n      <th>81</th>\n      <th>82</th>\n    </tr>\n  </thead>\n  <tbody>\n    <tr>\n      <th rowspan=\"8\" valign=\"top\">mpg</th>\n      <th>count</th>\n      <td>29.000000</td>\n      <td>28.000000</td>\n      <td>28.000000</td>\n      <td>40.000000</td>\n      <td>27.000000</td>\n      <td>30.000000</td>\n      <td>34.000000</td>\n      <td>28.000000</td>\n      <td>36.000000</td>\n      <td>29.000000</td>\n      <td>29.000000</td>\n      <td>29.000000</td>\n      <td>31.000000</td>\n    </tr>\n    <tr>\n      <th>mean</th>\n      <td>17.689655</td>\n      <td>21.250000</td>\n      <td>18.714286</td>\n      <td>17.100000</td>\n      <td>22.703704</td>\n      <td>20.266667</td>\n      <td>21.573529</td>\n      <td>23.375000</td>\n      <td>24.061111</td>\n      <td>25.093103</td>\n      <td>33.696552</td>\n      <td>30.334483</td>\n      <td>31.709677</td>\n    </tr>\n    <tr>\n      <th>std</th>\n      <td>5.339231</td>\n      <td>6.591942</td>\n      <td>5.435529</td>\n      <td>4.700245</td>\n      <td>6.420010</td>\n      <td>4.940566</td>\n      <td>5.889297</td>\n      <td>6.675862</td>\n      <td>6.898044</td>\n      <td>6.794217</td>\n      <td>7.037983</td>\n      <td>5.591465</td>\n      <td>5.392548</td>\n    </tr>\n    <tr>\n      <th>min</th>\n      <td>9.000000</td>\n      <td>12.000000</td>\n      <td>11.000000</td>\n      <td>11.000000</td>\n      <td>13.000000</td>\n      <td>13.000000</td>\n      <td>13.000000</td>\n      <td>15.000000</td>\n      <td>16.200000</td>\n      <td>15.500000</td>\n      <td>19.100000</td>\n      <td>17.600000</td>\n      <td>22.000000</td>\n    </tr>\n    <tr>\n      <th>25%</th>\n      <td>14.000000</td>\n      <td>15.500000</td>\n      <td>13.750000</td>\n      <td>13.000000</td>\n      <td>16.000000</td>\n      <td>16.000000</td>\n      <td>16.750000</td>\n      <td>17.375000</td>\n      <td>19.350000</td>\n      <td>19.200000</td>\n      <td>29.800000</td>\n      <td>26.600000</td>\n      <td>27.000000</td>\n    </tr>\n    <tr>\n      <th>50%</th>\n      <td>16.000000</td>\n      <td>19.000000</td>\n      <td>18.500000</td>\n      <td>16.000000</td>\n      <td>24.000000</td>\n      <td>19.500000</td>\n      <td>21.000000</td>\n      <td>21.750000</td>\n      <td>20.700000</td>\n      <td>23.900000</td>\n      <td>32.700000</td>\n      <td>31.600000</td>\n      <td>32.000000</td>\n    </tr>\n    <tr>\n      <th>75%</th>\n      <td>22.000000</td>\n      <td>27.000000</td>\n      <td>23.000000</td>\n      <td>20.000000</td>\n      <td>27.000000</td>\n      <td>23.000000</td>\n      <td>26.375000</td>\n      <td>30.000000</td>\n      <td>28.000000</td>\n      <td>31.800000</td>\n      <td>38.100000</td>\n      <td>34.400000</td>\n      <td>36.000000</td>\n    </tr>\n    <tr>\n      <th>max</th>\n      <td>27.000000</td>\n      <td>35.000000</td>\n      <td>28.000000</td>\n      <td>29.000000</td>\n      <td>32.000000</td>\n      <td>33.000000</td>\n      <td>33.000000</td>\n      <td>36.000000</td>\n      <td>43.100000</td>\n      <td>37.300000</td>\n      <td>46.600000</td>\n      <td>39.100000</td>\n      <td>44.000000</td>\n    </tr>\n    <tr>\n      <th rowspan=\"8\" valign=\"top\">cylinders</th>\n      <th>count</th>\n      <td>29.000000</td>\n      <td>28.000000</td>\n      <td>28.000000</td>\n      <td>40.000000</td>\n      <td>27.000000</td>\n      <td>30.000000</td>\n      <td>34.000000</td>\n      <td>28.000000</td>\n      <td>36.000000</td>\n      <td>29.000000</td>\n      <td>29.000000</td>\n      <td>29.000000</td>\n      <td>31.000000</td>\n    </tr>\n    <tr>\n      <th>mean</th>\n      <td>6.758621</td>\n      <td>5.571429</td>\n      <td>5.821429</td>\n      <td>6.375000</td>\n      <td>5.259259</td>\n      <td>5.600000</td>\n      <td>5.647059</td>\n      <td>5.464286</td>\n      <td>5.361111</td>\n      <td>5.827586</td>\n      <td>4.137931</td>\n      <td>4.620690</td>\n      <td>4.193548</td>\n    </tr>\n    <tr>\n      <th>std</th>\n      <td>1.724926</td>\n      <td>1.665079</td>\n      <td>2.073708</td>\n      <td>1.807215</td>\n      <td>1.583390</td>\n      <td>1.522249</td>\n      <td>1.667558</td>\n      <td>1.815206</td>\n      <td>1.495761</td>\n      <td>1.774199</td>\n      <td>0.580895</td>\n      <td>1.082781</td>\n      <td>0.601074</td>\n    </tr>\n    <tr>\n      <th>min</th>\n      <td>4.000000</td>\n      <td>4.000000</td>\n      <td>3.000000</td>\n      <td>3.000000</td>\n      <td>4.000000</td>\n      <td>4.000000</td>\n      <td>4.000000</td>\n      <td>3.000000</td>\n      <td>4.000000</td>\n      <td>4.000000</td>\n      <td>3.000000</td>\n      <td>4.000000</td>\n      <td>4.000000</td>\n    </tr>\n    <tr>\n      <th>25%</th>\n      <td>6.000000</td>\n      <td>4.000000</td>\n      <td>4.000000</td>\n      <td>4.000000</td>\n      <td>4.000000</td>\n      <td>4.000000</td>\n      <td>4.000000</td>\n      <td>4.000000</td>\n      <td>4.000000</td>\n      <td>4.000000</td>\n      <td>4.000000</td>\n      <td>4.000000</td>\n      <td>4.000000</td>\n    </tr>\n    <tr>\n      <th>50%</th>\n      <td>8.000000</td>\n      <td>6.000000</td>\n      <td>4.000000</td>\n      <td>7.000000</td>\n      <td>4.000000</td>\n      <td>6.000000</td>\n      <td>6.000000</td>\n      <td>4.000000</td>\n      <td>5.500000</td>\n      <td>6.000000</td>\n      <td>4.000000</td>\n      <td>4.000000</td>\n      <td>4.000000</td>\n    </tr>\n    <tr>\n      <th>75%</th>\n      <td>8.000000</td>\n      <td>6.500000</td>\n      <td>8.000000</td>\n      <td>8.000000</td>\n      <td>6.000000</td>\n      <td>6.000000</td>\n      <td>7.500000</td>\n      <td>8.000000</td>\n      <td>6.000000</td>\n      <td>8.000000</td>\n      <td>4.000000</td>\n      <td>6.000000</td>\n      <td>4.000000</td>\n    </tr>\n    <tr>\n      <th>max</th>\n      <td>8.000000</td>\n      <td>8.000000</td>\n      <td>8.000000</td>\n      <td>8.000000</td>\n      <td>8.000000</td>\n      <td>8.000000</td>\n      <td>8.000000</td>\n      <td>8.000000</td>\n      <td>8.000000</td>\n      <td>8.000000</td>\n      <td>6.000000</td>\n      <td>8.000000</td>\n      <td>6.000000</td>\n    </tr>\n    <tr>\n      <th rowspan=\"8\" valign=\"top\">displacement</th>\n      <th>count</th>\n      <td>29.000000</td>\n      <td>28.000000</td>\n      <td>28.000000</td>\n      <td>40.000000</td>\n      <td>27.000000</td>\n      <td>30.000000</td>\n      <td>34.000000</td>\n      <td>28.000000</td>\n      <td>36.000000</td>\n      <td>29.000000</td>\n      <td>29.000000</td>\n      <td>29.000000</td>\n      <td>31.000000</td>\n    </tr>\n    <tr>\n      <th>mean</th>\n      <td>281.413793</td>\n      <td>209.750000</td>\n      <td>218.375000</td>\n      <td>256.875000</td>\n      <td>171.740741</td>\n      <td>205.533333</td>\n      <td>197.794118</td>\n      <td>191.392857</td>\n      <td>177.805556</td>\n      <td>206.689655</td>\n      <td>115.827586</td>\n      <td>135.310345</td>\n      <td>128.870968</td>\n    </tr>\n    <tr>\n      <th>std</th>\n      <td>124.421380</td>\n      <td>115.102410</td>\n      <td>123.781964</td>\n      <td>121.722085</td>\n      <td>92.601127</td>\n      <td>87.669730</td>\n      <td>94.422256</td>\n      <td>107.813742</td>\n      <td>76.012713</td>\n      <td>96.307581</td>\n      <td>33.744914</td>\n      <td>58.387929</td>\n      <td>39.352037</td>\n    </tr>\n    <tr>\n      <th>min</th>\n      <td>97.000000</td>\n      <td>71.000000</td>\n      <td>70.000000</td>\n      <td>68.000000</td>\n      <td>71.000000</td>\n      <td>90.000000</td>\n      <td>85.000000</td>\n      <td>79.000000</td>\n      <td>78.000000</td>\n      <td>85.000000</td>\n      <td>70.000000</td>\n      <td>79.000000</td>\n      <td>91.000000</td>\n    </tr>\n    <tr>\n      <th>25%</th>\n      <td>198.000000</td>\n      <td>97.750000</td>\n      <td>109.250000</td>\n      <td>121.750000</td>\n      <td>90.000000</td>\n      <td>121.000000</td>\n      <td>102.500000</td>\n      <td>97.750000</td>\n      <td>115.500000</td>\n      <td>121.000000</td>\n      <td>90.000000</td>\n      <td>98.000000</td>\n      <td>105.000000</td>\n    </tr>\n    <tr>\n      <th>50%</th>\n      <td>307.000000</td>\n      <td>228.500000</td>\n      <td>131.000000</td>\n      <td>276.000000</td>\n      <td>122.000000</td>\n      <td>228.000000</td>\n      <td>184.000000</td>\n      <td>143.000000</td>\n      <td>159.500000</td>\n      <td>183.000000</td>\n      <td>107.000000</td>\n      <td>119.000000</td>\n      <td>119.000000</td>\n    </tr>\n    <tr>\n      <th>75%</th>\n      <td>383.000000</td>\n      <td>273.000000</td>\n      <td>326.000000</td>\n      <td>350.250000</td>\n      <td>250.000000</td>\n      <td>250.000000</td>\n      <td>291.000000</td>\n      <td>270.500000</td>\n      <td>231.000000</td>\n      <td>302.000000</td>\n      <td>140.000000</td>\n      <td>151.000000</td>\n      <td>142.000000</td>\n    </tr>\n    <tr>\n      <th>max</th>\n      <td>455.000000</td>\n      <td>400.000000</td>\n      <td>429.000000</td>\n      <td>455.000000</td>\n      <td>350.000000</td>\n      <td>400.000000</td>\n      <td>351.000000</td>\n      <td>400.000000</td>\n      <td>318.000000</td>\n      <td>360.000000</td>\n      <td>225.000000</td>\n      <td>350.000000</td>\n      <td>262.000000</td>\n    </tr>\n    <tr>\n      <th rowspan=\"8\" valign=\"top\">weight</th>\n      <th>count</th>\n      <td>29.000000</td>\n      <td>28.000000</td>\n      <td>28.000000</td>\n      <td>40.000000</td>\n      <td>27.000000</td>\n      <td>30.000000</td>\n      <td>34.000000</td>\n      <td>28.000000</td>\n      <td>36.000000</td>\n      <td>29.000000</td>\n      <td>29.000000</td>\n      <td>29.000000</td>\n      <td>31.000000</td>\n    </tr>\n    <tr>\n      <th>mean</th>\n      <td>3372.793103</td>\n      <td>2995.428571</td>\n      <td>3237.714286</td>\n      <td>3419.025000</td>\n      <td>2877.925926</td>\n      <td>3176.800000</td>\n      <td>3078.735294</td>\n      <td>2997.357143</td>\n      <td>2861.805556</td>\n      <td>3055.344828</td>\n      <td>2436.655172</td>\n      <td>2522.931034</td>\n      <td>2453.548387</td>\n    </tr>\n    <tr>\n      <th>std</th>\n      <td>852.868663</td>\n      <td>1061.830859</td>\n      <td>974.520960</td>\n      <td>974.809133</td>\n      <td>949.308571</td>\n      <td>765.179781</td>\n      <td>821.371481</td>\n      <td>912.825902</td>\n      <td>626.023907</td>\n      <td>747.881497</td>\n      <td>432.235491</td>\n      <td>533.600501</td>\n      <td>354.276713</td>\n    </tr>\n    <tr>\n      <th>min</th>\n      <td>1835.000000</td>\n      <td>1613.000000</td>\n      <td>2100.000000</td>\n      <td>1867.000000</td>\n      <td>1649.000000</td>\n      <td>1795.000000</td>\n      <td>1795.000000</td>\n      <td>1825.000000</td>\n      <td>1800.000000</td>\n      <td>1915.000000</td>\n      <td>1835.000000</td>\n      <td>1755.000000</td>\n      <td>1965.000000</td>\n    </tr>\n    <tr>\n      <th>25%</th>\n      <td>2648.000000</td>\n      <td>2110.750000</td>\n      <td>2285.500000</td>\n      <td>2554.500000</td>\n      <td>2116.500000</td>\n      <td>2676.750000</td>\n      <td>2228.750000</td>\n      <td>2135.000000</td>\n      <td>2282.500000</td>\n      <td>2556.000000</td>\n      <td>2110.000000</td>\n      <td>2065.000000</td>\n      <td>2127.500000</td>\n    </tr>\n    <tr>\n      <th>50%</th>\n      <td>3449.000000</td>\n      <td>2798.000000</td>\n      <td>2956.000000</td>\n      <td>3338.500000</td>\n      <td>2489.000000</td>\n      <td>3098.500000</td>\n      <td>3171.500000</td>\n      <td>2747.500000</td>\n      <td>2910.000000</td>\n      <td>3190.000000</td>\n      <td>2335.000000</td>\n      <td>2385.000000</td>\n      <td>2525.000000</td>\n    </tr>\n    <tr>\n      <th>75%</th>\n      <td>4312.000000</td>\n      <td>3603.250000</td>\n      <td>4169.750000</td>\n      <td>4247.250000</td>\n      <td>3622.500000</td>\n      <td>3662.250000</td>\n      <td>3803.750000</td>\n      <td>3925.000000</td>\n      <td>3410.000000</td>\n      <td>3725.000000</td>\n      <td>2800.000000</td>\n      <td>2900.000000</td>\n      <td>2727.500000</td>\n    </tr>\n    <tr>\n      <th>max</th>\n      <td>4732.000000</td>\n      <td>5140.000000</td>\n      <td>4633.000000</td>\n      <td>4997.000000</td>\n      <td>4699.000000</td>\n      <td>4668.000000</td>\n      <td>4380.000000</td>\n      <td>4335.000000</td>\n      <td>4080.000000</td>\n      <td>4360.000000</td>\n      <td>3381.000000</td>\n      <td>3725.000000</td>\n      <td>3035.000000</td>\n    </tr>\n    <tr>\n      <th rowspan=\"8\" valign=\"top\">acceleration</th>\n      <th>count</th>\n      <td>29.000000</td>\n      <td>28.000000</td>\n      <td>28.000000</td>\n      <td>40.000000</td>\n      <td>27.000000</td>\n      <td>30.000000</td>\n      <td>34.000000</td>\n      <td>28.000000</td>\n      <td>36.000000</td>\n      <td>29.000000</td>\n      <td>29.000000</td>\n      <td>29.000000</td>\n      <td>31.000000</td>\n    </tr>\n    <tr>\n      <th>mean</th>\n      <td>12.948276</td>\n      <td>15.142857</td>\n      <td>15.125000</td>\n      <td>14.312500</td>\n      <td>16.203704</td>\n      <td>16.050000</td>\n      <td>15.941176</td>\n      <td>15.435714</td>\n      <td>15.805556</td>\n      <td>15.813793</td>\n      <td>16.934483</td>\n      <td>16.306897</td>\n      <td>16.638710</td>\n    </tr>\n    <tr>\n      <th>std</th>\n      <td>3.330982</td>\n      <td>2.666171</td>\n      <td>2.850032</td>\n      <td>2.754222</td>\n      <td>1.688532</td>\n      <td>2.471737</td>\n      <td>2.801419</td>\n      <td>2.273391</td>\n      <td>2.129915</td>\n      <td>2.952931</td>\n      <td>2.826694</td>\n      <td>2.192509</td>\n      <td>2.484844</td>\n    </tr>\n    <tr>\n      <th>min</th>\n      <td>8.000000</td>\n      <td>11.500000</td>\n      <td>11.000000</td>\n      <td>9.500000</td>\n      <td>13.500000</td>\n      <td>11.500000</td>\n      <td>12.000000</td>\n      <td>11.100000</td>\n      <td>11.200000</td>\n      <td>11.300000</td>\n      <td>11.400000</td>\n      <td>12.600000</td>\n      <td>11.600000</td>\n    </tr>\n    <tr>\n      <th>25%</th>\n      <td>10.000000</td>\n      <td>13.375000</td>\n      <td>13.375000</td>\n      <td>12.500000</td>\n      <td>15.250000</td>\n      <td>14.125000</td>\n      <td>13.925000</td>\n      <td>14.000000</td>\n      <td>14.475000</td>\n      <td>14.000000</td>\n      <td>15.100000</td>\n      <td>14.800000</td>\n      <td>14.850000</td>\n    </tr>\n    <tr>\n      <th>50%</th>\n      <td>12.500000</td>\n      <td>14.500000</td>\n      <td>14.500000</td>\n      <td>14.000000</td>\n      <td>16.000000</td>\n      <td>16.000000</td>\n      <td>15.500000</td>\n      <td>15.650000</td>\n      <td>15.750000</td>\n      <td>15.000000</td>\n      <td>16.500000</td>\n      <td>16.200000</td>\n      <td>16.400000</td>\n    </tr>\n    <tr>\n      <th>75%</th>\n      <td>15.000000</td>\n      <td>16.125000</td>\n      <td>16.625000</td>\n      <td>16.000000</td>\n      <td>17.000000</td>\n      <td>17.375000</td>\n      <td>17.550000</td>\n      <td>16.925000</td>\n      <td>16.825000</td>\n      <td>17.300000</td>\n      <td>18.700000</td>\n      <td>17.300000</td>\n      <td>18.000000</td>\n    </tr>\n    <tr>\n      <th>max</th>\n      <td>20.500000</td>\n      <td>20.500000</td>\n      <td>23.500000</td>\n      <td>21.000000</td>\n      <td>21.000000</td>\n      <td>21.000000</td>\n      <td>22.200000</td>\n      <td>19.000000</td>\n      <td>21.500000</td>\n      <td>24.800000</td>\n      <td>23.700000</td>\n      <td>20.700000</td>\n      <td>24.600000</td>\n    </tr>\n    <tr>\n      <th rowspan=\"8\" valign=\"top\">origin</th>\n      <th>count</th>\n      <td>29.000000</td>\n      <td>28.000000</td>\n      <td>28.000000</td>\n      <td>40.000000</td>\n      <td>27.000000</td>\n      <td>30.000000</td>\n      <td>34.000000</td>\n      <td>28.000000</td>\n      <td>36.000000</td>\n      <td>29.000000</td>\n      <td>29.000000</td>\n      <td>29.000000</td>\n      <td>31.000000</td>\n    </tr>\n    <tr>\n      <th>mean</th>\n      <td>1.310345</td>\n      <td>1.428571</td>\n      <td>1.535714</td>\n      <td>1.375000</td>\n      <td>1.666667</td>\n      <td>1.466667</td>\n      <td>1.470588</td>\n      <td>1.571429</td>\n      <td>1.611111</td>\n      <td>1.275862</td>\n      <td>2.206897</td>\n      <td>1.965517</td>\n      <td>1.645161</td>\n    </tr>\n    <tr>\n      <th>std</th>\n      <td>0.603765</td>\n      <td>0.741798</td>\n      <td>0.792658</td>\n      <td>0.667467</td>\n      <td>0.832050</td>\n      <td>0.730297</td>\n      <td>0.706476</td>\n      <td>0.835711</td>\n      <td>0.837608</td>\n      <td>0.591400</td>\n      <td>0.818505</td>\n      <td>0.944259</td>\n      <td>0.914636</td>\n    </tr>\n    <tr>\n      <th>min</th>\n      <td>1.000000</td>\n      <td>1.000000</td>\n      <td>1.000000</td>\n      <td>1.000000</td>\n      <td>1.000000</td>\n      <td>1.000000</td>\n      <td>1.000000</td>\n      <td>1.000000</td>\n      <td>1.000000</td>\n      <td>1.000000</td>\n      <td>1.000000</td>\n      <td>1.000000</td>\n      <td>1.000000</td>\n    </tr>\n    <tr>\n      <th>25%</th>\n      <td>1.000000</td>\n      <td>1.000000</td>\n      <td>1.000000</td>\n      <td>1.000000</td>\n      <td>1.000000</td>\n      <td>1.000000</td>\n      <td>1.000000</td>\n      <td>1.000000</td>\n      <td>1.000000</td>\n      <td>1.000000</td>\n      <td>2.000000</td>\n      <td>1.000000</td>\n      <td>1.000000</td>\n    </tr>\n    <tr>\n      <th>50%</th>\n      <td>1.000000</td>\n      <td>1.000000</td>\n      <td>1.000000</td>\n      <td>1.000000</td>\n      <td>1.000000</td>\n      <td>1.000000</td>\n      <td>1.000000</td>\n      <td>1.000000</td>\n      <td>1.000000</td>\n      <td>1.000000</td>\n      <td>2.000000</td>\n      <td>2.000000</td>\n      <td>1.000000</td>\n    </tr>\n    <tr>\n      <th>75%</th>\n      <td>1.000000</td>\n      <td>2.000000</td>\n      <td>2.000000</td>\n      <td>2.000000</td>\n      <td>2.000000</td>\n      <td>2.000000</td>\n      <td>2.000000</td>\n      <td>2.000000</td>\n      <td>2.000000</td>\n      <td>1.000000</td>\n      <td>3.000000</td>\n      <td>3.000000</td>\n      <td>3.000000</td>\n    </tr>\n    <tr>\n      <th>max</th>\n      <td>3.000000</td>\n      <td>3.000000</td>\n      <td>3.000000</td>\n      <td>3.000000</td>\n      <td>3.000000</td>\n      <td>3.000000</td>\n      <td>3.000000</td>\n      <td>3.000000</td>\n      <td>3.000000</td>\n      <td>3.000000</td>\n      <td>3.000000</td>\n      <td>3.000000</td>\n      <td>3.000000</td>\n    </tr>\n  </tbody>\n</table>\n</div>"
     },
     "execution_count": 77,
     "metadata": {},
     "output_type": "execute_result"
    }
   ],
   "source": [
    "df.groupby('model_year').describe().transpose()"
   ]
  },
  {
   "cell_type": "markdown",
   "metadata": {},
   "source": [
    "## Groupby Multiple Columns\n",
    "Let's explore average mpg per year per cylinder count"
   ]
  },
  {
   "cell_type": "code",
   "execution_count": 78,
   "metadata": {
    "ExecuteTime": {
     "end_time": "2024-03-30T16:21:27.149605Z",
     "start_time": "2024-03-30T16:21:27.041339Z"
    }
   },
   "outputs": [
    {
     "ename": "TypeError",
     "evalue": "agg function failed [how->mean,dtype->object]",
     "output_type": "error",
     "traceback": [
      "\u001B[0;31m---------------------------------------------------------------------------\u001B[0m",
      "\u001B[0;31mTypeError\u001B[0m                                 Traceback (most recent call last)",
      "File \u001B[0;32m~/notebooks/venv/lib/python3.11/site-packages/pandas/core/groupby/groupby.py:1942\u001B[0m, in \u001B[0;36mGroupBy._agg_py_fallback\u001B[0;34m(self, how, values, ndim, alt)\u001B[0m\n\u001B[1;32m   1941\u001B[0m \u001B[38;5;28;01mtry\u001B[39;00m:\n\u001B[0;32m-> 1942\u001B[0m     res_values \u001B[38;5;241m=\u001B[39m \u001B[38;5;28;43mself\u001B[39;49m\u001B[38;5;241;43m.\u001B[39;49m\u001B[43m_grouper\u001B[49m\u001B[38;5;241;43m.\u001B[39;49m\u001B[43magg_series\u001B[49m\u001B[43m(\u001B[49m\u001B[43mser\u001B[49m\u001B[43m,\u001B[49m\u001B[43m \u001B[49m\u001B[43malt\u001B[49m\u001B[43m,\u001B[49m\u001B[43m \u001B[49m\u001B[43mpreserve_dtype\u001B[49m\u001B[38;5;241;43m=\u001B[39;49m\u001B[38;5;28;43;01mTrue\u001B[39;49;00m\u001B[43m)\u001B[49m\n\u001B[1;32m   1943\u001B[0m \u001B[38;5;28;01mexcept\u001B[39;00m \u001B[38;5;167;01mException\u001B[39;00m \u001B[38;5;28;01mas\u001B[39;00m err:\n",
      "File \u001B[0;32m~/notebooks/venv/lib/python3.11/site-packages/pandas/core/groupby/ops.py:864\u001B[0m, in \u001B[0;36mBaseGrouper.agg_series\u001B[0;34m(self, obj, func, preserve_dtype)\u001B[0m\n\u001B[1;32m    862\u001B[0m     preserve_dtype \u001B[38;5;241m=\u001B[39m \u001B[38;5;28;01mTrue\u001B[39;00m\n\u001B[0;32m--> 864\u001B[0m result \u001B[38;5;241m=\u001B[39m \u001B[38;5;28;43mself\u001B[39;49m\u001B[38;5;241;43m.\u001B[39;49m\u001B[43m_aggregate_series_pure_python\u001B[49m\u001B[43m(\u001B[49m\u001B[43mobj\u001B[49m\u001B[43m,\u001B[49m\u001B[43m \u001B[49m\u001B[43mfunc\u001B[49m\u001B[43m)\u001B[49m\n\u001B[1;32m    866\u001B[0m npvalues \u001B[38;5;241m=\u001B[39m lib\u001B[38;5;241m.\u001B[39mmaybe_convert_objects(result, try_float\u001B[38;5;241m=\u001B[39m\u001B[38;5;28;01mFalse\u001B[39;00m)\n",
      "File \u001B[0;32m~/notebooks/venv/lib/python3.11/site-packages/pandas/core/groupby/ops.py:885\u001B[0m, in \u001B[0;36mBaseGrouper._aggregate_series_pure_python\u001B[0;34m(self, obj, func)\u001B[0m\n\u001B[1;32m    884\u001B[0m \u001B[38;5;28;01mfor\u001B[39;00m i, group \u001B[38;5;129;01min\u001B[39;00m \u001B[38;5;28menumerate\u001B[39m(splitter):\n\u001B[0;32m--> 885\u001B[0m     res \u001B[38;5;241m=\u001B[39m \u001B[43mfunc\u001B[49m\u001B[43m(\u001B[49m\u001B[43mgroup\u001B[49m\u001B[43m)\u001B[49m\n\u001B[1;32m    886\u001B[0m     res \u001B[38;5;241m=\u001B[39m extract_result(res)\n",
      "File \u001B[0;32m~/notebooks/venv/lib/python3.11/site-packages/pandas/core/groupby/groupby.py:2454\u001B[0m, in \u001B[0;36mGroupBy.mean.<locals>.<lambda>\u001B[0;34m(x)\u001B[0m\n\u001B[1;32m   2451\u001B[0m \u001B[38;5;28;01melse\u001B[39;00m:\n\u001B[1;32m   2452\u001B[0m     result \u001B[38;5;241m=\u001B[39m \u001B[38;5;28mself\u001B[39m\u001B[38;5;241m.\u001B[39m_cython_agg_general(\n\u001B[1;32m   2453\u001B[0m         \u001B[38;5;124m\"\u001B[39m\u001B[38;5;124mmean\u001B[39m\u001B[38;5;124m\"\u001B[39m,\n\u001B[0;32m-> 2454\u001B[0m         alt\u001B[38;5;241m=\u001B[39m\u001B[38;5;28;01mlambda\u001B[39;00m x: \u001B[43mSeries\u001B[49m\u001B[43m(\u001B[49m\u001B[43mx\u001B[49m\u001B[43m,\u001B[49m\u001B[43m \u001B[49m\u001B[43mcopy\u001B[49m\u001B[38;5;241;43m=\u001B[39;49m\u001B[38;5;28;43;01mFalse\u001B[39;49;00m\u001B[43m)\u001B[49m\u001B[38;5;241;43m.\u001B[39;49m\u001B[43mmean\u001B[49m\u001B[43m(\u001B[49m\u001B[43mnumeric_only\u001B[49m\u001B[38;5;241;43m=\u001B[39;49m\u001B[43mnumeric_only\u001B[49m\u001B[43m)\u001B[49m,\n\u001B[1;32m   2455\u001B[0m         numeric_only\u001B[38;5;241m=\u001B[39mnumeric_only,\n\u001B[1;32m   2456\u001B[0m     )\n\u001B[1;32m   2457\u001B[0m     \u001B[38;5;28;01mreturn\u001B[39;00m result\u001B[38;5;241m.\u001B[39m__finalize__(\u001B[38;5;28mself\u001B[39m\u001B[38;5;241m.\u001B[39mobj, method\u001B[38;5;241m=\u001B[39m\u001B[38;5;124m\"\u001B[39m\u001B[38;5;124mgroupby\u001B[39m\u001B[38;5;124m\"\u001B[39m)\n",
      "File \u001B[0;32m~/notebooks/venv/lib/python3.11/site-packages/pandas/core/series.py:6540\u001B[0m, in \u001B[0;36mSeries.mean\u001B[0;34m(self, axis, skipna, numeric_only, **kwargs)\u001B[0m\n\u001B[1;32m   6532\u001B[0m \u001B[38;5;129m@doc\u001B[39m(make_doc(\u001B[38;5;124m\"\u001B[39m\u001B[38;5;124mmean\u001B[39m\u001B[38;5;124m\"\u001B[39m, ndim\u001B[38;5;241m=\u001B[39m\u001B[38;5;241m1\u001B[39m))\n\u001B[1;32m   6533\u001B[0m \u001B[38;5;28;01mdef\u001B[39;00m \u001B[38;5;21mmean\u001B[39m(\n\u001B[1;32m   6534\u001B[0m     \u001B[38;5;28mself\u001B[39m,\n\u001B[0;32m   (...)\u001B[0m\n\u001B[1;32m   6538\u001B[0m     \u001B[38;5;241m*\u001B[39m\u001B[38;5;241m*\u001B[39mkwargs,\n\u001B[1;32m   6539\u001B[0m ):\n\u001B[0;32m-> 6540\u001B[0m     \u001B[38;5;28;01mreturn\u001B[39;00m \u001B[43mNDFrame\u001B[49m\u001B[38;5;241;43m.\u001B[39;49m\u001B[43mmean\u001B[49m\u001B[43m(\u001B[49m\u001B[38;5;28;43mself\u001B[39;49m\u001B[43m,\u001B[49m\u001B[43m \u001B[49m\u001B[43maxis\u001B[49m\u001B[43m,\u001B[49m\u001B[43m \u001B[49m\u001B[43mskipna\u001B[49m\u001B[43m,\u001B[49m\u001B[43m \u001B[49m\u001B[43mnumeric_only\u001B[49m\u001B[43m,\u001B[49m\u001B[43m \u001B[49m\u001B[38;5;241;43m*\u001B[39;49m\u001B[38;5;241;43m*\u001B[39;49m\u001B[43mkwargs\u001B[49m\u001B[43m)\u001B[49m\n",
      "File \u001B[0;32m~/notebooks/venv/lib/python3.11/site-packages/pandas/core/generic.py:12417\u001B[0m, in \u001B[0;36mNDFrame.mean\u001B[0;34m(self, axis, skipna, numeric_only, **kwargs)\u001B[0m\n\u001B[1;32m  12410\u001B[0m \u001B[38;5;28;01mdef\u001B[39;00m \u001B[38;5;21mmean\u001B[39m(\n\u001B[1;32m  12411\u001B[0m     \u001B[38;5;28mself\u001B[39m,\n\u001B[1;32m  12412\u001B[0m     axis: Axis \u001B[38;5;241m|\u001B[39m \u001B[38;5;28;01mNone\u001B[39;00m \u001B[38;5;241m=\u001B[39m \u001B[38;5;241m0\u001B[39m,\n\u001B[0;32m   (...)\u001B[0m\n\u001B[1;32m  12415\u001B[0m     \u001B[38;5;241m*\u001B[39m\u001B[38;5;241m*\u001B[39mkwargs,\n\u001B[1;32m  12416\u001B[0m ) \u001B[38;5;241m-\u001B[39m\u001B[38;5;241m>\u001B[39m Series \u001B[38;5;241m|\u001B[39m \u001B[38;5;28mfloat\u001B[39m:\n\u001B[0;32m> 12417\u001B[0m     \u001B[38;5;28;01mreturn\u001B[39;00m \u001B[38;5;28;43mself\u001B[39;49m\u001B[38;5;241;43m.\u001B[39;49m\u001B[43m_stat_function\u001B[49m\u001B[43m(\u001B[49m\n\u001B[1;32m  12418\u001B[0m \u001B[43m        \u001B[49m\u001B[38;5;124;43m\"\u001B[39;49m\u001B[38;5;124;43mmean\u001B[39;49m\u001B[38;5;124;43m\"\u001B[39;49m\u001B[43m,\u001B[49m\u001B[43m \u001B[49m\u001B[43mnanops\u001B[49m\u001B[38;5;241;43m.\u001B[39;49m\u001B[43mnanmean\u001B[49m\u001B[43m,\u001B[49m\u001B[43m \u001B[49m\u001B[43maxis\u001B[49m\u001B[43m,\u001B[49m\u001B[43m \u001B[49m\u001B[43mskipna\u001B[49m\u001B[43m,\u001B[49m\u001B[43m \u001B[49m\u001B[43mnumeric_only\u001B[49m\u001B[43m,\u001B[49m\u001B[43m \u001B[49m\u001B[38;5;241;43m*\u001B[39;49m\u001B[38;5;241;43m*\u001B[39;49m\u001B[43mkwargs\u001B[49m\n\u001B[1;32m  12419\u001B[0m \u001B[43m    \u001B[49m\u001B[43m)\u001B[49m\n",
      "File \u001B[0;32m~/notebooks/venv/lib/python3.11/site-packages/pandas/core/generic.py:12374\u001B[0m, in \u001B[0;36mNDFrame._stat_function\u001B[0;34m(self, name, func, axis, skipna, numeric_only, **kwargs)\u001B[0m\n\u001B[1;32m  12372\u001B[0m validate_bool_kwarg(skipna, \u001B[38;5;124m\"\u001B[39m\u001B[38;5;124mskipna\u001B[39m\u001B[38;5;124m\"\u001B[39m, none_allowed\u001B[38;5;241m=\u001B[39m\u001B[38;5;28;01mFalse\u001B[39;00m)\n\u001B[0;32m> 12374\u001B[0m \u001B[38;5;28;01mreturn\u001B[39;00m \u001B[38;5;28;43mself\u001B[39;49m\u001B[38;5;241;43m.\u001B[39;49m\u001B[43m_reduce\u001B[49m\u001B[43m(\u001B[49m\n\u001B[1;32m  12375\u001B[0m \u001B[43m    \u001B[49m\u001B[43mfunc\u001B[49m\u001B[43m,\u001B[49m\u001B[43m \u001B[49m\u001B[43mname\u001B[49m\u001B[38;5;241;43m=\u001B[39;49m\u001B[43mname\u001B[49m\u001B[43m,\u001B[49m\u001B[43m \u001B[49m\u001B[43maxis\u001B[49m\u001B[38;5;241;43m=\u001B[39;49m\u001B[43maxis\u001B[49m\u001B[43m,\u001B[49m\u001B[43m \u001B[49m\u001B[43mskipna\u001B[49m\u001B[38;5;241;43m=\u001B[39;49m\u001B[43mskipna\u001B[49m\u001B[43m,\u001B[49m\u001B[43m \u001B[49m\u001B[43mnumeric_only\u001B[49m\u001B[38;5;241;43m=\u001B[39;49m\u001B[43mnumeric_only\u001B[49m\n\u001B[1;32m  12376\u001B[0m \u001B[43m\u001B[49m\u001B[43m)\u001B[49m\n",
      "File \u001B[0;32m~/notebooks/venv/lib/python3.11/site-packages/pandas/core/series.py:6448\u001B[0m, in \u001B[0;36mSeries._reduce\u001B[0;34m(self, op, name, axis, skipna, numeric_only, filter_type, **kwds)\u001B[0m\n\u001B[1;32m   6444\u001B[0m     \u001B[38;5;28;01mraise\u001B[39;00m \u001B[38;5;167;01mTypeError\u001B[39;00m(\n\u001B[1;32m   6445\u001B[0m         \u001B[38;5;124mf\u001B[39m\u001B[38;5;124m\"\u001B[39m\u001B[38;5;124mSeries.\u001B[39m\u001B[38;5;132;01m{\u001B[39;00mname\u001B[38;5;132;01m}\u001B[39;00m\u001B[38;5;124m does not allow \u001B[39m\u001B[38;5;132;01m{\u001B[39;00mkwd_name\u001B[38;5;132;01m}\u001B[39;00m\u001B[38;5;124m=\u001B[39m\u001B[38;5;132;01m{\u001B[39;00mnumeric_only\u001B[38;5;132;01m}\u001B[39;00m\u001B[38;5;124m \u001B[39m\u001B[38;5;124m\"\u001B[39m\n\u001B[1;32m   6446\u001B[0m         \u001B[38;5;124m\"\u001B[39m\u001B[38;5;124mwith non-numeric dtypes.\u001B[39m\u001B[38;5;124m\"\u001B[39m\n\u001B[1;32m   6447\u001B[0m     )\n\u001B[0;32m-> 6448\u001B[0m \u001B[38;5;28;01mreturn\u001B[39;00m \u001B[43mop\u001B[49m\u001B[43m(\u001B[49m\u001B[43mdelegate\u001B[49m\u001B[43m,\u001B[49m\u001B[43m \u001B[49m\u001B[43mskipna\u001B[49m\u001B[38;5;241;43m=\u001B[39;49m\u001B[43mskipna\u001B[49m\u001B[43m,\u001B[49m\u001B[43m \u001B[49m\u001B[38;5;241;43m*\u001B[39;49m\u001B[38;5;241;43m*\u001B[39;49m\u001B[43mkwds\u001B[49m\u001B[43m)\u001B[49m\n",
      "File \u001B[0;32m~/notebooks/venv/lib/python3.11/site-packages/pandas/core/nanops.py:147\u001B[0m, in \u001B[0;36mbottleneck_switch.__call__.<locals>.f\u001B[0;34m(values, axis, skipna, **kwds)\u001B[0m\n\u001B[1;32m    146\u001B[0m \u001B[38;5;28;01melse\u001B[39;00m:\n\u001B[0;32m--> 147\u001B[0m     result \u001B[38;5;241m=\u001B[39m \u001B[43malt\u001B[49m\u001B[43m(\u001B[49m\u001B[43mvalues\u001B[49m\u001B[43m,\u001B[49m\u001B[43m \u001B[49m\u001B[43maxis\u001B[49m\u001B[38;5;241;43m=\u001B[39;49m\u001B[43maxis\u001B[49m\u001B[43m,\u001B[49m\u001B[43m \u001B[49m\u001B[43mskipna\u001B[49m\u001B[38;5;241;43m=\u001B[39;49m\u001B[43mskipna\u001B[49m\u001B[43m,\u001B[49m\u001B[43m \u001B[49m\u001B[38;5;241;43m*\u001B[39;49m\u001B[38;5;241;43m*\u001B[39;49m\u001B[43mkwds\u001B[49m\u001B[43m)\u001B[49m\n\u001B[1;32m    149\u001B[0m \u001B[38;5;28;01mreturn\u001B[39;00m result\n",
      "File \u001B[0;32m~/notebooks/venv/lib/python3.11/site-packages/pandas/core/nanops.py:404\u001B[0m, in \u001B[0;36m_datetimelike_compat.<locals>.new_func\u001B[0;34m(values, axis, skipna, mask, **kwargs)\u001B[0m\n\u001B[1;32m    402\u001B[0m     mask \u001B[38;5;241m=\u001B[39m isna(values)\n\u001B[0;32m--> 404\u001B[0m result \u001B[38;5;241m=\u001B[39m \u001B[43mfunc\u001B[49m\u001B[43m(\u001B[49m\u001B[43mvalues\u001B[49m\u001B[43m,\u001B[49m\u001B[43m \u001B[49m\u001B[43maxis\u001B[49m\u001B[38;5;241;43m=\u001B[39;49m\u001B[43maxis\u001B[49m\u001B[43m,\u001B[49m\u001B[43m \u001B[49m\u001B[43mskipna\u001B[49m\u001B[38;5;241;43m=\u001B[39;49m\u001B[43mskipna\u001B[49m\u001B[43m,\u001B[49m\u001B[43m \u001B[49m\u001B[43mmask\u001B[49m\u001B[38;5;241;43m=\u001B[39;49m\u001B[43mmask\u001B[49m\u001B[43m,\u001B[49m\u001B[43m \u001B[49m\u001B[38;5;241;43m*\u001B[39;49m\u001B[38;5;241;43m*\u001B[39;49m\u001B[43mkwargs\u001B[49m\u001B[43m)\u001B[49m\n\u001B[1;32m    406\u001B[0m \u001B[38;5;28;01mif\u001B[39;00m datetimelike:\n",
      "File \u001B[0;32m~/notebooks/venv/lib/python3.11/site-packages/pandas/core/nanops.py:720\u001B[0m, in \u001B[0;36mnanmean\u001B[0;34m(values, axis, skipna, mask)\u001B[0m\n\u001B[1;32m    719\u001B[0m the_sum \u001B[38;5;241m=\u001B[39m values\u001B[38;5;241m.\u001B[39msum(axis, dtype\u001B[38;5;241m=\u001B[39mdtype_sum)\n\u001B[0;32m--> 720\u001B[0m the_sum \u001B[38;5;241m=\u001B[39m \u001B[43m_ensure_numeric\u001B[49m\u001B[43m(\u001B[49m\u001B[43mthe_sum\u001B[49m\u001B[43m)\u001B[49m\n\u001B[1;32m    722\u001B[0m \u001B[38;5;28;01mif\u001B[39;00m axis \u001B[38;5;129;01mis\u001B[39;00m \u001B[38;5;129;01mnot\u001B[39;00m \u001B[38;5;28;01mNone\u001B[39;00m \u001B[38;5;129;01mand\u001B[39;00m \u001B[38;5;28mgetattr\u001B[39m(the_sum, \u001B[38;5;124m\"\u001B[39m\u001B[38;5;124mndim\u001B[39m\u001B[38;5;124m\"\u001B[39m, \u001B[38;5;28;01mFalse\u001B[39;00m):\n",
      "File \u001B[0;32m~/notebooks/venv/lib/python3.11/site-packages/pandas/core/nanops.py:1701\u001B[0m, in \u001B[0;36m_ensure_numeric\u001B[0;34m(x)\u001B[0m\n\u001B[1;32m   1699\u001B[0m \u001B[38;5;28;01mif\u001B[39;00m \u001B[38;5;28misinstance\u001B[39m(x, \u001B[38;5;28mstr\u001B[39m):\n\u001B[1;32m   1700\u001B[0m     \u001B[38;5;66;03m# GH#44008, GH#36703 avoid casting e.g. strings to numeric\u001B[39;00m\n\u001B[0;32m-> 1701\u001B[0m     \u001B[38;5;28;01mraise\u001B[39;00m \u001B[38;5;167;01mTypeError\u001B[39;00m(\u001B[38;5;124mf\u001B[39m\u001B[38;5;124m\"\u001B[39m\u001B[38;5;124mCould not convert string \u001B[39m\u001B[38;5;124m'\u001B[39m\u001B[38;5;132;01m{\u001B[39;00mx\u001B[38;5;132;01m}\u001B[39;00m\u001B[38;5;124m'\u001B[39m\u001B[38;5;124m to numeric\u001B[39m\u001B[38;5;124m\"\u001B[39m)\n\u001B[1;32m   1702\u001B[0m \u001B[38;5;28;01mtry\u001B[39;00m:\n",
      "\u001B[0;31mTypeError\u001B[0m: Could not convert string '958846879095113' to numeric",
      "\nThe above exception was the direct cause of the following exception:\n",
      "\u001B[0;31mTypeError\u001B[0m                                 Traceback (most recent call last)",
      "Cell \u001B[0;32mIn[78], line 1\u001B[0m\n\u001B[0;32m----> 1\u001B[0m \u001B[43mdf\u001B[49m\u001B[38;5;241;43m.\u001B[39;49m\u001B[43mgroupby\u001B[49m\u001B[43m(\u001B[49m\u001B[43m[\u001B[49m\u001B[38;5;124;43m'\u001B[39;49m\u001B[38;5;124;43mmodel_year\u001B[39;49m\u001B[38;5;124;43m'\u001B[39;49m\u001B[43m,\u001B[49m\u001B[38;5;124;43m'\u001B[39;49m\u001B[38;5;124;43mcylinders\u001B[39;49m\u001B[38;5;124;43m'\u001B[39;49m\u001B[43m]\u001B[49m\u001B[43m)\u001B[49m\u001B[38;5;241;43m.\u001B[39;49m\u001B[43mmean\u001B[49m\u001B[43m(\u001B[49m\u001B[43m)\u001B[49m\n",
      "File \u001B[0;32m~/notebooks/venv/lib/python3.11/site-packages/pandas/core/groupby/groupby.py:2452\u001B[0m, in \u001B[0;36mGroupBy.mean\u001B[0;34m(self, numeric_only, engine, engine_kwargs)\u001B[0m\n\u001B[1;32m   2445\u001B[0m     \u001B[38;5;28;01mreturn\u001B[39;00m \u001B[38;5;28mself\u001B[39m\u001B[38;5;241m.\u001B[39m_numba_agg_general(\n\u001B[1;32m   2446\u001B[0m         grouped_mean,\n\u001B[1;32m   2447\u001B[0m         executor\u001B[38;5;241m.\u001B[39mfloat_dtype_mapping,\n\u001B[1;32m   2448\u001B[0m         engine_kwargs,\n\u001B[1;32m   2449\u001B[0m         min_periods\u001B[38;5;241m=\u001B[39m\u001B[38;5;241m0\u001B[39m,\n\u001B[1;32m   2450\u001B[0m     )\n\u001B[1;32m   2451\u001B[0m \u001B[38;5;28;01melse\u001B[39;00m:\n\u001B[0;32m-> 2452\u001B[0m     result \u001B[38;5;241m=\u001B[39m \u001B[38;5;28;43mself\u001B[39;49m\u001B[38;5;241;43m.\u001B[39;49m\u001B[43m_cython_agg_general\u001B[49m\u001B[43m(\u001B[49m\n\u001B[1;32m   2453\u001B[0m \u001B[43m        \u001B[49m\u001B[38;5;124;43m\"\u001B[39;49m\u001B[38;5;124;43mmean\u001B[39;49m\u001B[38;5;124;43m\"\u001B[39;49m\u001B[43m,\u001B[49m\n\u001B[1;32m   2454\u001B[0m \u001B[43m        \u001B[49m\u001B[43malt\u001B[49m\u001B[38;5;241;43m=\u001B[39;49m\u001B[38;5;28;43;01mlambda\u001B[39;49;00m\u001B[43m \u001B[49m\u001B[43mx\u001B[49m\u001B[43m:\u001B[49m\u001B[43m \u001B[49m\u001B[43mSeries\u001B[49m\u001B[43m(\u001B[49m\u001B[43mx\u001B[49m\u001B[43m,\u001B[49m\u001B[43m \u001B[49m\u001B[43mcopy\u001B[49m\u001B[38;5;241;43m=\u001B[39;49m\u001B[38;5;28;43;01mFalse\u001B[39;49;00m\u001B[43m)\u001B[49m\u001B[38;5;241;43m.\u001B[39;49m\u001B[43mmean\u001B[49m\u001B[43m(\u001B[49m\u001B[43mnumeric_only\u001B[49m\u001B[38;5;241;43m=\u001B[39;49m\u001B[43mnumeric_only\u001B[49m\u001B[43m)\u001B[49m\u001B[43m,\u001B[49m\n\u001B[1;32m   2455\u001B[0m \u001B[43m        \u001B[49m\u001B[43mnumeric_only\u001B[49m\u001B[38;5;241;43m=\u001B[39;49m\u001B[43mnumeric_only\u001B[49m\u001B[43m,\u001B[49m\n\u001B[1;32m   2456\u001B[0m \u001B[43m    \u001B[49m\u001B[43m)\u001B[49m\n\u001B[1;32m   2457\u001B[0m     \u001B[38;5;28;01mreturn\u001B[39;00m result\u001B[38;5;241m.\u001B[39m__finalize__(\u001B[38;5;28mself\u001B[39m\u001B[38;5;241m.\u001B[39mobj, method\u001B[38;5;241m=\u001B[39m\u001B[38;5;124m\"\u001B[39m\u001B[38;5;124mgroupby\u001B[39m\u001B[38;5;124m\"\u001B[39m)\n",
      "File \u001B[0;32m~/notebooks/venv/lib/python3.11/site-packages/pandas/core/groupby/groupby.py:1998\u001B[0m, in \u001B[0;36mGroupBy._cython_agg_general\u001B[0;34m(self, how, alt, numeric_only, min_count, **kwargs)\u001B[0m\n\u001B[1;32m   1995\u001B[0m     result \u001B[38;5;241m=\u001B[39m \u001B[38;5;28mself\u001B[39m\u001B[38;5;241m.\u001B[39m_agg_py_fallback(how, values, ndim\u001B[38;5;241m=\u001B[39mdata\u001B[38;5;241m.\u001B[39mndim, alt\u001B[38;5;241m=\u001B[39malt)\n\u001B[1;32m   1996\u001B[0m     \u001B[38;5;28;01mreturn\u001B[39;00m result\n\u001B[0;32m-> 1998\u001B[0m new_mgr \u001B[38;5;241m=\u001B[39m \u001B[43mdata\u001B[49m\u001B[38;5;241;43m.\u001B[39;49m\u001B[43mgrouped_reduce\u001B[49m\u001B[43m(\u001B[49m\u001B[43marray_func\u001B[49m\u001B[43m)\u001B[49m\n\u001B[1;32m   1999\u001B[0m res \u001B[38;5;241m=\u001B[39m \u001B[38;5;28mself\u001B[39m\u001B[38;5;241m.\u001B[39m_wrap_agged_manager(new_mgr)\n\u001B[1;32m   2000\u001B[0m \u001B[38;5;28;01mif\u001B[39;00m how \u001B[38;5;129;01min\u001B[39;00m [\u001B[38;5;124m\"\u001B[39m\u001B[38;5;124midxmin\u001B[39m\u001B[38;5;124m\"\u001B[39m, \u001B[38;5;124m\"\u001B[39m\u001B[38;5;124midxmax\u001B[39m\u001B[38;5;124m\"\u001B[39m]:\n",
      "File \u001B[0;32m~/notebooks/venv/lib/python3.11/site-packages/pandas/core/internals/managers.py:1469\u001B[0m, in \u001B[0;36mBlockManager.grouped_reduce\u001B[0;34m(self, func)\u001B[0m\n\u001B[1;32m   1465\u001B[0m \u001B[38;5;28;01mif\u001B[39;00m blk\u001B[38;5;241m.\u001B[39mis_object:\n\u001B[1;32m   1466\u001B[0m     \u001B[38;5;66;03m# split on object-dtype blocks bc some columns may raise\u001B[39;00m\n\u001B[1;32m   1467\u001B[0m     \u001B[38;5;66;03m#  while others do not.\u001B[39;00m\n\u001B[1;32m   1468\u001B[0m     \u001B[38;5;28;01mfor\u001B[39;00m sb \u001B[38;5;129;01min\u001B[39;00m blk\u001B[38;5;241m.\u001B[39m_split():\n\u001B[0;32m-> 1469\u001B[0m         applied \u001B[38;5;241m=\u001B[39m \u001B[43msb\u001B[49m\u001B[38;5;241;43m.\u001B[39;49m\u001B[43mapply\u001B[49m\u001B[43m(\u001B[49m\u001B[43mfunc\u001B[49m\u001B[43m)\u001B[49m\n\u001B[1;32m   1470\u001B[0m         result_blocks \u001B[38;5;241m=\u001B[39m extend_blocks(applied, result_blocks)\n\u001B[1;32m   1471\u001B[0m \u001B[38;5;28;01melse\u001B[39;00m:\n",
      "File \u001B[0;32m~/notebooks/venv/lib/python3.11/site-packages/pandas/core/internals/blocks.py:393\u001B[0m, in \u001B[0;36mBlock.apply\u001B[0;34m(self, func, **kwargs)\u001B[0m\n\u001B[1;32m    387\u001B[0m \u001B[38;5;129m@final\u001B[39m\n\u001B[1;32m    388\u001B[0m \u001B[38;5;28;01mdef\u001B[39;00m \u001B[38;5;21mapply\u001B[39m(\u001B[38;5;28mself\u001B[39m, func, \u001B[38;5;241m*\u001B[39m\u001B[38;5;241m*\u001B[39mkwargs) \u001B[38;5;241m-\u001B[39m\u001B[38;5;241m>\u001B[39m \u001B[38;5;28mlist\u001B[39m[Block]:\n\u001B[1;32m    389\u001B[0m \u001B[38;5;250m    \u001B[39m\u001B[38;5;124;03m\"\"\"\u001B[39;00m\n\u001B[1;32m    390\u001B[0m \u001B[38;5;124;03m    apply the function to my values; return a block if we are not\u001B[39;00m\n\u001B[1;32m    391\u001B[0m \u001B[38;5;124;03m    one\u001B[39;00m\n\u001B[1;32m    392\u001B[0m \u001B[38;5;124;03m    \"\"\"\u001B[39;00m\n\u001B[0;32m--> 393\u001B[0m     result \u001B[38;5;241m=\u001B[39m \u001B[43mfunc\u001B[49m\u001B[43m(\u001B[49m\u001B[38;5;28;43mself\u001B[39;49m\u001B[38;5;241;43m.\u001B[39;49m\u001B[43mvalues\u001B[49m\u001B[43m,\u001B[49m\u001B[43m \u001B[49m\u001B[38;5;241;43m*\u001B[39;49m\u001B[38;5;241;43m*\u001B[39;49m\u001B[43mkwargs\u001B[49m\u001B[43m)\u001B[49m\n\u001B[1;32m    395\u001B[0m     result \u001B[38;5;241m=\u001B[39m maybe_coerce_values(result)\n\u001B[1;32m    396\u001B[0m     \u001B[38;5;28;01mreturn\u001B[39;00m \u001B[38;5;28mself\u001B[39m\u001B[38;5;241m.\u001B[39m_split_op_result(result)\n",
      "File \u001B[0;32m~/notebooks/venv/lib/python3.11/site-packages/pandas/core/groupby/groupby.py:1995\u001B[0m, in \u001B[0;36mGroupBy._cython_agg_general.<locals>.array_func\u001B[0;34m(values)\u001B[0m\n\u001B[1;32m   1992\u001B[0m     \u001B[38;5;28;01mreturn\u001B[39;00m result\n\u001B[1;32m   1994\u001B[0m \u001B[38;5;28;01massert\u001B[39;00m alt \u001B[38;5;129;01mis\u001B[39;00m \u001B[38;5;129;01mnot\u001B[39;00m \u001B[38;5;28;01mNone\u001B[39;00m\n\u001B[0;32m-> 1995\u001B[0m result \u001B[38;5;241m=\u001B[39m \u001B[38;5;28;43mself\u001B[39;49m\u001B[38;5;241;43m.\u001B[39;49m\u001B[43m_agg_py_fallback\u001B[49m\u001B[43m(\u001B[49m\u001B[43mhow\u001B[49m\u001B[43m,\u001B[49m\u001B[43m \u001B[49m\u001B[43mvalues\u001B[49m\u001B[43m,\u001B[49m\u001B[43m \u001B[49m\u001B[43mndim\u001B[49m\u001B[38;5;241;43m=\u001B[39;49m\u001B[43mdata\u001B[49m\u001B[38;5;241;43m.\u001B[39;49m\u001B[43mndim\u001B[49m\u001B[43m,\u001B[49m\u001B[43m \u001B[49m\u001B[43malt\u001B[49m\u001B[38;5;241;43m=\u001B[39;49m\u001B[43malt\u001B[49m\u001B[43m)\u001B[49m\n\u001B[1;32m   1996\u001B[0m \u001B[38;5;28;01mreturn\u001B[39;00m result\n",
      "File \u001B[0;32m~/notebooks/venv/lib/python3.11/site-packages/pandas/core/groupby/groupby.py:1946\u001B[0m, in \u001B[0;36mGroupBy._agg_py_fallback\u001B[0;34m(self, how, values, ndim, alt)\u001B[0m\n\u001B[1;32m   1944\u001B[0m     msg \u001B[38;5;241m=\u001B[39m \u001B[38;5;124mf\u001B[39m\u001B[38;5;124m\"\u001B[39m\u001B[38;5;124magg function failed [how->\u001B[39m\u001B[38;5;132;01m{\u001B[39;00mhow\u001B[38;5;132;01m}\u001B[39;00m\u001B[38;5;124m,dtype->\u001B[39m\u001B[38;5;132;01m{\u001B[39;00mser\u001B[38;5;241m.\u001B[39mdtype\u001B[38;5;132;01m}\u001B[39;00m\u001B[38;5;124m]\u001B[39m\u001B[38;5;124m\"\u001B[39m\n\u001B[1;32m   1945\u001B[0m     \u001B[38;5;66;03m# preserve the kind of exception that raised\u001B[39;00m\n\u001B[0;32m-> 1946\u001B[0m     \u001B[38;5;28;01mraise\u001B[39;00m \u001B[38;5;28mtype\u001B[39m(err)(msg) \u001B[38;5;28;01mfrom\u001B[39;00m \u001B[38;5;21;01merr\u001B[39;00m\n\u001B[1;32m   1948\u001B[0m \u001B[38;5;28;01mif\u001B[39;00m ser\u001B[38;5;241m.\u001B[39mdtype \u001B[38;5;241m==\u001B[39m \u001B[38;5;28mobject\u001B[39m:\n\u001B[1;32m   1949\u001B[0m     res_values \u001B[38;5;241m=\u001B[39m res_values\u001B[38;5;241m.\u001B[39mastype(\u001B[38;5;28mobject\u001B[39m, copy\u001B[38;5;241m=\u001B[39m\u001B[38;5;28;01mFalse\u001B[39;00m)\n",
      "\u001B[0;31mTypeError\u001B[0m: agg function failed [how->mean,dtype->object]"
     ]
    }
   ],
   "source": [
    "df.groupby(['model_year','cylinders']).mean()"
   ]
  },
  {
   "cell_type": "code",
   "execution_count": null,
   "metadata": {
    "ExecuteTime": {
     "end_time": "2024-03-30T16:21:27.152464Z",
     "start_time": "2024-03-30T16:21:27.151766Z"
    }
   },
   "outputs": [],
   "source": [
    "df.groupby(['model_year','cylinders']).mean().index"
   ]
  },
  {
   "cell_type": "markdown",
   "metadata": {},
   "source": [
    "# MultiIndex\n",
    "\n",
    "## The MultiIndex Object"
   ]
  },
  {
   "cell_type": "code",
   "execution_count": null,
   "metadata": {},
   "outputs": [],
   "source": [
    "year_cyl = df.groupby(['model_year','cylinders']).mean()"
   ]
  },
  {
   "cell_type": "code",
   "execution_count": null,
   "metadata": {},
   "outputs": [],
   "source": [
    "year_cyl"
   ]
  },
  {
   "cell_type": "code",
   "execution_count": null,
   "metadata": {},
   "outputs": [],
   "source": [
    "year_cyl.index"
   ]
  },
  {
   "cell_type": "code",
   "execution_count": null,
   "metadata": {},
   "outputs": [],
   "source": [
    "year_cyl.index.levels"
   ]
  },
  {
   "cell_type": "code",
   "execution_count": null,
   "metadata": {},
   "outputs": [],
   "source": [
    "year_cyl.index.names"
   ]
  },
  {
   "cell_type": "markdown",
   "metadata": {},
   "source": [
    "# Indexing with the Hierarchical Index\n",
    "\n",
    "Full Documentation: https://pandas.pydata.org/pandas-docs/stable/user_guide/advanced.html"
   ]
  },
  {
   "cell_type": "code",
   "execution_count": null,
   "metadata": {},
   "outputs": [],
   "source": [
    "year_cyl.head()"
   ]
  },
  {
   "cell_type": "markdown",
   "metadata": {},
   "source": [
    "## Grab Based on Outside Index"
   ]
  },
  {
   "cell_type": "code",
   "execution_count": null,
   "metadata": {},
   "outputs": [],
   "source": [
    "year_cyl.loc[70]"
   ]
  },
  {
   "cell_type": "code",
   "execution_count": null,
   "metadata": {},
   "outputs": [],
   "source": [
    "year_cyl.loc[[70,72]]"
   ]
  },
  {
   "cell_type": "markdown",
   "metadata": {},
   "source": [
    "## Grab a Single Row"
   ]
  },
  {
   "cell_type": "code",
   "execution_count": null,
   "metadata": {},
   "outputs": [],
   "source": [
    "year_cyl.loc[(70,8)]"
   ]
  },
  {
   "cell_type": "markdown",
   "metadata": {},
   "source": [
    "# Grab Based on Cross-section with .xs()\n",
    "\n",
    "This method takes a `key` argument to select data at a particular\n",
    "level of a MultiIndex.\n",
    "\n",
    "Parameters\n",
    "----------\n",
    "    key : label or tuple of label\n",
    "        Label contained in the index, or partially in a MultiIndex.\n",
    "    axis : {0 or 'index', 1 or 'columns'}, default 0\n",
    "        Axis to retrieve cross-section on.\n",
    "    level : object, defaults to first n levels (n=1 or len(key))\n",
    "        In case of a key partially contained in a MultiIndex, indicate\n",
    "        which levels are used. Levels can be referred by label or position."
   ]
  },
  {
   "cell_type": "code",
   "execution_count": null,
   "metadata": {},
   "outputs": [],
   "source": [
    "year_cyl.xs(key=70,axis=0,level='model_year')"
   ]
  },
  {
   "cell_type": "code",
   "execution_count": null,
   "metadata": {},
   "outputs": [],
   "source": [
    "# Mean column values for 4 cylinders per year\n",
    "year_cyl.xs(key=4,axis=0,level='cylinders')"
   ]
  },
  {
   "cell_type": "markdown",
   "metadata": {},
   "source": [
    "### Careful note!\n",
    "\n",
    "Keep in mind, its usually much easier to filter out values **before** running a groupby() call, so you should attempt to filter out any values/categories you don't want to use. For example, its much easier to remove **4** cylinder cars before the groupby() call, very difficult to this sort of thing after a group by."
   ]
  },
  {
   "cell_type": "code",
   "execution_count": 82,
   "metadata": {
    "ExecuteTime": {
     "end_time": "2024-03-30T16:21:37.880523Z",
     "start_time": "2024-03-30T16:21:37.861645Z"
    }
   },
   "outputs": [
    {
     "data": {
      "text/plain": "                            mpg  displacement       weight  acceleration  \\\nmodel_year cylinders                                                       \n70         6          20.500000    199.000000  2710.500000     15.500000   \n           8          14.111111    367.555556  3940.055556     11.194444   \n71         6          18.000000    243.375000  3171.875000     14.750000   \n           8          13.428571    371.714286  4537.714286     12.214286   \n72         8          13.615385    344.846154  4228.384615     13.000000   \n73         6          19.000000    212.250000  2917.125000     15.687500   \n           8          13.200000    365.250000  4279.050000     12.250000   \n74         6          17.857143    230.428571  3320.000000     16.857143   \n           8          14.200000    315.200000  4438.400000     14.700000   \n75         6          17.583333    233.750000  3398.333333     17.708333   \n           8          15.666667    330.500000  4108.833333     13.166667   \n76         6          20.000000    221.400000  3349.600000     17.000000   \n           8          14.666667    324.000000  4064.666667     13.222222   \n77         6          19.500000    220.400000  3383.000000     16.900000   \n           8          16.000000    335.750000  4177.500000     13.662500   \n78         6          19.066667    213.250000  3314.166667     16.391667   \n           8          19.050000    300.833333  3563.333333     13.266667   \n79         6          22.950000    205.666667  3025.833333     15.433333   \n           8          18.630000    321.400000  3862.900000     15.400000   \n80         6          25.900000    196.500000  3145.500000     15.050000   \n81         6          23.428571    184.000000  3093.571429     15.442857   \n           8          26.600000    350.000000  3725.000000     19.000000   \n82         6          28.333333    225.000000  2931.666667     16.033333   \n\n                        origin  \nmodel_year cylinders            \n70         6          1.000000  \n           8          1.000000  \n71         6          1.000000  \n           8          1.000000  \n72         8          1.000000  \n73         6          1.250000  \n           8          1.000000  \n74         6          1.000000  \n           8          1.000000  \n75         6          1.000000  \n           8          1.000000  \n76         6          1.300000  \n           8          1.000000  \n77         6          1.400000  \n           8          1.000000  \n78         6          1.166667  \n           8          1.000000  \n79         6          1.000000  \n           8          1.000000  \n80         6          2.000000  \n81         6          1.714286  \n           8          1.000000  \n82         6          1.000000  ",
      "text/html": "<div>\n<style scoped>\n    .dataframe tbody tr th:only-of-type {\n        vertical-align: middle;\n    }\n\n    .dataframe tbody tr th {\n        vertical-align: top;\n    }\n\n    .dataframe thead th {\n        text-align: right;\n    }\n</style>\n<table border=\"1\" class=\"dataframe\">\n  <thead>\n    <tr style=\"text-align: right;\">\n      <th></th>\n      <th></th>\n      <th>mpg</th>\n      <th>displacement</th>\n      <th>weight</th>\n      <th>acceleration</th>\n      <th>origin</th>\n    </tr>\n    <tr>\n      <th>model_year</th>\n      <th>cylinders</th>\n      <th></th>\n      <th></th>\n      <th></th>\n      <th></th>\n      <th></th>\n    </tr>\n  </thead>\n  <tbody>\n    <tr>\n      <th rowspan=\"2\" valign=\"top\">70</th>\n      <th>6</th>\n      <td>20.500000</td>\n      <td>199.000000</td>\n      <td>2710.500000</td>\n      <td>15.500000</td>\n      <td>1.000000</td>\n    </tr>\n    <tr>\n      <th>8</th>\n      <td>14.111111</td>\n      <td>367.555556</td>\n      <td>3940.055556</td>\n      <td>11.194444</td>\n      <td>1.000000</td>\n    </tr>\n    <tr>\n      <th rowspan=\"2\" valign=\"top\">71</th>\n      <th>6</th>\n      <td>18.000000</td>\n      <td>243.375000</td>\n      <td>3171.875000</td>\n      <td>14.750000</td>\n      <td>1.000000</td>\n    </tr>\n    <tr>\n      <th>8</th>\n      <td>13.428571</td>\n      <td>371.714286</td>\n      <td>4537.714286</td>\n      <td>12.214286</td>\n      <td>1.000000</td>\n    </tr>\n    <tr>\n      <th>72</th>\n      <th>8</th>\n      <td>13.615385</td>\n      <td>344.846154</td>\n      <td>4228.384615</td>\n      <td>13.000000</td>\n      <td>1.000000</td>\n    </tr>\n    <tr>\n      <th rowspan=\"2\" valign=\"top\">73</th>\n      <th>6</th>\n      <td>19.000000</td>\n      <td>212.250000</td>\n      <td>2917.125000</td>\n      <td>15.687500</td>\n      <td>1.250000</td>\n    </tr>\n    <tr>\n      <th>8</th>\n      <td>13.200000</td>\n      <td>365.250000</td>\n      <td>4279.050000</td>\n      <td>12.250000</td>\n      <td>1.000000</td>\n    </tr>\n    <tr>\n      <th rowspan=\"2\" valign=\"top\">74</th>\n      <th>6</th>\n      <td>17.857143</td>\n      <td>230.428571</td>\n      <td>3320.000000</td>\n      <td>16.857143</td>\n      <td>1.000000</td>\n    </tr>\n    <tr>\n      <th>8</th>\n      <td>14.200000</td>\n      <td>315.200000</td>\n      <td>4438.400000</td>\n      <td>14.700000</td>\n      <td>1.000000</td>\n    </tr>\n    <tr>\n      <th rowspan=\"2\" valign=\"top\">75</th>\n      <th>6</th>\n      <td>17.583333</td>\n      <td>233.750000</td>\n      <td>3398.333333</td>\n      <td>17.708333</td>\n      <td>1.000000</td>\n    </tr>\n    <tr>\n      <th>8</th>\n      <td>15.666667</td>\n      <td>330.500000</td>\n      <td>4108.833333</td>\n      <td>13.166667</td>\n      <td>1.000000</td>\n    </tr>\n    <tr>\n      <th rowspan=\"2\" valign=\"top\">76</th>\n      <th>6</th>\n      <td>20.000000</td>\n      <td>221.400000</td>\n      <td>3349.600000</td>\n      <td>17.000000</td>\n      <td>1.300000</td>\n    </tr>\n    <tr>\n      <th>8</th>\n      <td>14.666667</td>\n      <td>324.000000</td>\n      <td>4064.666667</td>\n      <td>13.222222</td>\n      <td>1.000000</td>\n    </tr>\n    <tr>\n      <th rowspan=\"2\" valign=\"top\">77</th>\n      <th>6</th>\n      <td>19.500000</td>\n      <td>220.400000</td>\n      <td>3383.000000</td>\n      <td>16.900000</td>\n      <td>1.400000</td>\n    </tr>\n    <tr>\n      <th>8</th>\n      <td>16.000000</td>\n      <td>335.750000</td>\n      <td>4177.500000</td>\n      <td>13.662500</td>\n      <td>1.000000</td>\n    </tr>\n    <tr>\n      <th rowspan=\"2\" valign=\"top\">78</th>\n      <th>6</th>\n      <td>19.066667</td>\n      <td>213.250000</td>\n      <td>3314.166667</td>\n      <td>16.391667</td>\n      <td>1.166667</td>\n    </tr>\n    <tr>\n      <th>8</th>\n      <td>19.050000</td>\n      <td>300.833333</td>\n      <td>3563.333333</td>\n      <td>13.266667</td>\n      <td>1.000000</td>\n    </tr>\n    <tr>\n      <th rowspan=\"2\" valign=\"top\">79</th>\n      <th>6</th>\n      <td>22.950000</td>\n      <td>205.666667</td>\n      <td>3025.833333</td>\n      <td>15.433333</td>\n      <td>1.000000</td>\n    </tr>\n    <tr>\n      <th>8</th>\n      <td>18.630000</td>\n      <td>321.400000</td>\n      <td>3862.900000</td>\n      <td>15.400000</td>\n      <td>1.000000</td>\n    </tr>\n    <tr>\n      <th>80</th>\n      <th>6</th>\n      <td>25.900000</td>\n      <td>196.500000</td>\n      <td>3145.500000</td>\n      <td>15.050000</td>\n      <td>2.000000</td>\n    </tr>\n    <tr>\n      <th rowspan=\"2\" valign=\"top\">81</th>\n      <th>6</th>\n      <td>23.428571</td>\n      <td>184.000000</td>\n      <td>3093.571429</td>\n      <td>15.442857</td>\n      <td>1.714286</td>\n    </tr>\n    <tr>\n      <th>8</th>\n      <td>26.600000</td>\n      <td>350.000000</td>\n      <td>3725.000000</td>\n      <td>19.000000</td>\n      <td>1.000000</td>\n    </tr>\n    <tr>\n      <th>82</th>\n      <th>6</th>\n      <td>28.333333</td>\n      <td>225.000000</td>\n      <td>2931.666667</td>\n      <td>16.033333</td>\n      <td>1.000000</td>\n    </tr>\n  </tbody>\n</table>\n</div>"
     },
     "execution_count": 82,
     "metadata": {},
     "output_type": "execute_result"
    }
   ],
   "source": [
    "df[df['cylinders'].isin([6,8])].groupby(['model_year','cylinders']).mean(numeric_only=True)"
   ]
  },
  {
   "cell_type": "markdown",
   "metadata": {},
   "source": [
    "## Swap Levels\n",
    "\n",
    "* Swapping Levels: https://pandas.pydata.org/pandas-docs/stable/user_guide/advanced.html#swapping-levels-with-swaplevel\n",
    "* Generalized Method is reorder_levels: https://pandas.pydata.org/pandas-docs/stable/user_guide/advanced.html#reordering-levels-with-reorder-levels"
   ]
  },
  {
   "cell_type": "code",
   "execution_count": 86,
   "metadata": {
    "scrolled": true,
    "ExecuteTime": {
     "end_time": "2024-03-30T16:27:01.927934Z",
     "start_time": "2024-03-30T16:27:01.908073Z"
    }
   },
   "outputs": [
    {
     "ename": "NameError",
     "evalue": "name 'year_cyl' is not defined",
     "output_type": "error",
     "traceback": [
      "\u001B[0;31m---------------------------------------------------------------------------\u001B[0m",
      "\u001B[0;31mNameError\u001B[0m                                 Traceback (most recent call last)",
      "Cell \u001B[0;32mIn[86], line 1\u001B[0m\n\u001B[0;32m----> 1\u001B[0m \u001B[43myear_cyl\u001B[49m\u001B[38;5;241m.\u001B[39mswaplevel()\u001B[38;5;241m.\u001B[39mhead()\n",
      "\u001B[0;31mNameError\u001B[0m: name 'year_cyl' is not defined"
     ]
    }
   ],
   "source": [
    "year_cyl.swaplevel().head()"
   ]
  },
  {
   "cell_type": "markdown",
   "metadata": {},
   "source": [
    "## Sorting MultiIndex\n",
    "\n",
    "* https://pandas.pydata.org/pandas-docs/stable/user_guide/advanced.html#sorting-a-multiindex "
   ]
  },
  {
   "cell_type": "code",
   "execution_count": null,
   "metadata": {},
   "outputs": [],
   "source": [
    "year_cyl.sort_index(level='model_year',ascending=False)"
   ]
  },
  {
   "cell_type": "code",
   "execution_count": null,
   "metadata": {},
   "outputs": [],
   "source": [
    "year_cyl.sort_index(level='cylinders',ascending=False)"
   ]
  },
  {
   "cell_type": "markdown",
   "metadata": {},
   "source": [
    "# Advanced: agg() method\n",
    "\n",
    "The agg() method allows you to customize what aggregate functions you want per category"
   ]
  },
  {
   "cell_type": "code",
   "execution_count": 84,
   "metadata": {
    "ExecuteTime": {
     "end_time": "2024-03-30T16:22:01.018442Z",
     "start_time": "2024-03-30T16:22:01.004511Z"
    }
   },
   "outputs": [
    {
     "data": {
      "text/plain": "      mpg  cylinders  displacement horsepower  weight  acceleration  \\\n0    18.0          8         307.0        130    3504          12.0   \n1    15.0          8         350.0        165    3693          11.5   \n2    18.0          8         318.0        150    3436          11.0   \n3    16.0          8         304.0        150    3433          12.0   \n4    17.0          8         302.0        140    3449          10.5   \n..    ...        ...           ...        ...     ...           ...   \n393  27.0          4         140.0         86    2790          15.6   \n394  44.0          4          97.0         52    2130          24.6   \n395  32.0          4         135.0         84    2295          11.6   \n396  28.0          4         120.0         79    2625          18.6   \n397  31.0          4         119.0         82    2720          19.4   \n\n     model_year  origin                       name  \n0            70       1  chevrolet chevelle malibu  \n1            70       1          buick skylark 320  \n2            70       1         plymouth satellite  \n3            70       1              amc rebel sst  \n4            70       1                ford torino  \n..          ...     ...                        ...  \n393          82       1            ford mustang gl  \n394          82       2                  vw pickup  \n395          82       1              dodge rampage  \n396          82       1                ford ranger  \n397          82       1                 chevy s-10  \n\n[398 rows x 9 columns]",
      "text/html": "<div>\n<style scoped>\n    .dataframe tbody tr th:only-of-type {\n        vertical-align: middle;\n    }\n\n    .dataframe tbody tr th {\n        vertical-align: top;\n    }\n\n    .dataframe thead th {\n        text-align: right;\n    }\n</style>\n<table border=\"1\" class=\"dataframe\">\n  <thead>\n    <tr style=\"text-align: right;\">\n      <th></th>\n      <th>mpg</th>\n      <th>cylinders</th>\n      <th>displacement</th>\n      <th>horsepower</th>\n      <th>weight</th>\n      <th>acceleration</th>\n      <th>model_year</th>\n      <th>origin</th>\n      <th>name</th>\n    </tr>\n  </thead>\n  <tbody>\n    <tr>\n      <th>0</th>\n      <td>18.0</td>\n      <td>8</td>\n      <td>307.0</td>\n      <td>130</td>\n      <td>3504</td>\n      <td>12.0</td>\n      <td>70</td>\n      <td>1</td>\n      <td>chevrolet chevelle malibu</td>\n    </tr>\n    <tr>\n      <th>1</th>\n      <td>15.0</td>\n      <td>8</td>\n      <td>350.0</td>\n      <td>165</td>\n      <td>3693</td>\n      <td>11.5</td>\n      <td>70</td>\n      <td>1</td>\n      <td>buick skylark 320</td>\n    </tr>\n    <tr>\n      <th>2</th>\n      <td>18.0</td>\n      <td>8</td>\n      <td>318.0</td>\n      <td>150</td>\n      <td>3436</td>\n      <td>11.0</td>\n      <td>70</td>\n      <td>1</td>\n      <td>plymouth satellite</td>\n    </tr>\n    <tr>\n      <th>3</th>\n      <td>16.0</td>\n      <td>8</td>\n      <td>304.0</td>\n      <td>150</td>\n      <td>3433</td>\n      <td>12.0</td>\n      <td>70</td>\n      <td>1</td>\n      <td>amc rebel sst</td>\n    </tr>\n    <tr>\n      <th>4</th>\n      <td>17.0</td>\n      <td>8</td>\n      <td>302.0</td>\n      <td>140</td>\n      <td>3449</td>\n      <td>10.5</td>\n      <td>70</td>\n      <td>1</td>\n      <td>ford torino</td>\n    </tr>\n    <tr>\n      <th>...</th>\n      <td>...</td>\n      <td>...</td>\n      <td>...</td>\n      <td>...</td>\n      <td>...</td>\n      <td>...</td>\n      <td>...</td>\n      <td>...</td>\n      <td>...</td>\n    </tr>\n    <tr>\n      <th>393</th>\n      <td>27.0</td>\n      <td>4</td>\n      <td>140.0</td>\n      <td>86</td>\n      <td>2790</td>\n      <td>15.6</td>\n      <td>82</td>\n      <td>1</td>\n      <td>ford mustang gl</td>\n    </tr>\n    <tr>\n      <th>394</th>\n      <td>44.0</td>\n      <td>4</td>\n      <td>97.0</td>\n      <td>52</td>\n      <td>2130</td>\n      <td>24.6</td>\n      <td>82</td>\n      <td>2</td>\n      <td>vw pickup</td>\n    </tr>\n    <tr>\n      <th>395</th>\n      <td>32.0</td>\n      <td>4</td>\n      <td>135.0</td>\n      <td>84</td>\n      <td>2295</td>\n      <td>11.6</td>\n      <td>82</td>\n      <td>1</td>\n      <td>dodge rampage</td>\n    </tr>\n    <tr>\n      <th>396</th>\n      <td>28.0</td>\n      <td>4</td>\n      <td>120.0</td>\n      <td>79</td>\n      <td>2625</td>\n      <td>18.6</td>\n      <td>82</td>\n      <td>1</td>\n      <td>ford ranger</td>\n    </tr>\n    <tr>\n      <th>397</th>\n      <td>31.0</td>\n      <td>4</td>\n      <td>119.0</td>\n      <td>82</td>\n      <td>2720</td>\n      <td>19.4</td>\n      <td>82</td>\n      <td>1</td>\n      <td>chevy s-10</td>\n    </tr>\n  </tbody>\n</table>\n<p>398 rows × 9 columns</p>\n</div>"
     },
     "execution_count": 84,
     "metadata": {},
     "output_type": "execute_result"
    }
   ],
   "source": [
    "df"
   ]
  },
  {
   "cell_type": "markdown",
   "metadata": {},
   "source": [
    "## agg() on a DataFrame"
   ]
  },
  {
   "cell_type": "code",
   "execution_count": 85,
   "metadata": {
    "ExecuteTime": {
     "end_time": "2024-03-30T16:22:05.022640Z",
     "start_time": "2024-03-30T16:22:04.827530Z"
    }
   },
   "outputs": [
    {
     "ename": "TypeError",
     "evalue": "Cannot convert ['130' '165' '150' '150' '140' '198' '220' '215' '225' '190' '170' '160'\n '150' '225' '95' '95' '97' '85' '88' '46' '87' '90' '95' '113' '90' '215'\n '200' '210' '193' '88' '90' '95' '?' '100' '105' '100' '88' '100' '165'\n '175' '153' '150' '180' '170' '175' '110' '72' '100' '88' '86' '90' '70'\n '76' '65' '69' '60' '70' '95' '80' '54' '90' '86' '165' '175' '150' '153'\n '150' '208' '155' '160' '190' '97' '150' '130' '140' '150' '112' '76'\n '87' '69' '86' '92' '97' '80' '88' '175' '150' '145' '137' '150' '198'\n '150' '158' '150' '215' '225' '175' '105' '100' '100' '88' '95' '46'\n '150' '167' '170' '180' '100' '88' '72' '94' '90' '85' '107' '90' '145'\n '230' '49' '75' '91' '112' '150' '110' '122' '180' '95' '?' '100' '100'\n '67' '80' '65' '75' '100' '110' '105' '140' '150' '150' '140' '150' '83'\n '67' '78' '52' '61' '75' '75' '75' '97' '93' '67' '95' '105' '72' '72'\n '170' '145' '150' '148' '110' '105' '110' '95' '110' '110' '129' '75'\n '83' '100' '78' '96' '71' '97' '97' '70' '90' '95' '88' '98' '115' '53'\n '86' '81' '92' '79' '83' '140' '150' '120' '152' '100' '105' '81' '90'\n '52' '60' '70' '53' '100' '78' '110' '95' '71' '70' '75' '72' '102' '150'\n '88' '108' '120' '180' '145' '130' '150' '68' '80' '58' '96' '70' '145'\n '110' '145' '130' '110' '105' '100' '98' '180' '170' '190' '149' '78'\n '88' '75' '89' '63' '83' '67' '78' '97' '110' '110' '48' '66' '52' '70'\n '60' '110' '140' '139' '105' '95' '85' '88' '100' '90' '105' '85' '110'\n '120' '145' '165' '139' '140' '68' '95' '97' '75' '95' '105' '85' '97'\n '103' '125' '115' '133' '71' '68' '115' '85' '88' '90' '110' '130' '129'\n '138' '135' '155' '142' '125' '150' '71' '65' '80' '80' '77' '125' '71'\n '90' '70' '70' '65' '69' '90' '115' '115' '90' '76' '60' '70' '65' '90'\n '88' '90' '90' '78' '90' '75' '92' '75' '65' '105' '65' '48' '48' '67'\n '67' '67' '?' '67' '62' '132' '100' '88' '?' '72' '84' '84' '92' '110'\n '84' '58' '64' '60' '67' '65' '62' '68' '63' '65' '65' '74' '?' '75' '75'\n '100' '74' '80' '76' '116' '120' '110' '105' '88' '85' '88' '88' '88'\n '85' '84' '90' '92' '?' '74' '68' '68' '63' '70' '88' '75' '70' '67' '67'\n '67' '110' '85' '92' '112' '96' '84' '90' '86' '52' '84' '79' '82'] to numeric",
     "output_type": "error",
     "traceback": [
      "\u001B[0;31m---------------------------------------------------------------------------\u001B[0m",
      "\u001B[0;31mTypeError\u001B[0m                                 Traceback (most recent call last)",
      "Cell \u001B[0;32mIn[85], line 2\u001B[0m\n\u001B[1;32m      1\u001B[0m \u001B[38;5;66;03m# These strings need to match up with built-in method names\u001B[39;00m\n\u001B[0;32m----> 2\u001B[0m \u001B[43mdf\u001B[49m\u001B[38;5;241;43m.\u001B[39;49m\u001B[43magg\u001B[49m\u001B[43m(\u001B[49m\u001B[43m[\u001B[49m\u001B[38;5;124;43m'\u001B[39;49m\u001B[38;5;124;43mmedian\u001B[39;49m\u001B[38;5;124;43m'\u001B[39;49m\u001B[43m,\u001B[49m\u001B[38;5;124;43m'\u001B[39;49m\u001B[38;5;124;43mmean\u001B[39;49m\u001B[38;5;124;43m'\u001B[39;49m\u001B[43m]\u001B[49m\u001B[43m)\u001B[49m\n",
      "File \u001B[0;32m~/notebooks/venv/lib/python3.11/site-packages/pandas/core/frame.py:10136\u001B[0m, in \u001B[0;36mDataFrame.aggregate\u001B[0;34m(self, func, axis, *args, **kwargs)\u001B[0m\n\u001B[1;32m  10133\u001B[0m axis \u001B[38;5;241m=\u001B[39m \u001B[38;5;28mself\u001B[39m\u001B[38;5;241m.\u001B[39m_get_axis_number(axis)\n\u001B[1;32m  10135\u001B[0m op \u001B[38;5;241m=\u001B[39m frame_apply(\u001B[38;5;28mself\u001B[39m, func\u001B[38;5;241m=\u001B[39mfunc, axis\u001B[38;5;241m=\u001B[39maxis, args\u001B[38;5;241m=\u001B[39margs, kwargs\u001B[38;5;241m=\u001B[39mkwargs)\n\u001B[0;32m> 10136\u001B[0m result \u001B[38;5;241m=\u001B[39m \u001B[43mop\u001B[49m\u001B[38;5;241;43m.\u001B[39;49m\u001B[43magg\u001B[49m\u001B[43m(\u001B[49m\u001B[43m)\u001B[49m\n\u001B[1;32m  10137\u001B[0m result \u001B[38;5;241m=\u001B[39m reconstruct_and_relabel_result(result, func, \u001B[38;5;241m*\u001B[39m\u001B[38;5;241m*\u001B[39mkwargs)\n\u001B[1;32m  10138\u001B[0m \u001B[38;5;28;01mreturn\u001B[39;00m result\n",
      "File \u001B[0;32m~/notebooks/venv/lib/python3.11/site-packages/pandas/core/apply.py:928\u001B[0m, in \u001B[0;36mFrameApply.agg\u001B[0;34m(self)\u001B[0m\n\u001B[1;32m    926\u001B[0m result \u001B[38;5;241m=\u001B[39m \u001B[38;5;28;01mNone\u001B[39;00m\n\u001B[1;32m    927\u001B[0m \u001B[38;5;28;01mtry\u001B[39;00m:\n\u001B[0;32m--> 928\u001B[0m     result \u001B[38;5;241m=\u001B[39m \u001B[38;5;28;43msuper\u001B[39;49m\u001B[43m(\u001B[49m\u001B[43m)\u001B[49m\u001B[38;5;241;43m.\u001B[39;49m\u001B[43magg\u001B[49m\u001B[43m(\u001B[49m\u001B[43m)\u001B[49m\n\u001B[1;32m    929\u001B[0m \u001B[38;5;28;01mfinally\u001B[39;00m:\n\u001B[1;32m    930\u001B[0m     \u001B[38;5;28mself\u001B[39m\u001B[38;5;241m.\u001B[39mobj \u001B[38;5;241m=\u001B[39m obj\n",
      "File \u001B[0;32m~/notebooks/venv/lib/python3.11/site-packages/pandas/core/apply.py:193\u001B[0m, in \u001B[0;36mApply.agg\u001B[0;34m(self)\u001B[0m\n\u001B[1;32m    190\u001B[0m     \u001B[38;5;28;01mreturn\u001B[39;00m \u001B[38;5;28mself\u001B[39m\u001B[38;5;241m.\u001B[39magg_dict_like()\n\u001B[1;32m    191\u001B[0m \u001B[38;5;28;01melif\u001B[39;00m is_list_like(func):\n\u001B[1;32m    192\u001B[0m     \u001B[38;5;66;03m# we require a list, but not a 'str'\u001B[39;00m\n\u001B[0;32m--> 193\u001B[0m     \u001B[38;5;28;01mreturn\u001B[39;00m \u001B[38;5;28;43mself\u001B[39;49m\u001B[38;5;241;43m.\u001B[39;49m\u001B[43magg_list_like\u001B[49m\u001B[43m(\u001B[49m\u001B[43m)\u001B[49m\n\u001B[1;32m    195\u001B[0m \u001B[38;5;28;01mif\u001B[39;00m \u001B[38;5;28mcallable\u001B[39m(func):\n\u001B[1;32m    196\u001B[0m     f \u001B[38;5;241m=\u001B[39m com\u001B[38;5;241m.\u001B[39mget_cython_func(func)\n",
      "File \u001B[0;32m~/notebooks/venv/lib/python3.11/site-packages/pandas/core/apply.py:326\u001B[0m, in \u001B[0;36mApply.agg_list_like\u001B[0;34m(self)\u001B[0m\n\u001B[1;32m    318\u001B[0m \u001B[38;5;28;01mdef\u001B[39;00m \u001B[38;5;21magg_list_like\u001B[39m(\u001B[38;5;28mself\u001B[39m) \u001B[38;5;241m-\u001B[39m\u001B[38;5;241m>\u001B[39m DataFrame \u001B[38;5;241m|\u001B[39m Series:\n\u001B[1;32m    319\u001B[0m \u001B[38;5;250m    \u001B[39m\u001B[38;5;124;03m\"\"\"\u001B[39;00m\n\u001B[1;32m    320\u001B[0m \u001B[38;5;124;03m    Compute aggregation in the case of a list-like argument.\u001B[39;00m\n\u001B[1;32m    321\u001B[0m \n\u001B[0;32m   (...)\u001B[0m\n\u001B[1;32m    324\u001B[0m \u001B[38;5;124;03m    Result of aggregation.\u001B[39;00m\n\u001B[1;32m    325\u001B[0m \u001B[38;5;124;03m    \"\"\"\u001B[39;00m\n\u001B[0;32m--> 326\u001B[0m     \u001B[38;5;28;01mreturn\u001B[39;00m \u001B[38;5;28;43mself\u001B[39;49m\u001B[38;5;241;43m.\u001B[39;49m\u001B[43magg_or_apply_list_like\u001B[49m\u001B[43m(\u001B[49m\u001B[43mop_name\u001B[49m\u001B[38;5;241;43m=\u001B[39;49m\u001B[38;5;124;43m\"\u001B[39;49m\u001B[38;5;124;43magg\u001B[39;49m\u001B[38;5;124;43m\"\u001B[39;49m\u001B[43m)\u001B[49m\n",
      "File \u001B[0;32m~/notebooks/venv/lib/python3.11/site-packages/pandas/core/apply.py:744\u001B[0m, in \u001B[0;36mNDFrameApply.agg_or_apply_list_like\u001B[0;34m(self, op_name)\u001B[0m\n\u001B[1;32m    741\u001B[0m \u001B[38;5;28;01mif\u001B[39;00m \u001B[38;5;28mgetattr\u001B[39m(obj, \u001B[38;5;124m\"\u001B[39m\u001B[38;5;124maxis\u001B[39m\u001B[38;5;124m\"\u001B[39m, \u001B[38;5;241m0\u001B[39m) \u001B[38;5;241m==\u001B[39m \u001B[38;5;241m1\u001B[39m:\n\u001B[1;32m    742\u001B[0m     \u001B[38;5;28;01mraise\u001B[39;00m \u001B[38;5;167;01mNotImplementedError\u001B[39;00m(\u001B[38;5;124m\"\u001B[39m\u001B[38;5;124maxis other than 0 is not supported\u001B[39m\u001B[38;5;124m\"\u001B[39m)\n\u001B[0;32m--> 744\u001B[0m keys, results \u001B[38;5;241m=\u001B[39m \u001B[38;5;28;43mself\u001B[39;49m\u001B[38;5;241;43m.\u001B[39;49m\u001B[43mcompute_list_like\u001B[49m\u001B[43m(\u001B[49m\u001B[43mop_name\u001B[49m\u001B[43m,\u001B[49m\u001B[43m \u001B[49m\u001B[43mobj\u001B[49m\u001B[43m,\u001B[49m\u001B[43m \u001B[49m\u001B[43mkwargs\u001B[49m\u001B[43m)\u001B[49m\n\u001B[1;32m    745\u001B[0m result \u001B[38;5;241m=\u001B[39m \u001B[38;5;28mself\u001B[39m\u001B[38;5;241m.\u001B[39mwrap_results_list_like(keys, results)\n\u001B[1;32m    746\u001B[0m \u001B[38;5;28;01mreturn\u001B[39;00m result\n",
      "File \u001B[0;32m~/notebooks/venv/lib/python3.11/site-packages/pandas/core/apply.py:385\u001B[0m, in \u001B[0;36mApply.compute_list_like\u001B[0;34m(self, op_name, selected_obj, kwargs)\u001B[0m\n\u001B[1;32m    379\u001B[0m colg \u001B[38;5;241m=\u001B[39m obj\u001B[38;5;241m.\u001B[39m_gotitem(col, ndim\u001B[38;5;241m=\u001B[39m\u001B[38;5;241m1\u001B[39m, subset\u001B[38;5;241m=\u001B[39mselected_obj\u001B[38;5;241m.\u001B[39miloc[:, index])\n\u001B[1;32m    380\u001B[0m args \u001B[38;5;241m=\u001B[39m (\n\u001B[1;32m    381\u001B[0m     [\u001B[38;5;28mself\u001B[39m\u001B[38;5;241m.\u001B[39maxis, \u001B[38;5;241m*\u001B[39m\u001B[38;5;28mself\u001B[39m\u001B[38;5;241m.\u001B[39margs]\n\u001B[1;32m    382\u001B[0m     \u001B[38;5;28;01mif\u001B[39;00m include_axis(op_name, colg)\n\u001B[1;32m    383\u001B[0m     \u001B[38;5;28;01melse\u001B[39;00m \u001B[38;5;28mself\u001B[39m\u001B[38;5;241m.\u001B[39margs\n\u001B[1;32m    384\u001B[0m )\n\u001B[0;32m--> 385\u001B[0m new_res \u001B[38;5;241m=\u001B[39m \u001B[38;5;28;43mgetattr\u001B[39;49m\u001B[43m(\u001B[49m\u001B[43mcolg\u001B[49m\u001B[43m,\u001B[49m\u001B[43m \u001B[49m\u001B[43mop_name\u001B[49m\u001B[43m)\u001B[49m\u001B[43m(\u001B[49m\u001B[43mfunc\u001B[49m\u001B[43m,\u001B[49m\u001B[43m \u001B[49m\u001B[38;5;241;43m*\u001B[39;49m\u001B[43margs\u001B[49m\u001B[43m,\u001B[49m\u001B[43m \u001B[49m\u001B[38;5;241;43m*\u001B[39;49m\u001B[38;5;241;43m*\u001B[39;49m\u001B[43mkwargs\u001B[49m\u001B[43m)\u001B[49m\n\u001B[1;32m    386\u001B[0m results\u001B[38;5;241m.\u001B[39mappend(new_res)\n\u001B[1;32m    387\u001B[0m indices\u001B[38;5;241m.\u001B[39mappend(index)\n",
      "File \u001B[0;32m~/notebooks/venv/lib/python3.11/site-packages/pandas/core/series.py:4757\u001B[0m, in \u001B[0;36mSeries.aggregate\u001B[0;34m(self, func, axis, *args, **kwargs)\u001B[0m\n\u001B[1;32m   4754\u001B[0m     func \u001B[38;5;241m=\u001B[39m \u001B[38;5;28mdict\u001B[39m(kwargs\u001B[38;5;241m.\u001B[39mitems())\n\u001B[1;32m   4756\u001B[0m op \u001B[38;5;241m=\u001B[39m SeriesApply(\u001B[38;5;28mself\u001B[39m, func, args\u001B[38;5;241m=\u001B[39margs, kwargs\u001B[38;5;241m=\u001B[39mkwargs)\n\u001B[0;32m-> 4757\u001B[0m result \u001B[38;5;241m=\u001B[39m \u001B[43mop\u001B[49m\u001B[38;5;241;43m.\u001B[39;49m\u001B[43magg\u001B[49m\u001B[43m(\u001B[49m\u001B[43m)\u001B[49m\n\u001B[1;32m   4758\u001B[0m \u001B[38;5;28;01mreturn\u001B[39;00m result\n",
      "File \u001B[0;32m~/notebooks/venv/lib/python3.11/site-packages/pandas/core/apply.py:1430\u001B[0m, in \u001B[0;36mSeriesApply.agg\u001B[0;34m(self)\u001B[0m\n\u001B[1;32m   1429\u001B[0m \u001B[38;5;28;01mdef\u001B[39;00m \u001B[38;5;21magg\u001B[39m(\u001B[38;5;28mself\u001B[39m):\n\u001B[0;32m-> 1430\u001B[0m     result \u001B[38;5;241m=\u001B[39m \u001B[38;5;28;43msuper\u001B[39;49m\u001B[43m(\u001B[49m\u001B[43m)\u001B[49m\u001B[38;5;241;43m.\u001B[39;49m\u001B[43magg\u001B[49m\u001B[43m(\u001B[49m\u001B[43m)\u001B[49m\n\u001B[1;32m   1431\u001B[0m     \u001B[38;5;28;01mif\u001B[39;00m result \u001B[38;5;129;01mis\u001B[39;00m \u001B[38;5;28;01mNone\u001B[39;00m:\n\u001B[1;32m   1432\u001B[0m         obj \u001B[38;5;241m=\u001B[39m \u001B[38;5;28mself\u001B[39m\u001B[38;5;241m.\u001B[39mobj\n",
      "File \u001B[0;32m~/notebooks/venv/lib/python3.11/site-packages/pandas/core/apply.py:193\u001B[0m, in \u001B[0;36mApply.agg\u001B[0;34m(self)\u001B[0m\n\u001B[1;32m    190\u001B[0m     \u001B[38;5;28;01mreturn\u001B[39;00m \u001B[38;5;28mself\u001B[39m\u001B[38;5;241m.\u001B[39magg_dict_like()\n\u001B[1;32m    191\u001B[0m \u001B[38;5;28;01melif\u001B[39;00m is_list_like(func):\n\u001B[1;32m    192\u001B[0m     \u001B[38;5;66;03m# we require a list, but not a 'str'\u001B[39;00m\n\u001B[0;32m--> 193\u001B[0m     \u001B[38;5;28;01mreturn\u001B[39;00m \u001B[38;5;28;43mself\u001B[39;49m\u001B[38;5;241;43m.\u001B[39;49m\u001B[43magg_list_like\u001B[49m\u001B[43m(\u001B[49m\u001B[43m)\u001B[49m\n\u001B[1;32m    195\u001B[0m \u001B[38;5;28;01mif\u001B[39;00m \u001B[38;5;28mcallable\u001B[39m(func):\n\u001B[1;32m    196\u001B[0m     f \u001B[38;5;241m=\u001B[39m com\u001B[38;5;241m.\u001B[39mget_cython_func(func)\n",
      "File \u001B[0;32m~/notebooks/venv/lib/python3.11/site-packages/pandas/core/apply.py:326\u001B[0m, in \u001B[0;36mApply.agg_list_like\u001B[0;34m(self)\u001B[0m\n\u001B[1;32m    318\u001B[0m \u001B[38;5;28;01mdef\u001B[39;00m \u001B[38;5;21magg_list_like\u001B[39m(\u001B[38;5;28mself\u001B[39m) \u001B[38;5;241m-\u001B[39m\u001B[38;5;241m>\u001B[39m DataFrame \u001B[38;5;241m|\u001B[39m Series:\n\u001B[1;32m    319\u001B[0m \u001B[38;5;250m    \u001B[39m\u001B[38;5;124;03m\"\"\"\u001B[39;00m\n\u001B[1;32m    320\u001B[0m \u001B[38;5;124;03m    Compute aggregation in the case of a list-like argument.\u001B[39;00m\n\u001B[1;32m    321\u001B[0m \n\u001B[0;32m   (...)\u001B[0m\n\u001B[1;32m    324\u001B[0m \u001B[38;5;124;03m    Result of aggregation.\u001B[39;00m\n\u001B[1;32m    325\u001B[0m \u001B[38;5;124;03m    \"\"\"\u001B[39;00m\n\u001B[0;32m--> 326\u001B[0m     \u001B[38;5;28;01mreturn\u001B[39;00m \u001B[38;5;28;43mself\u001B[39;49m\u001B[38;5;241;43m.\u001B[39;49m\u001B[43magg_or_apply_list_like\u001B[49m\u001B[43m(\u001B[49m\u001B[43mop_name\u001B[49m\u001B[38;5;241;43m=\u001B[39;49m\u001B[38;5;124;43m\"\u001B[39;49m\u001B[38;5;124;43magg\u001B[39;49m\u001B[38;5;124;43m\"\u001B[39;49m\u001B[43m)\u001B[49m\n",
      "File \u001B[0;32m~/notebooks/venv/lib/python3.11/site-packages/pandas/core/apply.py:744\u001B[0m, in \u001B[0;36mNDFrameApply.agg_or_apply_list_like\u001B[0;34m(self, op_name)\u001B[0m\n\u001B[1;32m    741\u001B[0m \u001B[38;5;28;01mif\u001B[39;00m \u001B[38;5;28mgetattr\u001B[39m(obj, \u001B[38;5;124m\"\u001B[39m\u001B[38;5;124maxis\u001B[39m\u001B[38;5;124m\"\u001B[39m, \u001B[38;5;241m0\u001B[39m) \u001B[38;5;241m==\u001B[39m \u001B[38;5;241m1\u001B[39m:\n\u001B[1;32m    742\u001B[0m     \u001B[38;5;28;01mraise\u001B[39;00m \u001B[38;5;167;01mNotImplementedError\u001B[39;00m(\u001B[38;5;124m\"\u001B[39m\u001B[38;5;124maxis other than 0 is not supported\u001B[39m\u001B[38;5;124m\"\u001B[39m)\n\u001B[0;32m--> 744\u001B[0m keys, results \u001B[38;5;241m=\u001B[39m \u001B[38;5;28;43mself\u001B[39;49m\u001B[38;5;241;43m.\u001B[39;49m\u001B[43mcompute_list_like\u001B[49m\u001B[43m(\u001B[49m\u001B[43mop_name\u001B[49m\u001B[43m,\u001B[49m\u001B[43m \u001B[49m\u001B[43mobj\u001B[49m\u001B[43m,\u001B[49m\u001B[43m \u001B[49m\u001B[43mkwargs\u001B[49m\u001B[43m)\u001B[49m\n\u001B[1;32m    745\u001B[0m result \u001B[38;5;241m=\u001B[39m \u001B[38;5;28mself\u001B[39m\u001B[38;5;241m.\u001B[39mwrap_results_list_like(keys, results)\n\u001B[1;32m    746\u001B[0m \u001B[38;5;28;01mreturn\u001B[39;00m result\n",
      "File \u001B[0;32m~/notebooks/venv/lib/python3.11/site-packages/pandas/core/apply.py:369\u001B[0m, in \u001B[0;36mApply.compute_list_like\u001B[0;34m(self, op_name, selected_obj, kwargs)\u001B[0m\n\u001B[1;32m    363\u001B[0m colg \u001B[38;5;241m=\u001B[39m obj\u001B[38;5;241m.\u001B[39m_gotitem(selected_obj\u001B[38;5;241m.\u001B[39mname, ndim\u001B[38;5;241m=\u001B[39m\u001B[38;5;241m1\u001B[39m, subset\u001B[38;5;241m=\u001B[39mselected_obj)\n\u001B[1;32m    364\u001B[0m args \u001B[38;5;241m=\u001B[39m (\n\u001B[1;32m    365\u001B[0m     [\u001B[38;5;28mself\u001B[39m\u001B[38;5;241m.\u001B[39maxis, \u001B[38;5;241m*\u001B[39m\u001B[38;5;28mself\u001B[39m\u001B[38;5;241m.\u001B[39margs]\n\u001B[1;32m    366\u001B[0m     \u001B[38;5;28;01mif\u001B[39;00m include_axis(op_name, colg)\n\u001B[1;32m    367\u001B[0m     \u001B[38;5;28;01melse\u001B[39;00m \u001B[38;5;28mself\u001B[39m\u001B[38;5;241m.\u001B[39margs\n\u001B[1;32m    368\u001B[0m )\n\u001B[0;32m--> 369\u001B[0m new_res \u001B[38;5;241m=\u001B[39m \u001B[38;5;28;43mgetattr\u001B[39;49m\u001B[43m(\u001B[49m\u001B[43mcolg\u001B[49m\u001B[43m,\u001B[49m\u001B[43m \u001B[49m\u001B[43mop_name\u001B[49m\u001B[43m)\u001B[49m\u001B[43m(\u001B[49m\u001B[43ma\u001B[49m\u001B[43m,\u001B[49m\u001B[43m \u001B[49m\u001B[38;5;241;43m*\u001B[39;49m\u001B[43margs\u001B[49m\u001B[43m,\u001B[49m\u001B[43m \u001B[49m\u001B[38;5;241;43m*\u001B[39;49m\u001B[38;5;241;43m*\u001B[39;49m\u001B[43mkwargs\u001B[49m\u001B[43m)\u001B[49m\n\u001B[1;32m    370\u001B[0m results\u001B[38;5;241m.\u001B[39mappend(new_res)\n\u001B[1;32m    372\u001B[0m \u001B[38;5;66;03m# make sure we find a good name\u001B[39;00m\n",
      "File \u001B[0;32m~/notebooks/venv/lib/python3.11/site-packages/pandas/core/series.py:4757\u001B[0m, in \u001B[0;36mSeries.aggregate\u001B[0;34m(self, func, axis, *args, **kwargs)\u001B[0m\n\u001B[1;32m   4754\u001B[0m     func \u001B[38;5;241m=\u001B[39m \u001B[38;5;28mdict\u001B[39m(kwargs\u001B[38;5;241m.\u001B[39mitems())\n\u001B[1;32m   4756\u001B[0m op \u001B[38;5;241m=\u001B[39m SeriesApply(\u001B[38;5;28mself\u001B[39m, func, args\u001B[38;5;241m=\u001B[39margs, kwargs\u001B[38;5;241m=\u001B[39mkwargs)\n\u001B[0;32m-> 4757\u001B[0m result \u001B[38;5;241m=\u001B[39m \u001B[43mop\u001B[49m\u001B[38;5;241;43m.\u001B[39;49m\u001B[43magg\u001B[49m\u001B[43m(\u001B[49m\u001B[43m)\u001B[49m\n\u001B[1;32m   4758\u001B[0m \u001B[38;5;28;01mreturn\u001B[39;00m result\n",
      "File \u001B[0;32m~/notebooks/venv/lib/python3.11/site-packages/pandas/core/apply.py:1430\u001B[0m, in \u001B[0;36mSeriesApply.agg\u001B[0;34m(self)\u001B[0m\n\u001B[1;32m   1429\u001B[0m \u001B[38;5;28;01mdef\u001B[39;00m \u001B[38;5;21magg\u001B[39m(\u001B[38;5;28mself\u001B[39m):\n\u001B[0;32m-> 1430\u001B[0m     result \u001B[38;5;241m=\u001B[39m \u001B[38;5;28;43msuper\u001B[39;49m\u001B[43m(\u001B[49m\u001B[43m)\u001B[49m\u001B[38;5;241;43m.\u001B[39;49m\u001B[43magg\u001B[49m\u001B[43m(\u001B[49m\u001B[43m)\u001B[49m\n\u001B[1;32m   1431\u001B[0m     \u001B[38;5;28;01mif\u001B[39;00m result \u001B[38;5;129;01mis\u001B[39;00m \u001B[38;5;28;01mNone\u001B[39;00m:\n\u001B[1;32m   1432\u001B[0m         obj \u001B[38;5;241m=\u001B[39m \u001B[38;5;28mself\u001B[39m\u001B[38;5;241m.\u001B[39mobj\n",
      "File \u001B[0;32m~/notebooks/venv/lib/python3.11/site-packages/pandas/core/apply.py:187\u001B[0m, in \u001B[0;36mApply.agg\u001B[0;34m(self)\u001B[0m\n\u001B[1;32m    184\u001B[0m kwargs \u001B[38;5;241m=\u001B[39m \u001B[38;5;28mself\u001B[39m\u001B[38;5;241m.\u001B[39mkwargs\n\u001B[1;32m    186\u001B[0m \u001B[38;5;28;01mif\u001B[39;00m \u001B[38;5;28misinstance\u001B[39m(func, \u001B[38;5;28mstr\u001B[39m):\n\u001B[0;32m--> 187\u001B[0m     \u001B[38;5;28;01mreturn\u001B[39;00m \u001B[38;5;28;43mself\u001B[39;49m\u001B[38;5;241;43m.\u001B[39;49m\u001B[43mapply_str\u001B[49m\u001B[43m(\u001B[49m\u001B[43m)\u001B[49m\n\u001B[1;32m    189\u001B[0m \u001B[38;5;28;01mif\u001B[39;00m is_dict_like(func):\n\u001B[1;32m    190\u001B[0m     \u001B[38;5;28;01mreturn\u001B[39;00m \u001B[38;5;28mself\u001B[39m\u001B[38;5;241m.\u001B[39magg_dict_like()\n",
      "File \u001B[0;32m~/notebooks/venv/lib/python3.11/site-packages/pandas/core/apply.py:603\u001B[0m, in \u001B[0;36mApply.apply_str\u001B[0;34m(self)\u001B[0m\n\u001B[1;32m    601\u001B[0m         \u001B[38;5;28;01melse\u001B[39;00m:\n\u001B[1;32m    602\u001B[0m             \u001B[38;5;28mself\u001B[39m\u001B[38;5;241m.\u001B[39mkwargs[\u001B[38;5;124m\"\u001B[39m\u001B[38;5;124maxis\u001B[39m\u001B[38;5;124m\"\u001B[39m] \u001B[38;5;241m=\u001B[39m \u001B[38;5;28mself\u001B[39m\u001B[38;5;241m.\u001B[39maxis\n\u001B[0;32m--> 603\u001B[0m \u001B[38;5;28;01mreturn\u001B[39;00m \u001B[38;5;28;43mself\u001B[39;49m\u001B[38;5;241;43m.\u001B[39;49m\u001B[43m_apply_str\u001B[49m\u001B[43m(\u001B[49m\u001B[43mobj\u001B[49m\u001B[43m,\u001B[49m\u001B[43m \u001B[49m\u001B[43mfunc\u001B[49m\u001B[43m,\u001B[49m\u001B[43m \u001B[49m\u001B[38;5;241;43m*\u001B[39;49m\u001B[38;5;28;43mself\u001B[39;49m\u001B[38;5;241;43m.\u001B[39;49m\u001B[43margs\u001B[49m\u001B[43m,\u001B[49m\u001B[43m \u001B[49m\u001B[38;5;241;43m*\u001B[39;49m\u001B[38;5;241;43m*\u001B[39;49m\u001B[38;5;28;43mself\u001B[39;49m\u001B[38;5;241;43m.\u001B[39;49m\u001B[43mkwargs\u001B[49m\u001B[43m)\u001B[49m\n",
      "File \u001B[0;32m~/notebooks/venv/lib/python3.11/site-packages/pandas/core/apply.py:693\u001B[0m, in \u001B[0;36mApply._apply_str\u001B[0;34m(self, obj, func, *args, **kwargs)\u001B[0m\n\u001B[1;32m    691\u001B[0m f \u001B[38;5;241m=\u001B[39m \u001B[38;5;28mgetattr\u001B[39m(obj, func)\n\u001B[1;32m    692\u001B[0m \u001B[38;5;28;01mif\u001B[39;00m \u001B[38;5;28mcallable\u001B[39m(f):\n\u001B[0;32m--> 693\u001B[0m     \u001B[38;5;28;01mreturn\u001B[39;00m \u001B[43mf\u001B[49m\u001B[43m(\u001B[49m\u001B[38;5;241;43m*\u001B[39;49m\u001B[43margs\u001B[49m\u001B[43m,\u001B[49m\u001B[43m \u001B[49m\u001B[38;5;241;43m*\u001B[39;49m\u001B[38;5;241;43m*\u001B[39;49m\u001B[43mkwargs\u001B[49m\u001B[43m)\u001B[49m\n\u001B[1;32m    695\u001B[0m \u001B[38;5;66;03m# people may aggregate on a non-callable attribute\u001B[39;00m\n\u001B[1;32m    696\u001B[0m \u001B[38;5;66;03m# but don't let them think they can pass args to it\u001B[39;00m\n\u001B[1;32m    697\u001B[0m \u001B[38;5;28;01massert\u001B[39;00m \u001B[38;5;28mlen\u001B[39m(args) \u001B[38;5;241m==\u001B[39m \u001B[38;5;241m0\u001B[39m\n",
      "File \u001B[0;32m~/notebooks/venv/lib/python3.11/site-packages/pandas/core/series.py:6550\u001B[0m, in \u001B[0;36mSeries.median\u001B[0;34m(self, axis, skipna, numeric_only, **kwargs)\u001B[0m\n\u001B[1;32m   6542\u001B[0m \u001B[38;5;129m@doc\u001B[39m(make_doc(\u001B[38;5;124m\"\u001B[39m\u001B[38;5;124mmedian\u001B[39m\u001B[38;5;124m\"\u001B[39m, ndim\u001B[38;5;241m=\u001B[39m\u001B[38;5;241m1\u001B[39m))\n\u001B[1;32m   6543\u001B[0m \u001B[38;5;28;01mdef\u001B[39;00m \u001B[38;5;21mmedian\u001B[39m(\n\u001B[1;32m   6544\u001B[0m     \u001B[38;5;28mself\u001B[39m,\n\u001B[0;32m   (...)\u001B[0m\n\u001B[1;32m   6548\u001B[0m     \u001B[38;5;241m*\u001B[39m\u001B[38;5;241m*\u001B[39mkwargs,\n\u001B[1;32m   6549\u001B[0m ):\n\u001B[0;32m-> 6550\u001B[0m     \u001B[38;5;28;01mreturn\u001B[39;00m \u001B[43mNDFrame\u001B[49m\u001B[38;5;241;43m.\u001B[39;49m\u001B[43mmedian\u001B[49m\u001B[43m(\u001B[49m\u001B[38;5;28;43mself\u001B[39;49m\u001B[43m,\u001B[49m\u001B[43m \u001B[49m\u001B[43maxis\u001B[49m\u001B[43m,\u001B[49m\u001B[43m \u001B[49m\u001B[43mskipna\u001B[49m\u001B[43m,\u001B[49m\u001B[43m \u001B[49m\u001B[43mnumeric_only\u001B[49m\u001B[43m,\u001B[49m\u001B[43m \u001B[49m\u001B[38;5;241;43m*\u001B[39;49m\u001B[38;5;241;43m*\u001B[39;49m\u001B[43mkwargs\u001B[49m\u001B[43m)\u001B[49m\n",
      "File \u001B[0;32m~/notebooks/venv/lib/python3.11/site-packages/pandas/core/generic.py:12428\u001B[0m, in \u001B[0;36mNDFrame.median\u001B[0;34m(self, axis, skipna, numeric_only, **kwargs)\u001B[0m\n\u001B[1;32m  12421\u001B[0m \u001B[38;5;28;01mdef\u001B[39;00m \u001B[38;5;21mmedian\u001B[39m(\n\u001B[1;32m  12422\u001B[0m     \u001B[38;5;28mself\u001B[39m,\n\u001B[1;32m  12423\u001B[0m     axis: Axis \u001B[38;5;241m|\u001B[39m \u001B[38;5;28;01mNone\u001B[39;00m \u001B[38;5;241m=\u001B[39m \u001B[38;5;241m0\u001B[39m,\n\u001B[0;32m   (...)\u001B[0m\n\u001B[1;32m  12426\u001B[0m     \u001B[38;5;241m*\u001B[39m\u001B[38;5;241m*\u001B[39mkwargs,\n\u001B[1;32m  12427\u001B[0m ) \u001B[38;5;241m-\u001B[39m\u001B[38;5;241m>\u001B[39m Series \u001B[38;5;241m|\u001B[39m \u001B[38;5;28mfloat\u001B[39m:\n\u001B[0;32m> 12428\u001B[0m     \u001B[38;5;28;01mreturn\u001B[39;00m \u001B[38;5;28;43mself\u001B[39;49m\u001B[38;5;241;43m.\u001B[39;49m\u001B[43m_stat_function\u001B[49m\u001B[43m(\u001B[49m\n\u001B[1;32m  12429\u001B[0m \u001B[43m        \u001B[49m\u001B[38;5;124;43m\"\u001B[39;49m\u001B[38;5;124;43mmedian\u001B[39;49m\u001B[38;5;124;43m\"\u001B[39;49m\u001B[43m,\u001B[49m\u001B[43m \u001B[49m\u001B[43mnanops\u001B[49m\u001B[38;5;241;43m.\u001B[39;49m\u001B[43mnanmedian\u001B[49m\u001B[43m,\u001B[49m\u001B[43m \u001B[49m\u001B[43maxis\u001B[49m\u001B[43m,\u001B[49m\u001B[43m \u001B[49m\u001B[43mskipna\u001B[49m\u001B[43m,\u001B[49m\u001B[43m \u001B[49m\u001B[43mnumeric_only\u001B[49m\u001B[43m,\u001B[49m\u001B[43m \u001B[49m\u001B[38;5;241;43m*\u001B[39;49m\u001B[38;5;241;43m*\u001B[39;49m\u001B[43mkwargs\u001B[49m\n\u001B[1;32m  12430\u001B[0m \u001B[43m    \u001B[49m\u001B[43m)\u001B[49m\n",
      "File \u001B[0;32m~/notebooks/venv/lib/python3.11/site-packages/pandas/core/generic.py:12374\u001B[0m, in \u001B[0;36mNDFrame._stat_function\u001B[0;34m(self, name, func, axis, skipna, numeric_only, **kwargs)\u001B[0m\n\u001B[1;32m  12370\u001B[0m nv\u001B[38;5;241m.\u001B[39mvalidate_func(name, (), kwargs)\n\u001B[1;32m  12372\u001B[0m validate_bool_kwarg(skipna, \u001B[38;5;124m\"\u001B[39m\u001B[38;5;124mskipna\u001B[39m\u001B[38;5;124m\"\u001B[39m, none_allowed\u001B[38;5;241m=\u001B[39m\u001B[38;5;28;01mFalse\u001B[39;00m)\n\u001B[0;32m> 12374\u001B[0m \u001B[38;5;28;01mreturn\u001B[39;00m \u001B[38;5;28;43mself\u001B[39;49m\u001B[38;5;241;43m.\u001B[39;49m\u001B[43m_reduce\u001B[49m\u001B[43m(\u001B[49m\n\u001B[1;32m  12375\u001B[0m \u001B[43m    \u001B[49m\u001B[43mfunc\u001B[49m\u001B[43m,\u001B[49m\u001B[43m \u001B[49m\u001B[43mname\u001B[49m\u001B[38;5;241;43m=\u001B[39;49m\u001B[43mname\u001B[49m\u001B[43m,\u001B[49m\u001B[43m \u001B[49m\u001B[43maxis\u001B[49m\u001B[38;5;241;43m=\u001B[39;49m\u001B[43maxis\u001B[49m\u001B[43m,\u001B[49m\u001B[43m \u001B[49m\u001B[43mskipna\u001B[49m\u001B[38;5;241;43m=\u001B[39;49m\u001B[43mskipna\u001B[49m\u001B[43m,\u001B[49m\u001B[43m \u001B[49m\u001B[43mnumeric_only\u001B[49m\u001B[38;5;241;43m=\u001B[39;49m\u001B[43mnumeric_only\u001B[49m\n\u001B[1;32m  12376\u001B[0m \u001B[43m\u001B[49m\u001B[43m)\u001B[49m\n",
      "File \u001B[0;32m~/notebooks/venv/lib/python3.11/site-packages/pandas/core/series.py:6448\u001B[0m, in \u001B[0;36mSeries._reduce\u001B[0;34m(self, op, name, axis, skipna, numeric_only, filter_type, **kwds)\u001B[0m\n\u001B[1;32m   6443\u001B[0m     \u001B[38;5;66;03m# GH#47500 - change to TypeError to match other methods\u001B[39;00m\n\u001B[1;32m   6444\u001B[0m     \u001B[38;5;28;01mraise\u001B[39;00m \u001B[38;5;167;01mTypeError\u001B[39;00m(\n\u001B[1;32m   6445\u001B[0m         \u001B[38;5;124mf\u001B[39m\u001B[38;5;124m\"\u001B[39m\u001B[38;5;124mSeries.\u001B[39m\u001B[38;5;132;01m{\u001B[39;00mname\u001B[38;5;132;01m}\u001B[39;00m\u001B[38;5;124m does not allow \u001B[39m\u001B[38;5;132;01m{\u001B[39;00mkwd_name\u001B[38;5;132;01m}\u001B[39;00m\u001B[38;5;124m=\u001B[39m\u001B[38;5;132;01m{\u001B[39;00mnumeric_only\u001B[38;5;132;01m}\u001B[39;00m\u001B[38;5;124m \u001B[39m\u001B[38;5;124m\"\u001B[39m\n\u001B[1;32m   6446\u001B[0m         \u001B[38;5;124m\"\u001B[39m\u001B[38;5;124mwith non-numeric dtypes.\u001B[39m\u001B[38;5;124m\"\u001B[39m\n\u001B[1;32m   6447\u001B[0m     )\n\u001B[0;32m-> 6448\u001B[0m \u001B[38;5;28;01mreturn\u001B[39;00m \u001B[43mop\u001B[49m\u001B[43m(\u001B[49m\u001B[43mdelegate\u001B[49m\u001B[43m,\u001B[49m\u001B[43m \u001B[49m\u001B[43mskipna\u001B[49m\u001B[38;5;241;43m=\u001B[39;49m\u001B[43mskipna\u001B[49m\u001B[43m,\u001B[49m\u001B[43m \u001B[49m\u001B[38;5;241;43m*\u001B[39;49m\u001B[38;5;241;43m*\u001B[39;49m\u001B[43mkwds\u001B[49m\u001B[43m)\u001B[49m\n",
      "File \u001B[0;32m~/notebooks/venv/lib/python3.11/site-packages/pandas/core/nanops.py:147\u001B[0m, in \u001B[0;36mbottleneck_switch.__call__.<locals>.f\u001B[0;34m(values, axis, skipna, **kwds)\u001B[0m\n\u001B[1;32m    145\u001B[0m         result \u001B[38;5;241m=\u001B[39m alt(values, axis\u001B[38;5;241m=\u001B[39maxis, skipna\u001B[38;5;241m=\u001B[39mskipna, \u001B[38;5;241m*\u001B[39m\u001B[38;5;241m*\u001B[39mkwds)\n\u001B[1;32m    146\u001B[0m \u001B[38;5;28;01melse\u001B[39;00m:\n\u001B[0;32m--> 147\u001B[0m     result \u001B[38;5;241m=\u001B[39m \u001B[43malt\u001B[49m\u001B[43m(\u001B[49m\u001B[43mvalues\u001B[49m\u001B[43m,\u001B[49m\u001B[43m \u001B[49m\u001B[43maxis\u001B[49m\u001B[38;5;241;43m=\u001B[39;49m\u001B[43maxis\u001B[49m\u001B[43m,\u001B[49m\u001B[43m \u001B[49m\u001B[43mskipna\u001B[49m\u001B[38;5;241;43m=\u001B[39;49m\u001B[43mskipna\u001B[49m\u001B[43m,\u001B[49m\u001B[43m \u001B[49m\u001B[38;5;241;43m*\u001B[39;49m\u001B[38;5;241;43m*\u001B[39;49m\u001B[43mkwds\u001B[49m\u001B[43m)\u001B[49m\n\u001B[1;32m    149\u001B[0m \u001B[38;5;28;01mreturn\u001B[39;00m result\n",
      "File \u001B[0;32m~/notebooks/venv/lib/python3.11/site-packages/pandas/core/nanops.py:787\u001B[0m, in \u001B[0;36mnanmedian\u001B[0;34m(values, axis, skipna, mask)\u001B[0m\n\u001B[1;32m    785\u001B[0m     inferred \u001B[38;5;241m=\u001B[39m lib\u001B[38;5;241m.\u001B[39minfer_dtype(values)\n\u001B[1;32m    786\u001B[0m     \u001B[38;5;28;01mif\u001B[39;00m inferred \u001B[38;5;129;01min\u001B[39;00m [\u001B[38;5;124m\"\u001B[39m\u001B[38;5;124mstring\u001B[39m\u001B[38;5;124m\"\u001B[39m, \u001B[38;5;124m\"\u001B[39m\u001B[38;5;124mmixed\u001B[39m\u001B[38;5;124m\"\u001B[39m]:\n\u001B[0;32m--> 787\u001B[0m         \u001B[38;5;28;01mraise\u001B[39;00m \u001B[38;5;167;01mTypeError\u001B[39;00m(\u001B[38;5;124mf\u001B[39m\u001B[38;5;124m\"\u001B[39m\u001B[38;5;124mCannot convert \u001B[39m\u001B[38;5;132;01m{\u001B[39;00mvalues\u001B[38;5;132;01m}\u001B[39;00m\u001B[38;5;124m to numeric\u001B[39m\u001B[38;5;124m\"\u001B[39m)\n\u001B[1;32m    788\u001B[0m \u001B[38;5;28;01mtry\u001B[39;00m:\n\u001B[1;32m    789\u001B[0m     values \u001B[38;5;241m=\u001B[39m values\u001B[38;5;241m.\u001B[39mastype(\u001B[38;5;124m\"\u001B[39m\u001B[38;5;124mf8\u001B[39m\u001B[38;5;124m\"\u001B[39m)\n",
      "\u001B[0;31mTypeError\u001B[0m: Cannot convert ['130' '165' '150' '150' '140' '198' '220' '215' '225' '190' '170' '160'\n '150' '225' '95' '95' '97' '85' '88' '46' '87' '90' '95' '113' '90' '215'\n '200' '210' '193' '88' '90' '95' '?' '100' '105' '100' '88' '100' '165'\n '175' '153' '150' '180' '170' '175' '110' '72' '100' '88' '86' '90' '70'\n '76' '65' '69' '60' '70' '95' '80' '54' '90' '86' '165' '175' '150' '153'\n '150' '208' '155' '160' '190' '97' '150' '130' '140' '150' '112' '76'\n '87' '69' '86' '92' '97' '80' '88' '175' '150' '145' '137' '150' '198'\n '150' '158' '150' '215' '225' '175' '105' '100' '100' '88' '95' '46'\n '150' '167' '170' '180' '100' '88' '72' '94' '90' '85' '107' '90' '145'\n '230' '49' '75' '91' '112' '150' '110' '122' '180' '95' '?' '100' '100'\n '67' '80' '65' '75' '100' '110' '105' '140' '150' '150' '140' '150' '83'\n '67' '78' '52' '61' '75' '75' '75' '97' '93' '67' '95' '105' '72' '72'\n '170' '145' '150' '148' '110' '105' '110' '95' '110' '110' '129' '75'\n '83' '100' '78' '96' '71' '97' '97' '70' '90' '95' '88' '98' '115' '53'\n '86' '81' '92' '79' '83' '140' '150' '120' '152' '100' '105' '81' '90'\n '52' '60' '70' '53' '100' '78' '110' '95' '71' '70' '75' '72' '102' '150'\n '88' '108' '120' '180' '145' '130' '150' '68' '80' '58' '96' '70' '145'\n '110' '145' '130' '110' '105' '100' '98' '180' '170' '190' '149' '78'\n '88' '75' '89' '63' '83' '67' '78' '97' '110' '110' '48' '66' '52' '70'\n '60' '110' '140' '139' '105' '95' '85' '88' '100' '90' '105' '85' '110'\n '120' '145' '165' '139' '140' '68' '95' '97' '75' '95' '105' '85' '97'\n '103' '125' '115' '133' '71' '68' '115' '85' '88' '90' '110' '130' '129'\n '138' '135' '155' '142' '125' '150' '71' '65' '80' '80' '77' '125' '71'\n '90' '70' '70' '65' '69' '90' '115' '115' '90' '76' '60' '70' '65' '90'\n '88' '90' '90' '78' '90' '75' '92' '75' '65' '105' '65' '48' '48' '67'\n '67' '67' '?' '67' '62' '132' '100' '88' '?' '72' '84' '84' '92' '110'\n '84' '58' '64' '60' '67' '65' '62' '68' '63' '65' '65' '74' '?' '75' '75'\n '100' '74' '80' '76' '116' '120' '110' '105' '88' '85' '88' '88' '88'\n '85' '84' '90' '92' '?' '74' '68' '68' '63' '70' '88' '75' '70' '67' '67'\n '67' '110' '85' '92' '112' '96' '84' '90' '86' '52' '84' '79' '82'] to numeric"
     ]
    }
   ],
   "source": [
    "# These strings need to match up with built-in method names\n",
    "df.agg(['median','mean'])"
   ]
  },
  {
   "cell_type": "code",
   "execution_count": null,
   "metadata": {
    "ExecuteTime": {
     "end_time": "2024-03-30T16:21:27.533939Z",
     "start_time": "2024-03-30T16:21:27.533848Z"
    }
   },
   "outputs": [],
   "source": [
    "df.agg(['sum','mean'])[['mpg','weight']]"
   ]
  },
  {
   "cell_type": "markdown",
   "metadata": {},
   "source": [
    "### Specify aggregate methods per column\n",
    "\n",
    "**agg()** is very powerful,allowing you to pass in a dictionary where the keys are the columns and the values are a list of aggregate methods."
   ]
  },
  {
   "cell_type": "code",
   "execution_count": null,
   "metadata": {
    "ExecuteTime": {
     "end_time": "2024-03-30T16:21:27.535115Z",
     "start_time": "2024-03-30T16:21:27.534816Z"
    }
   },
   "outputs": [],
   "source": [
    "df.agg({'mpg':['median','mean'],'weight':['mean','std']})"
   ]
  },
  {
   "cell_type": "markdown",
   "metadata": {},
   "source": [
    "## agg() with groupby()"
   ]
  },
  {
   "cell_type": "code",
   "execution_count": null,
   "metadata": {
    "ExecuteTime": {
     "end_time": "2024-03-30T16:21:27.535748Z",
     "start_time": "2024-03-30T16:21:27.535656Z"
    }
   },
   "outputs": [],
   "source": [
    "df.groupby('model_year').agg({'mpg':['median','mean'],'weight':['mean','std']})"
   ]
  }
 ],
 "metadata": {
  "anaconda-cloud": {},
  "kernelspec": {
   "display_name": "Python 3",
   "language": "python",
   "name": "python3"
  },
  "language_info": {
   "codemirror_mode": {
    "name": "ipython",
    "version": 3
   },
   "file_extension": ".py",
   "mimetype": "text/x-python",
   "name": "python",
   "nbconvert_exporter": "python",
   "pygments_lexer": "ipython3",
   "version": "3.7.6"
  }
 },
 "nbformat": 4,
 "nbformat_minor": 1
}
