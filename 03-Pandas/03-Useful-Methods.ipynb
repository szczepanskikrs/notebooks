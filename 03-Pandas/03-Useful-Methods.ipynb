{
 "cells": [
  {
   "cell_type": "markdown",
   "metadata": {},
   "source": [
    "___\n",
    "\n",
    "<a href='http://www.pieriandata.com'><img src='../Pierian_Data_Logo.png'/></a>\n",
    "___\n",
    "<center><em>Copyright by Pierian Data Inc.</em></center>\n",
    "<center><em>For more information, visit us at <a href='http://www.pieriandata.com'>www.pieriandata.com</a></em></center>"
   ]
  },
  {
   "cell_type": "markdown",
   "metadata": {},
   "source": [
    "# Useful Methods\n",
    "\n",
    "Let's cover some useful methods and functions built in to pandas. This is actually just a small sampling of the functions and methods available in Pandas, but they are some of the most commonly used.\n",
    "The [documentation](https://pandas.pydata.org/pandas-docs/stable/reference/index.html) is a great resource to continue exploring more methods and functions (we will introduce more further along in the course).\n",
    "Here is a list of functions and methods we'll cover here (click on one to jump to that section in this notebook.):\n",
    "\n",
    "* [apply() method](#apply_method)\n",
    "* [apply() with a function](#apply_function)\n",
    "* [apply() with a lambda expression](#apply_lambda)\n",
    "* [apply() on multiple columns](#apply_multiple)\n",
    "* [describe()](#describe)\n",
    "* [sort_values()](#sort)\n",
    "* [corr()](#corr)\n",
    "* [idxmin and idxmax](#idx)\n",
    "* [value_counts](#v_c)\n",
    "* [replace](#replace)\n",
    "* [unique and nunique](#uni)\n",
    "* [map](#map)\n",
    "* [duplicated and drop_duplicates](#dup)\n",
    "* [between](#bet)\n",
    "* [sample](#sample)\n",
    "* [nlargest](#n)\n",
    "\n",
    "Make sure to view the video lessons to get the full explanation!"
   ]
  },
  {
   "cell_type": "markdown",
   "metadata": {},
   "source": [
    "<a id='apply_method'></a>\n",
    "\n",
    "## The .apply() method\n",
    "\n",
    "Here we will learn about a very useful method known as **apply** on a DataFrame. This allows us to apply and broadcast custom functions on a DataFrame column"
   ]
  },
  {
   "cell_type": "code",
   "execution_count": 1,
   "metadata": {
    "collapsed": true,
    "ExecuteTime": {
     "end_time": "2024-03-28T17:03:37.875189Z",
     "start_time": "2024-03-28T17:03:37.602361Z"
    }
   },
   "outputs": [],
   "source": [
    "import pandas as pd\n",
    "import numpy as np"
   ]
  },
  {
   "cell_type": "code",
   "execution_count": 2,
   "metadata": {
    "collapsed": true,
    "ExecuteTime": {
     "end_time": "2024-03-28T17:03:37.880849Z",
     "start_time": "2024-03-28T17:03:37.876475Z"
    }
   },
   "outputs": [],
   "source": [
    "df = pd.read_csv('tips.csv')"
   ]
  },
  {
   "cell_type": "code",
   "execution_count": 3,
   "metadata": {
    "ExecuteTime": {
     "end_time": "2024-03-28T17:03:37.888157Z",
     "start_time": "2024-03-28T17:03:37.881275Z"
    }
   },
   "outputs": [
    {
     "data": {
      "text/plain": "   total_bill   tip     sex smoker  day    time  size  price_per_person  \\\n0       16.99  1.01  Female     No  Sun  Dinner     2              8.49   \n1       10.34  1.66    Male     No  Sun  Dinner     3              3.45   \n2       21.01  3.50    Male     No  Sun  Dinner     3              7.00   \n3       23.68  3.31    Male     No  Sun  Dinner     2             11.84   \n4       24.59  3.61  Female     No  Sun  Dinner     4              6.15   \n\n           Payer Name         CC Number Payment ID  \n0  Christy Cunningham  3560325168603410    Sun2959  \n1      Douglas Tucker  4478071379779230    Sun4608  \n2      Travis Walters  6011812112971322    Sun4458  \n3    Nathaniel Harris  4676137647685994    Sun5260  \n4        Tonya Carter  4832732618637221    Sun2251  ",
      "text/html": "<div>\n<style scoped>\n    .dataframe tbody tr th:only-of-type {\n        vertical-align: middle;\n    }\n\n    .dataframe tbody tr th {\n        vertical-align: top;\n    }\n\n    .dataframe thead th {\n        text-align: right;\n    }\n</style>\n<table border=\"1\" class=\"dataframe\">\n  <thead>\n    <tr style=\"text-align: right;\">\n      <th></th>\n      <th>total_bill</th>\n      <th>tip</th>\n      <th>sex</th>\n      <th>smoker</th>\n      <th>day</th>\n      <th>time</th>\n      <th>size</th>\n      <th>price_per_person</th>\n      <th>Payer Name</th>\n      <th>CC Number</th>\n      <th>Payment ID</th>\n    </tr>\n  </thead>\n  <tbody>\n    <tr>\n      <th>0</th>\n      <td>16.99</td>\n      <td>1.01</td>\n      <td>Female</td>\n      <td>No</td>\n      <td>Sun</td>\n      <td>Dinner</td>\n      <td>2</td>\n      <td>8.49</td>\n      <td>Christy Cunningham</td>\n      <td>3560325168603410</td>\n      <td>Sun2959</td>\n    </tr>\n    <tr>\n      <th>1</th>\n      <td>10.34</td>\n      <td>1.66</td>\n      <td>Male</td>\n      <td>No</td>\n      <td>Sun</td>\n      <td>Dinner</td>\n      <td>3</td>\n      <td>3.45</td>\n      <td>Douglas Tucker</td>\n      <td>4478071379779230</td>\n      <td>Sun4608</td>\n    </tr>\n    <tr>\n      <th>2</th>\n      <td>21.01</td>\n      <td>3.50</td>\n      <td>Male</td>\n      <td>No</td>\n      <td>Sun</td>\n      <td>Dinner</td>\n      <td>3</td>\n      <td>7.00</td>\n      <td>Travis Walters</td>\n      <td>6011812112971322</td>\n      <td>Sun4458</td>\n    </tr>\n    <tr>\n      <th>3</th>\n      <td>23.68</td>\n      <td>3.31</td>\n      <td>Male</td>\n      <td>No</td>\n      <td>Sun</td>\n      <td>Dinner</td>\n      <td>2</td>\n      <td>11.84</td>\n      <td>Nathaniel Harris</td>\n      <td>4676137647685994</td>\n      <td>Sun5260</td>\n    </tr>\n    <tr>\n      <th>4</th>\n      <td>24.59</td>\n      <td>3.61</td>\n      <td>Female</td>\n      <td>No</td>\n      <td>Sun</td>\n      <td>Dinner</td>\n      <td>4</td>\n      <td>6.15</td>\n      <td>Tonya Carter</td>\n      <td>4832732618637221</td>\n      <td>Sun2251</td>\n    </tr>\n  </tbody>\n</table>\n</div>"
     },
     "execution_count": 3,
     "metadata": {},
     "output_type": "execute_result"
    }
   ],
   "source": [
    "df.head()"
   ]
  },
  {
   "cell_type": "markdown",
   "metadata": {},
   "source": [
    "<a id='apply_function'></a>\n",
    "### apply with a function"
   ]
  },
  {
   "cell_type": "code",
   "execution_count": 4,
   "metadata": {
    "ExecuteTime": {
     "end_time": "2024-03-28T17:03:37.895066Z",
     "start_time": "2024-03-28T17:03:37.888628Z"
    }
   },
   "outputs": [
    {
     "name": "stdout",
     "output_type": "stream",
     "text": [
      "<class 'pandas.core.frame.DataFrame'>\n",
      "RangeIndex: 244 entries, 0 to 243\n",
      "Data columns (total 11 columns):\n",
      " #   Column            Non-Null Count  Dtype  \n",
      "---  ------            --------------  -----  \n",
      " 0   total_bill        244 non-null    float64\n",
      " 1   tip               244 non-null    float64\n",
      " 2   sex               244 non-null    object \n",
      " 3   smoker            244 non-null    object \n",
      " 4   day               244 non-null    object \n",
      " 5   time              244 non-null    object \n",
      " 6   size              244 non-null    int64  \n",
      " 7   price_per_person  244 non-null    float64\n",
      " 8   Payer Name        244 non-null    object \n",
      " 9   CC Number         244 non-null    int64  \n",
      " 10  Payment ID        244 non-null    object \n",
      "dtypes: float64(3), int64(2), object(6)\n",
      "memory usage: 21.1+ KB\n"
     ]
    }
   ],
   "source": [
    "df.info()"
   ]
  },
  {
   "cell_type": "code",
   "execution_count": 5,
   "metadata": {
    "collapsed": true,
    "ExecuteTime": {
     "end_time": "2024-03-28T17:03:37.898256Z",
     "start_time": "2024-03-28T17:03:37.896506Z"
    }
   },
   "outputs": [],
   "source": [
    "def last_four(num):\n",
    "    return str(num)[-4:]"
   ]
  },
  {
   "cell_type": "code",
   "execution_count": 6,
   "metadata": {
    "ExecuteTime": {
     "end_time": "2024-03-28T17:03:37.901310Z",
     "start_time": "2024-03-28T17:03:37.898834Z"
    }
   },
   "outputs": [
    {
     "data": {
      "text/plain": "3560325168603410"
     },
     "execution_count": 6,
     "metadata": {},
     "output_type": "execute_result"
    }
   ],
   "source": [
    "df['CC Number'][0]"
   ]
  },
  {
   "cell_type": "code",
   "execution_count": 7,
   "metadata": {
    "ExecuteTime": {
     "end_time": "2024-03-28T17:03:37.903964Z",
     "start_time": "2024-03-28T17:03:37.901840Z"
    }
   },
   "outputs": [
    {
     "data": {
      "text/plain": "'3410'"
     },
     "execution_count": 7,
     "metadata": {},
     "output_type": "execute_result"
    }
   ],
   "source": [
    "last_four(3560325168603410)"
   ]
  },
  {
   "cell_type": "code",
   "execution_count": 8,
   "metadata": {
    "collapsed": true,
    "ExecuteTime": {
     "end_time": "2024-03-28T17:03:37.906390Z",
     "start_time": "2024-03-28T17:03:37.904531Z"
    }
   },
   "outputs": [],
   "source": [
    "df['last_four'] = df['CC Number'].apply(last_four)"
   ]
  },
  {
   "cell_type": "code",
   "execution_count": 9,
   "metadata": {
    "ExecuteTime": {
     "end_time": "2024-03-28T17:03:37.911857Z",
     "start_time": "2024-03-28T17:03:37.906858Z"
    }
   },
   "outputs": [
    {
     "data": {
      "text/plain": "   total_bill   tip     sex smoker  day    time  size  price_per_person  \\\n0       16.99  1.01  Female     No  Sun  Dinner     2              8.49   \n1       10.34  1.66    Male     No  Sun  Dinner     3              3.45   \n2       21.01  3.50    Male     No  Sun  Dinner     3              7.00   \n3       23.68  3.31    Male     No  Sun  Dinner     2             11.84   \n4       24.59  3.61  Female     No  Sun  Dinner     4              6.15   \n\n           Payer Name         CC Number Payment ID last_four  \n0  Christy Cunningham  3560325168603410    Sun2959      3410  \n1      Douglas Tucker  4478071379779230    Sun4608      9230  \n2      Travis Walters  6011812112971322    Sun4458      1322  \n3    Nathaniel Harris  4676137647685994    Sun5260      5994  \n4        Tonya Carter  4832732618637221    Sun2251      7221  ",
      "text/html": "<div>\n<style scoped>\n    .dataframe tbody tr th:only-of-type {\n        vertical-align: middle;\n    }\n\n    .dataframe tbody tr th {\n        vertical-align: top;\n    }\n\n    .dataframe thead th {\n        text-align: right;\n    }\n</style>\n<table border=\"1\" class=\"dataframe\">\n  <thead>\n    <tr style=\"text-align: right;\">\n      <th></th>\n      <th>total_bill</th>\n      <th>tip</th>\n      <th>sex</th>\n      <th>smoker</th>\n      <th>day</th>\n      <th>time</th>\n      <th>size</th>\n      <th>price_per_person</th>\n      <th>Payer Name</th>\n      <th>CC Number</th>\n      <th>Payment ID</th>\n      <th>last_four</th>\n    </tr>\n  </thead>\n  <tbody>\n    <tr>\n      <th>0</th>\n      <td>16.99</td>\n      <td>1.01</td>\n      <td>Female</td>\n      <td>No</td>\n      <td>Sun</td>\n      <td>Dinner</td>\n      <td>2</td>\n      <td>8.49</td>\n      <td>Christy Cunningham</td>\n      <td>3560325168603410</td>\n      <td>Sun2959</td>\n      <td>3410</td>\n    </tr>\n    <tr>\n      <th>1</th>\n      <td>10.34</td>\n      <td>1.66</td>\n      <td>Male</td>\n      <td>No</td>\n      <td>Sun</td>\n      <td>Dinner</td>\n      <td>3</td>\n      <td>3.45</td>\n      <td>Douglas Tucker</td>\n      <td>4478071379779230</td>\n      <td>Sun4608</td>\n      <td>9230</td>\n    </tr>\n    <tr>\n      <th>2</th>\n      <td>21.01</td>\n      <td>3.50</td>\n      <td>Male</td>\n      <td>No</td>\n      <td>Sun</td>\n      <td>Dinner</td>\n      <td>3</td>\n      <td>7.00</td>\n      <td>Travis Walters</td>\n      <td>6011812112971322</td>\n      <td>Sun4458</td>\n      <td>1322</td>\n    </tr>\n    <tr>\n      <th>3</th>\n      <td>23.68</td>\n      <td>3.31</td>\n      <td>Male</td>\n      <td>No</td>\n      <td>Sun</td>\n      <td>Dinner</td>\n      <td>2</td>\n      <td>11.84</td>\n      <td>Nathaniel Harris</td>\n      <td>4676137647685994</td>\n      <td>Sun5260</td>\n      <td>5994</td>\n    </tr>\n    <tr>\n      <th>4</th>\n      <td>24.59</td>\n      <td>3.61</td>\n      <td>Female</td>\n      <td>No</td>\n      <td>Sun</td>\n      <td>Dinner</td>\n      <td>4</td>\n      <td>6.15</td>\n      <td>Tonya Carter</td>\n      <td>4832732618637221</td>\n      <td>Sun2251</td>\n      <td>7221</td>\n    </tr>\n  </tbody>\n</table>\n</div>"
     },
     "execution_count": 9,
     "metadata": {},
     "output_type": "execute_result"
    }
   ],
   "source": [
    "df.head()"
   ]
  },
  {
   "cell_type": "markdown",
   "metadata": {},
   "source": [
    "### Using .apply() with more complex functions"
   ]
  },
  {
   "cell_type": "code",
   "execution_count": 10,
   "metadata": {
    "ExecuteTime": {
     "end_time": "2024-03-28T17:03:37.914073Z",
     "start_time": "2024-03-28T17:03:37.912340Z"
    }
   },
   "outputs": [
    {
     "data": {
      "text/plain": "19.78594262295082"
     },
     "execution_count": 10,
     "metadata": {},
     "output_type": "execute_result"
    }
   ],
   "source": [
    "df['total_bill'].mean()"
   ]
  },
  {
   "cell_type": "code",
   "execution_count": 11,
   "metadata": {
    "collapsed": true,
    "ExecuteTime": {
     "end_time": "2024-03-28T17:03:37.916732Z",
     "start_time": "2024-03-28T17:03:37.914718Z"
    }
   },
   "outputs": [],
   "source": [
    "def yelp(price):\n",
    "    if price < 10:\n",
    "        return '$'\n",
    "    elif price >= 10 and price < 30:\n",
    "        return '$$'\n",
    "    else:\n",
    "        return '$$$'"
   ]
  },
  {
   "cell_type": "code",
   "execution_count": 12,
   "metadata": {
    "collapsed": true,
    "ExecuteTime": {
     "end_time": "2024-03-28T17:03:37.919051Z",
     "start_time": "2024-03-28T17:03:37.917308Z"
    }
   },
   "outputs": [],
   "source": [
    "df['Expensive'] = df['total_bill'].apply(yelp)"
   ]
  },
  {
   "cell_type": "code",
   "execution_count": 13,
   "metadata": {
    "collapsed": true,
    "ExecuteTime": {
     "end_time": "2024-03-28T17:03:37.920671Z",
     "start_time": "2024-03-28T17:03:37.919454Z"
    }
   },
   "outputs": [],
   "source": [
    "# df"
   ]
  },
  {
   "cell_type": "markdown",
   "metadata": {},
   "source": [
    "<a id='apply_lambda'></a>\n",
    "### apply with lambda"
   ]
  },
  {
   "cell_type": "code",
   "execution_count": 14,
   "metadata": {
    "collapsed": true,
    "ExecuteTime": {
     "end_time": "2024-03-28T17:03:37.923089Z",
     "start_time": "2024-03-28T17:03:37.921720Z"
    }
   },
   "outputs": [],
   "source": [
    "def simple(num):\n",
    "    return num * 2"
   ]
  },
  {
   "cell_type": "code",
   "execution_count": 15,
   "metadata": {
    "ExecuteTime": {
     "end_time": "2024-03-28T17:03:37.925512Z",
     "start_time": "2024-03-28T17:03:37.923521Z"
    }
   },
   "outputs": [
    {
     "data": {
      "text/plain": "<function __main__.<lambda>(num)>"
     },
     "execution_count": 15,
     "metadata": {},
     "output_type": "execute_result"
    }
   ],
   "source": [
    "lambda num: num * 2"
   ]
  },
  {
   "cell_type": "code",
   "outputs": [],
   "source": [
    "df['some'] = df['total_bill'].apply(lambda x: x * 1.2)"
   ],
   "metadata": {
    "collapsed": false,
    "ExecuteTime": {
     "end_time": "2024-03-28T17:10:37.396339Z",
     "start_time": "2024-03-28T17:10:37.392947Z"
    }
   },
   "execution_count": 32
  },
  {
   "cell_type": "code",
   "outputs": [
    {
     "data": {
      "text/plain": "     total_bill   tip     sex smoker   day    time  size  price_per_person  \\\n0         16.99  1.01  Female     No   Sun  Dinner     2              8.49   \n1         10.34  1.66    Male     No   Sun  Dinner     3              3.45   \n2         21.01  3.50    Male     No   Sun  Dinner     3              7.00   \n3         23.68  3.31    Male     No   Sun  Dinner     2             11.84   \n4         24.59  3.61  Female     No   Sun  Dinner     4              6.15   \n..          ...   ...     ...    ...   ...     ...   ...               ...   \n239       29.03  5.92    Male     No   Sat  Dinner     3              9.68   \n240       27.18  2.00  Female    Yes   Sat  Dinner     2             13.59   \n241       22.67  2.00    Male    Yes   Sat  Dinner     2             11.34   \n242       17.82  1.75    Male     No   Sat  Dinner     2              8.91   \n243       18.78  3.00  Female     No  Thur  Dinner     2              9.39   \n\n             Payer Name         CC Number Payment ID last_four Expensive  \\\n0    Christy Cunningham  3560325168603410    Sun2959      3410        $$   \n1        Douglas Tucker  4478071379779230    Sun4608      9230        $$   \n2        Travis Walters  6011812112971322    Sun4458      1322        $$   \n3      Nathaniel Harris  4676137647685994    Sun5260      5994        $$   \n4          Tonya Carter  4832732618637221    Sun2251      7221        $$   \n..                  ...               ...        ...       ...       ...   \n239       Michael Avila  5296068606052842    Sat2657      2842        $$   \n240      Monica Sanders  3506806155565404    Sat1766      5404        $$   \n241          Keith Wong  6011891618747196    Sat3880      7196        $$   \n242        Dennis Dixon     4375220550950      Sat17      0950        $$   \n243     Michelle Hardin  3511451626698139    Thur672      8139        $$   \n\n    Tip Quality    some  \n0         Other  20.388  \n1         Other  12.408  \n2         Other  25.212  \n3         Other  28.416  \n4         Other  29.508  \n..          ...     ...  \n239       Other  34.836  \n240       Other  32.616  \n241       Other  27.204  \n242       Other  21.384  \n243       Other  22.536  \n\n[244 rows x 15 columns]",
      "text/html": "<div>\n<style scoped>\n    .dataframe tbody tr th:only-of-type {\n        vertical-align: middle;\n    }\n\n    .dataframe tbody tr th {\n        vertical-align: top;\n    }\n\n    .dataframe thead th {\n        text-align: right;\n    }\n</style>\n<table border=\"1\" class=\"dataframe\">\n  <thead>\n    <tr style=\"text-align: right;\">\n      <th></th>\n      <th>total_bill</th>\n      <th>tip</th>\n      <th>sex</th>\n      <th>smoker</th>\n      <th>day</th>\n      <th>time</th>\n      <th>size</th>\n      <th>price_per_person</th>\n      <th>Payer Name</th>\n      <th>CC Number</th>\n      <th>Payment ID</th>\n      <th>last_four</th>\n      <th>Expensive</th>\n      <th>Tip Quality</th>\n      <th>some</th>\n    </tr>\n  </thead>\n  <tbody>\n    <tr>\n      <th>0</th>\n      <td>16.99</td>\n      <td>1.01</td>\n      <td>Female</td>\n      <td>No</td>\n      <td>Sun</td>\n      <td>Dinner</td>\n      <td>2</td>\n      <td>8.49</td>\n      <td>Christy Cunningham</td>\n      <td>3560325168603410</td>\n      <td>Sun2959</td>\n      <td>3410</td>\n      <td>$$</td>\n      <td>Other</td>\n      <td>20.388</td>\n    </tr>\n    <tr>\n      <th>1</th>\n      <td>10.34</td>\n      <td>1.66</td>\n      <td>Male</td>\n      <td>No</td>\n      <td>Sun</td>\n      <td>Dinner</td>\n      <td>3</td>\n      <td>3.45</td>\n      <td>Douglas Tucker</td>\n      <td>4478071379779230</td>\n      <td>Sun4608</td>\n      <td>9230</td>\n      <td>$$</td>\n      <td>Other</td>\n      <td>12.408</td>\n    </tr>\n    <tr>\n      <th>2</th>\n      <td>21.01</td>\n      <td>3.50</td>\n      <td>Male</td>\n      <td>No</td>\n      <td>Sun</td>\n      <td>Dinner</td>\n      <td>3</td>\n      <td>7.00</td>\n      <td>Travis Walters</td>\n      <td>6011812112971322</td>\n      <td>Sun4458</td>\n      <td>1322</td>\n      <td>$$</td>\n      <td>Other</td>\n      <td>25.212</td>\n    </tr>\n    <tr>\n      <th>3</th>\n      <td>23.68</td>\n      <td>3.31</td>\n      <td>Male</td>\n      <td>No</td>\n      <td>Sun</td>\n      <td>Dinner</td>\n      <td>2</td>\n      <td>11.84</td>\n      <td>Nathaniel Harris</td>\n      <td>4676137647685994</td>\n      <td>Sun5260</td>\n      <td>5994</td>\n      <td>$$</td>\n      <td>Other</td>\n      <td>28.416</td>\n    </tr>\n    <tr>\n      <th>4</th>\n      <td>24.59</td>\n      <td>3.61</td>\n      <td>Female</td>\n      <td>No</td>\n      <td>Sun</td>\n      <td>Dinner</td>\n      <td>4</td>\n      <td>6.15</td>\n      <td>Tonya Carter</td>\n      <td>4832732618637221</td>\n      <td>Sun2251</td>\n      <td>7221</td>\n      <td>$$</td>\n      <td>Other</td>\n      <td>29.508</td>\n    </tr>\n    <tr>\n      <th>...</th>\n      <td>...</td>\n      <td>...</td>\n      <td>...</td>\n      <td>...</td>\n      <td>...</td>\n      <td>...</td>\n      <td>...</td>\n      <td>...</td>\n      <td>...</td>\n      <td>...</td>\n      <td>...</td>\n      <td>...</td>\n      <td>...</td>\n      <td>...</td>\n      <td>...</td>\n    </tr>\n    <tr>\n      <th>239</th>\n      <td>29.03</td>\n      <td>5.92</td>\n      <td>Male</td>\n      <td>No</td>\n      <td>Sat</td>\n      <td>Dinner</td>\n      <td>3</td>\n      <td>9.68</td>\n      <td>Michael Avila</td>\n      <td>5296068606052842</td>\n      <td>Sat2657</td>\n      <td>2842</td>\n      <td>$$</td>\n      <td>Other</td>\n      <td>34.836</td>\n    </tr>\n    <tr>\n      <th>240</th>\n      <td>27.18</td>\n      <td>2.00</td>\n      <td>Female</td>\n      <td>Yes</td>\n      <td>Sat</td>\n      <td>Dinner</td>\n      <td>2</td>\n      <td>13.59</td>\n      <td>Monica Sanders</td>\n      <td>3506806155565404</td>\n      <td>Sat1766</td>\n      <td>5404</td>\n      <td>$$</td>\n      <td>Other</td>\n      <td>32.616</td>\n    </tr>\n    <tr>\n      <th>241</th>\n      <td>22.67</td>\n      <td>2.00</td>\n      <td>Male</td>\n      <td>Yes</td>\n      <td>Sat</td>\n      <td>Dinner</td>\n      <td>2</td>\n      <td>11.34</td>\n      <td>Keith Wong</td>\n      <td>6011891618747196</td>\n      <td>Sat3880</td>\n      <td>7196</td>\n      <td>$$</td>\n      <td>Other</td>\n      <td>27.204</td>\n    </tr>\n    <tr>\n      <th>242</th>\n      <td>17.82</td>\n      <td>1.75</td>\n      <td>Male</td>\n      <td>No</td>\n      <td>Sat</td>\n      <td>Dinner</td>\n      <td>2</td>\n      <td>8.91</td>\n      <td>Dennis Dixon</td>\n      <td>4375220550950</td>\n      <td>Sat17</td>\n      <td>0950</td>\n      <td>$$</td>\n      <td>Other</td>\n      <td>21.384</td>\n    </tr>\n    <tr>\n      <th>243</th>\n      <td>18.78</td>\n      <td>3.00</td>\n      <td>Female</td>\n      <td>No</td>\n      <td>Thur</td>\n      <td>Dinner</td>\n      <td>2</td>\n      <td>9.39</td>\n      <td>Michelle Hardin</td>\n      <td>3511451626698139</td>\n      <td>Thur672</td>\n      <td>8139</td>\n      <td>$$</td>\n      <td>Other</td>\n      <td>22.536</td>\n    </tr>\n  </tbody>\n</table>\n<p>244 rows × 15 columns</p>\n</div>"
     },
     "execution_count": 33,
     "metadata": {},
     "output_type": "execute_result"
    }
   ],
   "source": [
    "df"
   ],
   "metadata": {
    "collapsed": false,
    "ExecuteTime": {
     "end_time": "2024-03-28T17:10:43.301390Z",
     "start_time": "2024-03-28T17:10:43.281231Z"
    }
   },
   "execution_count": 33
  },
  {
   "cell_type": "markdown",
   "metadata": {},
   "source": [
    "<a id='apply_multiple'></a>\n",
    "## apply that uses multiple columns\n",
    "\n",
    "Note, there are several ways to do this:\n",
    "\n",
    "https://stackoverflow.com/questions/19914937/applying-function-with-multiple-arguments-to-create-a-new-pandas-column"
   ]
  },
  {
   "cell_type": "code",
   "execution_count": 17,
   "metadata": {
    "ExecuteTime": {
     "end_time": "2024-03-28T17:03:37.934405Z",
     "start_time": "2024-03-28T17:03:37.929323Z"
    }
   },
   "outputs": [
    {
     "data": {
      "text/plain": "   total_bill   tip     sex smoker  day    time  size  price_per_person  \\\n0       16.99  1.01  Female     No  Sun  Dinner     2              8.49   \n1       10.34  1.66    Male     No  Sun  Dinner     3              3.45   \n2       21.01  3.50    Male     No  Sun  Dinner     3              7.00   \n3       23.68  3.31    Male     No  Sun  Dinner     2             11.84   \n4       24.59  3.61  Female     No  Sun  Dinner     4              6.15   \n\n           Payer Name         CC Number Payment ID last_four Expensive  \n0  Christy Cunningham  3560325168603410    Sun2959      3410        $$  \n1      Douglas Tucker  4478071379779230    Sun4608      9230        $$  \n2      Travis Walters  6011812112971322    Sun4458      1322        $$  \n3    Nathaniel Harris  4676137647685994    Sun5260      5994        $$  \n4        Tonya Carter  4832732618637221    Sun2251      7221        $$  ",
      "text/html": "<div>\n<style scoped>\n    .dataframe tbody tr th:only-of-type {\n        vertical-align: middle;\n    }\n\n    .dataframe tbody tr th {\n        vertical-align: top;\n    }\n\n    .dataframe thead th {\n        text-align: right;\n    }\n</style>\n<table border=\"1\" class=\"dataframe\">\n  <thead>\n    <tr style=\"text-align: right;\">\n      <th></th>\n      <th>total_bill</th>\n      <th>tip</th>\n      <th>sex</th>\n      <th>smoker</th>\n      <th>day</th>\n      <th>time</th>\n      <th>size</th>\n      <th>price_per_person</th>\n      <th>Payer Name</th>\n      <th>CC Number</th>\n      <th>Payment ID</th>\n      <th>last_four</th>\n      <th>Expensive</th>\n    </tr>\n  </thead>\n  <tbody>\n    <tr>\n      <th>0</th>\n      <td>16.99</td>\n      <td>1.01</td>\n      <td>Female</td>\n      <td>No</td>\n      <td>Sun</td>\n      <td>Dinner</td>\n      <td>2</td>\n      <td>8.49</td>\n      <td>Christy Cunningham</td>\n      <td>3560325168603410</td>\n      <td>Sun2959</td>\n      <td>3410</td>\n      <td>$$</td>\n    </tr>\n    <tr>\n      <th>1</th>\n      <td>10.34</td>\n      <td>1.66</td>\n      <td>Male</td>\n      <td>No</td>\n      <td>Sun</td>\n      <td>Dinner</td>\n      <td>3</td>\n      <td>3.45</td>\n      <td>Douglas Tucker</td>\n      <td>4478071379779230</td>\n      <td>Sun4608</td>\n      <td>9230</td>\n      <td>$$</td>\n    </tr>\n    <tr>\n      <th>2</th>\n      <td>21.01</td>\n      <td>3.50</td>\n      <td>Male</td>\n      <td>No</td>\n      <td>Sun</td>\n      <td>Dinner</td>\n      <td>3</td>\n      <td>7.00</td>\n      <td>Travis Walters</td>\n      <td>6011812112971322</td>\n      <td>Sun4458</td>\n      <td>1322</td>\n      <td>$$</td>\n    </tr>\n    <tr>\n      <th>3</th>\n      <td>23.68</td>\n      <td>3.31</td>\n      <td>Male</td>\n      <td>No</td>\n      <td>Sun</td>\n      <td>Dinner</td>\n      <td>2</td>\n      <td>11.84</td>\n      <td>Nathaniel Harris</td>\n      <td>4676137647685994</td>\n      <td>Sun5260</td>\n      <td>5994</td>\n      <td>$$</td>\n    </tr>\n    <tr>\n      <th>4</th>\n      <td>24.59</td>\n      <td>3.61</td>\n      <td>Female</td>\n      <td>No</td>\n      <td>Sun</td>\n      <td>Dinner</td>\n      <td>4</td>\n      <td>6.15</td>\n      <td>Tonya Carter</td>\n      <td>4832732618637221</td>\n      <td>Sun2251</td>\n      <td>7221</td>\n      <td>$$</td>\n    </tr>\n  </tbody>\n</table>\n</div>"
     },
     "execution_count": 17,
     "metadata": {},
     "output_type": "execute_result"
    }
   ],
   "source": [
    "df.head()"
   ]
  },
  {
   "cell_type": "code",
   "execution_count": 18,
   "metadata": {
    "collapsed": true,
    "ExecuteTime": {
     "end_time": "2024-03-28T17:03:37.936762Z",
     "start_time": "2024-03-28T17:03:37.934889Z"
    }
   },
   "outputs": [],
   "source": [
    "def quality(total_bill, tip):\n",
    "    if tip / total_bill > 0.25:\n",
    "        return \"Generous\"\n",
    "    else:\n",
    "        return \"Other\""
   ]
  },
  {
   "cell_type": "code",
   "execution_count": 19,
   "metadata": {
    "collapsed": true,
    "ExecuteTime": {
     "end_time": "2024-03-28T17:03:37.943607Z",
     "start_time": "2024-03-28T17:03:37.937502Z"
    }
   },
   "outputs": [],
   "source": [
    "df['Tip Quality'] = df[['total_bill', 'tip']].apply(lambda df: quality(df['total_bill'], df['tip']), axis=1)"
   ]
  },
  {
   "cell_type": "code",
   "execution_count": 20,
   "metadata": {
    "ExecuteTime": {
     "end_time": "2024-03-28T17:03:37.950882Z",
     "start_time": "2024-03-28T17:03:37.944414Z"
    }
   },
   "outputs": [
    {
     "data": {
      "text/plain": "   total_bill   tip     sex smoker  day    time  size  price_per_person  \\\n0       16.99  1.01  Female     No  Sun  Dinner     2              8.49   \n1       10.34  1.66    Male     No  Sun  Dinner     3              3.45   \n2       21.01  3.50    Male     No  Sun  Dinner     3              7.00   \n3       23.68  3.31    Male     No  Sun  Dinner     2             11.84   \n4       24.59  3.61  Female     No  Sun  Dinner     4              6.15   \n\n           Payer Name         CC Number Payment ID last_four Expensive  \\\n0  Christy Cunningham  3560325168603410    Sun2959      3410        $$   \n1      Douglas Tucker  4478071379779230    Sun4608      9230        $$   \n2      Travis Walters  6011812112971322    Sun4458      1322        $$   \n3    Nathaniel Harris  4676137647685994    Sun5260      5994        $$   \n4        Tonya Carter  4832732618637221    Sun2251      7221        $$   \n\n  Tip Quality  \n0       Other  \n1       Other  \n2       Other  \n3       Other  \n4       Other  ",
      "text/html": "<div>\n<style scoped>\n    .dataframe tbody tr th:only-of-type {\n        vertical-align: middle;\n    }\n\n    .dataframe tbody tr th {\n        vertical-align: top;\n    }\n\n    .dataframe thead th {\n        text-align: right;\n    }\n</style>\n<table border=\"1\" class=\"dataframe\">\n  <thead>\n    <tr style=\"text-align: right;\">\n      <th></th>\n      <th>total_bill</th>\n      <th>tip</th>\n      <th>sex</th>\n      <th>smoker</th>\n      <th>day</th>\n      <th>time</th>\n      <th>size</th>\n      <th>price_per_person</th>\n      <th>Payer Name</th>\n      <th>CC Number</th>\n      <th>Payment ID</th>\n      <th>last_four</th>\n      <th>Expensive</th>\n      <th>Tip Quality</th>\n    </tr>\n  </thead>\n  <tbody>\n    <tr>\n      <th>0</th>\n      <td>16.99</td>\n      <td>1.01</td>\n      <td>Female</td>\n      <td>No</td>\n      <td>Sun</td>\n      <td>Dinner</td>\n      <td>2</td>\n      <td>8.49</td>\n      <td>Christy Cunningham</td>\n      <td>3560325168603410</td>\n      <td>Sun2959</td>\n      <td>3410</td>\n      <td>$$</td>\n      <td>Other</td>\n    </tr>\n    <tr>\n      <th>1</th>\n      <td>10.34</td>\n      <td>1.66</td>\n      <td>Male</td>\n      <td>No</td>\n      <td>Sun</td>\n      <td>Dinner</td>\n      <td>3</td>\n      <td>3.45</td>\n      <td>Douglas Tucker</td>\n      <td>4478071379779230</td>\n      <td>Sun4608</td>\n      <td>9230</td>\n      <td>$$</td>\n      <td>Other</td>\n    </tr>\n    <tr>\n      <th>2</th>\n      <td>21.01</td>\n      <td>3.50</td>\n      <td>Male</td>\n      <td>No</td>\n      <td>Sun</td>\n      <td>Dinner</td>\n      <td>3</td>\n      <td>7.00</td>\n      <td>Travis Walters</td>\n      <td>6011812112971322</td>\n      <td>Sun4458</td>\n      <td>1322</td>\n      <td>$$</td>\n      <td>Other</td>\n    </tr>\n    <tr>\n      <th>3</th>\n      <td>23.68</td>\n      <td>3.31</td>\n      <td>Male</td>\n      <td>No</td>\n      <td>Sun</td>\n      <td>Dinner</td>\n      <td>2</td>\n      <td>11.84</td>\n      <td>Nathaniel Harris</td>\n      <td>4676137647685994</td>\n      <td>Sun5260</td>\n      <td>5994</td>\n      <td>$$</td>\n      <td>Other</td>\n    </tr>\n    <tr>\n      <th>4</th>\n      <td>24.59</td>\n      <td>3.61</td>\n      <td>Female</td>\n      <td>No</td>\n      <td>Sun</td>\n      <td>Dinner</td>\n      <td>4</td>\n      <td>6.15</td>\n      <td>Tonya Carter</td>\n      <td>4832732618637221</td>\n      <td>Sun2251</td>\n      <td>7221</td>\n      <td>$$</td>\n      <td>Other</td>\n    </tr>\n  </tbody>\n</table>\n</div>"
     },
     "execution_count": 20,
     "metadata": {},
     "output_type": "execute_result"
    }
   ],
   "source": [
    "df.head()"
   ]
  },
  {
   "cell_type": "code",
   "execution_count": 21,
   "metadata": {
    "collapsed": true,
    "ExecuteTime": {
     "end_time": "2024-03-28T17:03:37.953177Z",
     "start_time": "2024-03-28T17:03:37.951509Z"
    }
   },
   "outputs": [],
   "source": [
    "import numpy as np"
   ]
  },
  {
   "cell_type": "code",
   "execution_count": 22,
   "metadata": {
    "collapsed": true,
    "ExecuteTime": {
     "end_time": "2024-03-28T17:03:37.955685Z",
     "start_time": "2024-03-28T17:03:37.953783Z"
    }
   },
   "outputs": [],
   "source": [
    "df['Tip Quality'] = np.vectorize(quality)(df['total_bill'], df['tip'])"
   ]
  },
  {
   "cell_type": "code",
   "execution_count": 23,
   "metadata": {
    "ExecuteTime": {
     "end_time": "2024-03-28T17:03:37.961875Z",
     "start_time": "2024-03-28T17:03:37.956414Z"
    }
   },
   "outputs": [
    {
     "data": {
      "text/plain": "   total_bill   tip     sex smoker  day    time  size  price_per_person  \\\n0       16.99  1.01  Female     No  Sun  Dinner     2              8.49   \n1       10.34  1.66    Male     No  Sun  Dinner     3              3.45   \n2       21.01  3.50    Male     No  Sun  Dinner     3              7.00   \n3       23.68  3.31    Male     No  Sun  Dinner     2             11.84   \n4       24.59  3.61  Female     No  Sun  Dinner     4              6.15   \n\n           Payer Name         CC Number Payment ID last_four Expensive  \\\n0  Christy Cunningham  3560325168603410    Sun2959      3410        $$   \n1      Douglas Tucker  4478071379779230    Sun4608      9230        $$   \n2      Travis Walters  6011812112971322    Sun4458      1322        $$   \n3    Nathaniel Harris  4676137647685994    Sun5260      5994        $$   \n4        Tonya Carter  4832732618637221    Sun2251      7221        $$   \n\n  Tip Quality  \n0       Other  \n1       Other  \n2       Other  \n3       Other  \n4       Other  ",
      "text/html": "<div>\n<style scoped>\n    .dataframe tbody tr th:only-of-type {\n        vertical-align: middle;\n    }\n\n    .dataframe tbody tr th {\n        vertical-align: top;\n    }\n\n    .dataframe thead th {\n        text-align: right;\n    }\n</style>\n<table border=\"1\" class=\"dataframe\">\n  <thead>\n    <tr style=\"text-align: right;\">\n      <th></th>\n      <th>total_bill</th>\n      <th>tip</th>\n      <th>sex</th>\n      <th>smoker</th>\n      <th>day</th>\n      <th>time</th>\n      <th>size</th>\n      <th>price_per_person</th>\n      <th>Payer Name</th>\n      <th>CC Number</th>\n      <th>Payment ID</th>\n      <th>last_four</th>\n      <th>Expensive</th>\n      <th>Tip Quality</th>\n    </tr>\n  </thead>\n  <tbody>\n    <tr>\n      <th>0</th>\n      <td>16.99</td>\n      <td>1.01</td>\n      <td>Female</td>\n      <td>No</td>\n      <td>Sun</td>\n      <td>Dinner</td>\n      <td>2</td>\n      <td>8.49</td>\n      <td>Christy Cunningham</td>\n      <td>3560325168603410</td>\n      <td>Sun2959</td>\n      <td>3410</td>\n      <td>$$</td>\n      <td>Other</td>\n    </tr>\n    <tr>\n      <th>1</th>\n      <td>10.34</td>\n      <td>1.66</td>\n      <td>Male</td>\n      <td>No</td>\n      <td>Sun</td>\n      <td>Dinner</td>\n      <td>3</td>\n      <td>3.45</td>\n      <td>Douglas Tucker</td>\n      <td>4478071379779230</td>\n      <td>Sun4608</td>\n      <td>9230</td>\n      <td>$$</td>\n      <td>Other</td>\n    </tr>\n    <tr>\n      <th>2</th>\n      <td>21.01</td>\n      <td>3.50</td>\n      <td>Male</td>\n      <td>No</td>\n      <td>Sun</td>\n      <td>Dinner</td>\n      <td>3</td>\n      <td>7.00</td>\n      <td>Travis Walters</td>\n      <td>6011812112971322</td>\n      <td>Sun4458</td>\n      <td>1322</td>\n      <td>$$</td>\n      <td>Other</td>\n    </tr>\n    <tr>\n      <th>3</th>\n      <td>23.68</td>\n      <td>3.31</td>\n      <td>Male</td>\n      <td>No</td>\n      <td>Sun</td>\n      <td>Dinner</td>\n      <td>2</td>\n      <td>11.84</td>\n      <td>Nathaniel Harris</td>\n      <td>4676137647685994</td>\n      <td>Sun5260</td>\n      <td>5994</td>\n      <td>$$</td>\n      <td>Other</td>\n    </tr>\n    <tr>\n      <th>4</th>\n      <td>24.59</td>\n      <td>3.61</td>\n      <td>Female</td>\n      <td>No</td>\n      <td>Sun</td>\n      <td>Dinner</td>\n      <td>4</td>\n      <td>6.15</td>\n      <td>Tonya Carter</td>\n      <td>4832732618637221</td>\n      <td>Sun2251</td>\n      <td>7221</td>\n      <td>$$</td>\n      <td>Other</td>\n    </tr>\n  </tbody>\n</table>\n</div>"
     },
     "execution_count": 23,
     "metadata": {},
     "output_type": "execute_result"
    }
   ],
   "source": [
    "df.head()"
   ]
  },
  {
   "cell_type": "markdown",
   "metadata": {},
   "source": [
    "So, which one is faster?"
   ]
  },
  {
   "cell_type": "code",
   "execution_count": 24,
   "metadata": {
    "collapsed": true,
    "ExecuteTime": {
     "end_time": "2024-03-28T17:03:37.964470Z",
     "start_time": "2024-03-28T17:03:37.962517Z"
    }
   },
   "outputs": [],
   "source": [
    "import timeit\n",
    "\n",
    "# code snippet to be executed only once \n",
    "setup = '''\n",
    "import numpy as np\n",
    "import pandas as pd\n",
    "df = pd.read_csv('tips.csv')\n",
    "def quality(total_bill,tip):\n",
    "    if tip/total_bill  > 0.25:\n",
    "        return \"Generous\"\n",
    "    else:\n",
    "        return \"Other\"\n",
    "'''\n",
    "\n",
    "# code snippet whose execution time is to be measured \n",
    "stmt_one = ''' \n",
    "df['Tip Quality'] = df[['total_bill','tip']].apply(lambda df: quality(df['total_bill'],df['tip']),axis=1)\n",
    "'''\n",
    "\n",
    "stmt_two = '''\n",
    "df['Tip Quality'] = np.vectorize(quality)(df['total_bill'], df['tip'])\n",
    "'''\n"
   ]
  },
  {
   "cell_type": "code",
   "execution_count": 57,
   "metadata": {
    "ExecuteTime": {
     "end_time": "2024-03-28T17:29:06.762507Z",
     "start_time": "2024-03-28T17:29:05.903997Z"
    }
   },
   "outputs": [
    {
     "data": {
      "text/plain": "0.8541103299999122"
     },
     "execution_count": 57,
     "metadata": {},
     "output_type": "execute_result"
    }
   ],
   "source": [
    "timeit.timeit(setup=setup,\n",
    "              stmt=stmt_one,\n",
    "              number=1000)"
   ]
  },
  {
   "cell_type": "code",
   "execution_count": 58,
   "metadata": {
    "ExecuteTime": {
     "end_time": "2024-03-28T17:29:07.401796Z",
     "start_time": "2024-03-28T17:29:07.299521Z"
    }
   },
   "outputs": [
    {
     "data": {
      "text/plain": "0.097940213000129"
     },
     "execution_count": 58,
     "metadata": {},
     "output_type": "execute_result"
    }
   ],
   "source": [
    "timeit.timeit(setup=setup,\n",
    "              stmt=stmt_two,\n",
    "              number=1000)"
   ]
  },
  {
   "cell_type": "markdown",
   "metadata": {},
   "source": [
    "Wow! Vectorization is much faster! Keep **np.vectorize()** in mind for the future.\n",
    "\n",
    "Full Details:\n",
    "https://docs.scipy.org/doc/numpy/reference/generated/numpy.vectorize.html"
   ]
  },
  {
   "cell_type": "markdown",
   "metadata": {},
   "source": [
    "<a id='describe'></a>\n",
    "### df.describe for statistical summaries"
   ]
  },
  {
   "cell_type": "code",
   "execution_count": 27,
   "metadata": {
    "ExecuteTime": {
     "end_time": "2024-03-28T17:03:39.106693Z",
     "start_time": "2024-03-28T17:03:39.082705Z"
    }
   },
   "outputs": [
    {
     "data": {
      "text/plain": "       total_bill         tip        size  price_per_person     CC Number\ncount  244.000000  244.000000  244.000000        244.000000  2.440000e+02\nmean    19.785943    2.998279    2.569672          7.888197  2.563496e+15\nstd      8.902412    1.383638    0.951100          2.914234  2.369340e+15\nmin      3.070000    1.000000    1.000000          2.880000  6.040679e+10\n25%     13.347500    2.000000    2.000000          5.800000  3.040731e+13\n50%     17.795000    2.900000    2.000000          7.255000  3.525318e+15\n75%     24.127500    3.562500    3.000000          9.390000  4.553675e+15\nmax     50.810000   10.000000    6.000000         20.270000  6.596454e+15",
      "text/html": "<div>\n<style scoped>\n    .dataframe tbody tr th:only-of-type {\n        vertical-align: middle;\n    }\n\n    .dataframe tbody tr th {\n        vertical-align: top;\n    }\n\n    .dataframe thead th {\n        text-align: right;\n    }\n</style>\n<table border=\"1\" class=\"dataframe\">\n  <thead>\n    <tr style=\"text-align: right;\">\n      <th></th>\n      <th>total_bill</th>\n      <th>tip</th>\n      <th>size</th>\n      <th>price_per_person</th>\n      <th>CC Number</th>\n    </tr>\n  </thead>\n  <tbody>\n    <tr>\n      <th>count</th>\n      <td>244.000000</td>\n      <td>244.000000</td>\n      <td>244.000000</td>\n      <td>244.000000</td>\n      <td>2.440000e+02</td>\n    </tr>\n    <tr>\n      <th>mean</th>\n      <td>19.785943</td>\n      <td>2.998279</td>\n      <td>2.569672</td>\n      <td>7.888197</td>\n      <td>2.563496e+15</td>\n    </tr>\n    <tr>\n      <th>std</th>\n      <td>8.902412</td>\n      <td>1.383638</td>\n      <td>0.951100</td>\n      <td>2.914234</td>\n      <td>2.369340e+15</td>\n    </tr>\n    <tr>\n      <th>min</th>\n      <td>3.070000</td>\n      <td>1.000000</td>\n      <td>1.000000</td>\n      <td>2.880000</td>\n      <td>6.040679e+10</td>\n    </tr>\n    <tr>\n      <th>25%</th>\n      <td>13.347500</td>\n      <td>2.000000</td>\n      <td>2.000000</td>\n      <td>5.800000</td>\n      <td>3.040731e+13</td>\n    </tr>\n    <tr>\n      <th>50%</th>\n      <td>17.795000</td>\n      <td>2.900000</td>\n      <td>2.000000</td>\n      <td>7.255000</td>\n      <td>3.525318e+15</td>\n    </tr>\n    <tr>\n      <th>75%</th>\n      <td>24.127500</td>\n      <td>3.562500</td>\n      <td>3.000000</td>\n      <td>9.390000</td>\n      <td>4.553675e+15</td>\n    </tr>\n    <tr>\n      <th>max</th>\n      <td>50.810000</td>\n      <td>10.000000</td>\n      <td>6.000000</td>\n      <td>20.270000</td>\n      <td>6.596454e+15</td>\n    </tr>\n  </tbody>\n</table>\n</div>"
     },
     "execution_count": 27,
     "metadata": {},
     "output_type": "execute_result"
    }
   ],
   "source": [
    "df.describe()"
   ]
  },
  {
   "cell_type": "code",
   "execution_count": 28,
   "metadata": {
    "ExecuteTime": {
     "end_time": "2024-03-28T17:03:39.147271Z",
     "start_time": "2024-03-28T17:03:39.113450Z"
    }
   },
   "outputs": [
    {
     "data": {
      "text/plain": "                  count          mean           std           min  \\\ntotal_bill        244.0  1.978594e+01  8.902412e+00  3.070000e+00   \ntip               244.0  2.998279e+00  1.383638e+00  1.000000e+00   \nsize              244.0  2.569672e+00  9.510998e-01  1.000000e+00   \nprice_per_person  244.0  7.888197e+00  2.914234e+00  2.880000e+00   \nCC Number         244.0  2.563496e+15  2.369340e+15  6.040679e+10   \n\n                           25%           50%           75%           max  \ntotal_bill        1.334750e+01  1.779500e+01  2.412750e+01  5.081000e+01  \ntip               2.000000e+00  2.900000e+00  3.562500e+00  1.000000e+01  \nsize              2.000000e+00  2.000000e+00  3.000000e+00  6.000000e+00  \nprice_per_person  5.800000e+00  7.255000e+00  9.390000e+00  2.027000e+01  \nCC Number         3.040731e+13  3.525318e+15  4.553675e+15  6.596454e+15  ",
      "text/html": "<div>\n<style scoped>\n    .dataframe tbody tr th:only-of-type {\n        vertical-align: middle;\n    }\n\n    .dataframe tbody tr th {\n        vertical-align: top;\n    }\n\n    .dataframe thead th {\n        text-align: right;\n    }\n</style>\n<table border=\"1\" class=\"dataframe\">\n  <thead>\n    <tr style=\"text-align: right;\">\n      <th></th>\n      <th>count</th>\n      <th>mean</th>\n      <th>std</th>\n      <th>min</th>\n      <th>25%</th>\n      <th>50%</th>\n      <th>75%</th>\n      <th>max</th>\n    </tr>\n  </thead>\n  <tbody>\n    <tr>\n      <th>total_bill</th>\n      <td>244.0</td>\n      <td>1.978594e+01</td>\n      <td>8.902412e+00</td>\n      <td>3.070000e+00</td>\n      <td>1.334750e+01</td>\n      <td>1.779500e+01</td>\n      <td>2.412750e+01</td>\n      <td>5.081000e+01</td>\n    </tr>\n    <tr>\n      <th>tip</th>\n      <td>244.0</td>\n      <td>2.998279e+00</td>\n      <td>1.383638e+00</td>\n      <td>1.000000e+00</td>\n      <td>2.000000e+00</td>\n      <td>2.900000e+00</td>\n      <td>3.562500e+00</td>\n      <td>1.000000e+01</td>\n    </tr>\n    <tr>\n      <th>size</th>\n      <td>244.0</td>\n      <td>2.569672e+00</td>\n      <td>9.510998e-01</td>\n      <td>1.000000e+00</td>\n      <td>2.000000e+00</td>\n      <td>2.000000e+00</td>\n      <td>3.000000e+00</td>\n      <td>6.000000e+00</td>\n    </tr>\n    <tr>\n      <th>price_per_person</th>\n      <td>244.0</td>\n      <td>7.888197e+00</td>\n      <td>2.914234e+00</td>\n      <td>2.880000e+00</td>\n      <td>5.800000e+00</td>\n      <td>7.255000e+00</td>\n      <td>9.390000e+00</td>\n      <td>2.027000e+01</td>\n    </tr>\n    <tr>\n      <th>CC Number</th>\n      <td>244.0</td>\n      <td>2.563496e+15</td>\n      <td>2.369340e+15</td>\n      <td>6.040679e+10</td>\n      <td>3.040731e+13</td>\n      <td>3.525318e+15</td>\n      <td>4.553675e+15</td>\n      <td>6.596454e+15</td>\n    </tr>\n  </tbody>\n</table>\n</div>"
     },
     "execution_count": 28,
     "metadata": {},
     "output_type": "execute_result"
    }
   ],
   "source": [
    "df.describe().transpose()"
   ]
  },
  {
   "cell_type": "markdown",
   "metadata": {},
   "source": [
    "<a id='sort'></a>\n",
    "### sort_values()"
   ]
  },
  {
   "cell_type": "code",
   "execution_count": 59,
   "metadata": {
    "ExecuteTime": {
     "end_time": "2024-03-28T17:32:33.383506Z",
     "start_time": "2024-03-28T17:32:33.369933Z"
    }
   },
   "outputs": [
    {
     "data": {
      "text/plain": "     total_bill    tip     sex smoker   day    time  size  price_per_person  \\\n170       50.81  10.00    Male    Yes   Sat  Dinner     3             16.94   \n212       48.33   9.00    Male     No   Sat  Dinner     4             12.08   \n23        39.42   7.58    Male     No   Sat  Dinner     4              9.86   \n59        48.27   6.73    Male     No   Sat  Dinner     4             12.07   \n141       34.30   6.70    Male     No  Thur   Lunch     6              5.72   \n..          ...    ...     ...    ...   ...     ...   ...               ...   \n0         16.99   1.01  Female     No   Sun  Dinner     2              8.49   \n236       12.60   1.00    Male    Yes   Sat  Dinner     2              6.30   \n111        7.25   1.00  Female     No   Sat  Dinner     1              7.25   \n67         3.07   1.00  Female    Yes   Sat  Dinner     1              3.07   \n92         5.75   1.00  Female    Yes   Fri  Dinner     2              2.88   \n\n             Payer Name         CC Number Payment ID last_four Expensive  \\\n170       Gregory Clark  5473850968388236    Sat1954      8236       $$$   \n212     Alex Williamson      676218815212    Sat4590      5212       $$$   \n23       Lance Peterson  3542584061609808     Sat239      9808       $$$   \n59          Brian Ortiz  6596453823950595    Sat8139      0595       $$$   \n141      Steven Carlson  3526515703718508   Thur1025      8508       $$$   \n..                  ...               ...        ...       ...       ...   \n0    Christy Cunningham  3560325168603410    Sun2959      3410        $$   \n236       Matthew Myers  3543676378973965    Sat5032      3965        $$   \n111         Terri Jones  3559221007826887    Sat4801      6887         $   \n67        Tiffany Brock  4359488526995267    Sat3455      5267         $   \n92         Leah Ramirez  3508911676966392    Fri3780      6392         $   \n\n    Tip Quality    some  \n170       Other  60.972  \n212       Other  57.996  \n23        Other  47.304  \n59        Other  57.924  \n141       Other  41.160  \n..          ...     ...  \n0         Other  20.388  \n236       Other  15.120  \n111       Other   8.700  \n67     Generous   3.684  \n92        Other   6.900  \n\n[244 rows x 15 columns]",
      "text/html": "<div>\n<style scoped>\n    .dataframe tbody tr th:only-of-type {\n        vertical-align: middle;\n    }\n\n    .dataframe tbody tr th {\n        vertical-align: top;\n    }\n\n    .dataframe thead th {\n        text-align: right;\n    }\n</style>\n<table border=\"1\" class=\"dataframe\">\n  <thead>\n    <tr style=\"text-align: right;\">\n      <th></th>\n      <th>total_bill</th>\n      <th>tip</th>\n      <th>sex</th>\n      <th>smoker</th>\n      <th>day</th>\n      <th>time</th>\n      <th>size</th>\n      <th>price_per_person</th>\n      <th>Payer Name</th>\n      <th>CC Number</th>\n      <th>Payment ID</th>\n      <th>last_four</th>\n      <th>Expensive</th>\n      <th>Tip Quality</th>\n      <th>some</th>\n    </tr>\n  </thead>\n  <tbody>\n    <tr>\n      <th>170</th>\n      <td>50.81</td>\n      <td>10.00</td>\n      <td>Male</td>\n      <td>Yes</td>\n      <td>Sat</td>\n      <td>Dinner</td>\n      <td>3</td>\n      <td>16.94</td>\n      <td>Gregory Clark</td>\n      <td>5473850968388236</td>\n      <td>Sat1954</td>\n      <td>8236</td>\n      <td>$$$</td>\n      <td>Other</td>\n      <td>60.972</td>\n    </tr>\n    <tr>\n      <th>212</th>\n      <td>48.33</td>\n      <td>9.00</td>\n      <td>Male</td>\n      <td>No</td>\n      <td>Sat</td>\n      <td>Dinner</td>\n      <td>4</td>\n      <td>12.08</td>\n      <td>Alex Williamson</td>\n      <td>676218815212</td>\n      <td>Sat4590</td>\n      <td>5212</td>\n      <td>$$$</td>\n      <td>Other</td>\n      <td>57.996</td>\n    </tr>\n    <tr>\n      <th>23</th>\n      <td>39.42</td>\n      <td>7.58</td>\n      <td>Male</td>\n      <td>No</td>\n      <td>Sat</td>\n      <td>Dinner</td>\n      <td>4</td>\n      <td>9.86</td>\n      <td>Lance Peterson</td>\n      <td>3542584061609808</td>\n      <td>Sat239</td>\n      <td>9808</td>\n      <td>$$$</td>\n      <td>Other</td>\n      <td>47.304</td>\n    </tr>\n    <tr>\n      <th>59</th>\n      <td>48.27</td>\n      <td>6.73</td>\n      <td>Male</td>\n      <td>No</td>\n      <td>Sat</td>\n      <td>Dinner</td>\n      <td>4</td>\n      <td>12.07</td>\n      <td>Brian Ortiz</td>\n      <td>6596453823950595</td>\n      <td>Sat8139</td>\n      <td>0595</td>\n      <td>$$$</td>\n      <td>Other</td>\n      <td>57.924</td>\n    </tr>\n    <tr>\n      <th>141</th>\n      <td>34.30</td>\n      <td>6.70</td>\n      <td>Male</td>\n      <td>No</td>\n      <td>Thur</td>\n      <td>Lunch</td>\n      <td>6</td>\n      <td>5.72</td>\n      <td>Steven Carlson</td>\n      <td>3526515703718508</td>\n      <td>Thur1025</td>\n      <td>8508</td>\n      <td>$$$</td>\n      <td>Other</td>\n      <td>41.160</td>\n    </tr>\n    <tr>\n      <th>...</th>\n      <td>...</td>\n      <td>...</td>\n      <td>...</td>\n      <td>...</td>\n      <td>...</td>\n      <td>...</td>\n      <td>...</td>\n      <td>...</td>\n      <td>...</td>\n      <td>...</td>\n      <td>...</td>\n      <td>...</td>\n      <td>...</td>\n      <td>...</td>\n      <td>...</td>\n    </tr>\n    <tr>\n      <th>0</th>\n      <td>16.99</td>\n      <td>1.01</td>\n      <td>Female</td>\n      <td>No</td>\n      <td>Sun</td>\n      <td>Dinner</td>\n      <td>2</td>\n      <td>8.49</td>\n      <td>Christy Cunningham</td>\n      <td>3560325168603410</td>\n      <td>Sun2959</td>\n      <td>3410</td>\n      <td>$$</td>\n      <td>Other</td>\n      <td>20.388</td>\n    </tr>\n    <tr>\n      <th>236</th>\n      <td>12.60</td>\n      <td>1.00</td>\n      <td>Male</td>\n      <td>Yes</td>\n      <td>Sat</td>\n      <td>Dinner</td>\n      <td>2</td>\n      <td>6.30</td>\n      <td>Matthew Myers</td>\n      <td>3543676378973965</td>\n      <td>Sat5032</td>\n      <td>3965</td>\n      <td>$$</td>\n      <td>Other</td>\n      <td>15.120</td>\n    </tr>\n    <tr>\n      <th>111</th>\n      <td>7.25</td>\n      <td>1.00</td>\n      <td>Female</td>\n      <td>No</td>\n      <td>Sat</td>\n      <td>Dinner</td>\n      <td>1</td>\n      <td>7.25</td>\n      <td>Terri Jones</td>\n      <td>3559221007826887</td>\n      <td>Sat4801</td>\n      <td>6887</td>\n      <td>$</td>\n      <td>Other</td>\n      <td>8.700</td>\n    </tr>\n    <tr>\n      <th>67</th>\n      <td>3.07</td>\n      <td>1.00</td>\n      <td>Female</td>\n      <td>Yes</td>\n      <td>Sat</td>\n      <td>Dinner</td>\n      <td>1</td>\n      <td>3.07</td>\n      <td>Tiffany Brock</td>\n      <td>4359488526995267</td>\n      <td>Sat3455</td>\n      <td>5267</td>\n      <td>$</td>\n      <td>Generous</td>\n      <td>3.684</td>\n    </tr>\n    <tr>\n      <th>92</th>\n      <td>5.75</td>\n      <td>1.00</td>\n      <td>Female</td>\n      <td>Yes</td>\n      <td>Fri</td>\n      <td>Dinner</td>\n      <td>2</td>\n      <td>2.88</td>\n      <td>Leah Ramirez</td>\n      <td>3508911676966392</td>\n      <td>Fri3780</td>\n      <td>6392</td>\n      <td>$</td>\n      <td>Other</td>\n      <td>6.900</td>\n    </tr>\n  </tbody>\n</table>\n<p>244 rows × 15 columns</p>\n</div>"
     },
     "execution_count": 59,
     "metadata": {},
     "output_type": "execute_result"
    }
   ],
   "source": [
    "df.sort_values('tip', ascending=False)"
   ]
  },
  {
   "cell_type": "code",
   "execution_count": 30,
   "metadata": {
    "ExecuteTime": {
     "end_time": "2024-03-28T17:03:39.192222Z",
     "start_time": "2024-03-28T17:03:39.170875Z"
    }
   },
   "outputs": [
    {
     "data": {
      "text/plain": "     total_bill    tip     sex smoker   day    time  size  price_per_person  \\\n67         3.07   1.00  Female    Yes   Sat  Dinner     1              3.07   \n111        7.25   1.00  Female     No   Sat  Dinner     1              7.25   \n92         5.75   1.00  Female    Yes   Fri  Dinner     2              2.88   \n236       12.60   1.00    Male    Yes   Sat  Dinner     2              6.30   \n0         16.99   1.01  Female     No   Sun  Dinner     2              8.49   \n..          ...    ...     ...    ...   ...     ...   ...               ...   \n141       34.30   6.70    Male     No  Thur   Lunch     6              5.72   \n59        48.27   6.73    Male     No   Sat  Dinner     4             12.07   \n23        39.42   7.58    Male     No   Sat  Dinner     4              9.86   \n212       48.33   9.00    Male     No   Sat  Dinner     4             12.08   \n170       50.81  10.00    Male    Yes   Sat  Dinner     3             16.94   \n\n             Payer Name         CC Number Payment ID last_four Expensive  \\\n67        Tiffany Brock  4359488526995267    Sat3455      5267         $   \n111         Terri Jones  3559221007826887    Sat4801      6887         $   \n92         Leah Ramirez  3508911676966392    Fri3780      6392         $   \n236       Matthew Myers  3543676378973965    Sat5032      3965        $$   \n0    Christy Cunningham  3560325168603410    Sun2959      3410        $$   \n..                  ...               ...        ...       ...       ...   \n141      Steven Carlson  3526515703718508   Thur1025      8508       $$$   \n59          Brian Ortiz  6596453823950595    Sat8139      0595       $$$   \n23       Lance Peterson  3542584061609808     Sat239      9808       $$$   \n212     Alex Williamson      676218815212    Sat4590      5212       $$$   \n170       Gregory Clark  5473850968388236    Sat1954      8236       $$$   \n\n    Tip Quality  \n67     Generous  \n111       Other  \n92        Other  \n236       Other  \n0         Other  \n..          ...  \n141       Other  \n59        Other  \n23        Other  \n212       Other  \n170       Other  \n\n[244 rows x 14 columns]",
      "text/html": "<div>\n<style scoped>\n    .dataframe tbody tr th:only-of-type {\n        vertical-align: middle;\n    }\n\n    .dataframe tbody tr th {\n        vertical-align: top;\n    }\n\n    .dataframe thead th {\n        text-align: right;\n    }\n</style>\n<table border=\"1\" class=\"dataframe\">\n  <thead>\n    <tr style=\"text-align: right;\">\n      <th></th>\n      <th>total_bill</th>\n      <th>tip</th>\n      <th>sex</th>\n      <th>smoker</th>\n      <th>day</th>\n      <th>time</th>\n      <th>size</th>\n      <th>price_per_person</th>\n      <th>Payer Name</th>\n      <th>CC Number</th>\n      <th>Payment ID</th>\n      <th>last_four</th>\n      <th>Expensive</th>\n      <th>Tip Quality</th>\n    </tr>\n  </thead>\n  <tbody>\n    <tr>\n      <th>67</th>\n      <td>3.07</td>\n      <td>1.00</td>\n      <td>Female</td>\n      <td>Yes</td>\n      <td>Sat</td>\n      <td>Dinner</td>\n      <td>1</td>\n      <td>3.07</td>\n      <td>Tiffany Brock</td>\n      <td>4359488526995267</td>\n      <td>Sat3455</td>\n      <td>5267</td>\n      <td>$</td>\n      <td>Generous</td>\n    </tr>\n    <tr>\n      <th>111</th>\n      <td>7.25</td>\n      <td>1.00</td>\n      <td>Female</td>\n      <td>No</td>\n      <td>Sat</td>\n      <td>Dinner</td>\n      <td>1</td>\n      <td>7.25</td>\n      <td>Terri Jones</td>\n      <td>3559221007826887</td>\n      <td>Sat4801</td>\n      <td>6887</td>\n      <td>$</td>\n      <td>Other</td>\n    </tr>\n    <tr>\n      <th>92</th>\n      <td>5.75</td>\n      <td>1.00</td>\n      <td>Female</td>\n      <td>Yes</td>\n      <td>Fri</td>\n      <td>Dinner</td>\n      <td>2</td>\n      <td>2.88</td>\n      <td>Leah Ramirez</td>\n      <td>3508911676966392</td>\n      <td>Fri3780</td>\n      <td>6392</td>\n      <td>$</td>\n      <td>Other</td>\n    </tr>\n    <tr>\n      <th>236</th>\n      <td>12.60</td>\n      <td>1.00</td>\n      <td>Male</td>\n      <td>Yes</td>\n      <td>Sat</td>\n      <td>Dinner</td>\n      <td>2</td>\n      <td>6.30</td>\n      <td>Matthew Myers</td>\n      <td>3543676378973965</td>\n      <td>Sat5032</td>\n      <td>3965</td>\n      <td>$$</td>\n      <td>Other</td>\n    </tr>\n    <tr>\n      <th>0</th>\n      <td>16.99</td>\n      <td>1.01</td>\n      <td>Female</td>\n      <td>No</td>\n      <td>Sun</td>\n      <td>Dinner</td>\n      <td>2</td>\n      <td>8.49</td>\n      <td>Christy Cunningham</td>\n      <td>3560325168603410</td>\n      <td>Sun2959</td>\n      <td>3410</td>\n      <td>$$</td>\n      <td>Other</td>\n    </tr>\n    <tr>\n      <th>...</th>\n      <td>...</td>\n      <td>...</td>\n      <td>...</td>\n      <td>...</td>\n      <td>...</td>\n      <td>...</td>\n      <td>...</td>\n      <td>...</td>\n      <td>...</td>\n      <td>...</td>\n      <td>...</td>\n      <td>...</td>\n      <td>...</td>\n      <td>...</td>\n    </tr>\n    <tr>\n      <th>141</th>\n      <td>34.30</td>\n      <td>6.70</td>\n      <td>Male</td>\n      <td>No</td>\n      <td>Thur</td>\n      <td>Lunch</td>\n      <td>6</td>\n      <td>5.72</td>\n      <td>Steven Carlson</td>\n      <td>3526515703718508</td>\n      <td>Thur1025</td>\n      <td>8508</td>\n      <td>$$$</td>\n      <td>Other</td>\n    </tr>\n    <tr>\n      <th>59</th>\n      <td>48.27</td>\n      <td>6.73</td>\n      <td>Male</td>\n      <td>No</td>\n      <td>Sat</td>\n      <td>Dinner</td>\n      <td>4</td>\n      <td>12.07</td>\n      <td>Brian Ortiz</td>\n      <td>6596453823950595</td>\n      <td>Sat8139</td>\n      <td>0595</td>\n      <td>$$$</td>\n      <td>Other</td>\n    </tr>\n    <tr>\n      <th>23</th>\n      <td>39.42</td>\n      <td>7.58</td>\n      <td>Male</td>\n      <td>No</td>\n      <td>Sat</td>\n      <td>Dinner</td>\n      <td>4</td>\n      <td>9.86</td>\n      <td>Lance Peterson</td>\n      <td>3542584061609808</td>\n      <td>Sat239</td>\n      <td>9808</td>\n      <td>$$$</td>\n      <td>Other</td>\n    </tr>\n    <tr>\n      <th>212</th>\n      <td>48.33</td>\n      <td>9.00</td>\n      <td>Male</td>\n      <td>No</td>\n      <td>Sat</td>\n      <td>Dinner</td>\n      <td>4</td>\n      <td>12.08</td>\n      <td>Alex Williamson</td>\n      <td>676218815212</td>\n      <td>Sat4590</td>\n      <td>5212</td>\n      <td>$$$</td>\n      <td>Other</td>\n    </tr>\n    <tr>\n      <th>170</th>\n      <td>50.81</td>\n      <td>10.00</td>\n      <td>Male</td>\n      <td>Yes</td>\n      <td>Sat</td>\n      <td>Dinner</td>\n      <td>3</td>\n      <td>16.94</td>\n      <td>Gregory Clark</td>\n      <td>5473850968388236</td>\n      <td>Sat1954</td>\n      <td>8236</td>\n      <td>$$$</td>\n      <td>Other</td>\n    </tr>\n  </tbody>\n</table>\n<p>244 rows × 14 columns</p>\n</div>"
     },
     "execution_count": 30,
     "metadata": {},
     "output_type": "execute_result"
    }
   ],
   "source": [
    "# Helpful if you want to reorder after a sort\n",
    "# https://stackoverflow.com/questions/13148429/how-to-change-the-order-of-dataframe-columns\n",
    "df.sort_values(['tip', 'size'])"
   ]
  },
  {
   "cell_type": "markdown",
   "metadata": {},
   "source": [
    "<a id='corr'></a>\n",
    "## df.corr() for correlation checks\n",
    "\n",
    "[Wikipedia on Correlation](https://en.wikipedia.org/wiki/Correlation_and_dependence)"
   ]
  },
  {
   "cell_type": "code",
   "execution_count": 82,
   "metadata": {
    "ExecuteTime": {
     "end_time": "2024-03-28T17:45:13.223480Z",
     "start_time": "2024-03-28T17:45:13.216300Z"
    }
   },
   "outputs": [
    {
     "data": {
      "text/plain": "'Sat'"
     },
     "execution_count": 82,
     "metadata": {},
     "output_type": "execute_result"
    }
   ],
   "source": [
    "df[\"day\"].unique()[1]"
   ]
  },
  {
   "cell_type": "code",
   "execution_count": 83,
   "metadata": {
    "ExecuteTime": {
     "end_time": "2024-03-28T17:55:03.103710Z",
     "start_time": "2024-03-28T17:55:03.085200Z"
    }
   },
   "outputs": [
    {
     "data": {
      "text/plain": "     total_bill   tip     sex smoker   day    time  size  price_per_person  \\\n85        34.83  5.17  Female     No  Thur   Lunch     4              8.71   \n220       12.16  2.20    Male    Yes   Fri   Lunch     2              6.08   \n161       12.66  2.50    Male     No   Sun  Dinner     2              6.33   \n112       38.07  4.00    Male     No   Sun  Dinner     3             12.69   \n151       13.13  2.00    Male     No   Sun  Dinner     2              6.56   \n..          ...   ...     ...    ...   ...     ...   ...               ...   \n177       14.48  2.00    Male    Yes   Sun  Dinner     2              7.24   \n39        31.27  5.00    Male     No   Sat  Dinner     3             10.42   \n145        8.35  1.50  Female     No  Thur   Lunch     2              4.18   \n122       14.26  2.50    Male     No  Thur   Lunch     2              7.13   \n118       12.43  1.80  Female     No  Thur   Lunch     2              6.22   \n\n              Payer Name         CC Number Payment ID last_four Expensive  \\\n85           Shawna Cook  6011787464177340   Thur7972      7340       $$$   \n220        Ricky Johnson   213109508670736    Fri4607      0736        $$   \n161      Brandon Oconnor  4406882156920533    Sun5879      0533        $$   \n112           Jeff Lopez  3572865915176463     Sun591      6463       $$$   \n151         Jason Arnold  3571825125296106    Sun2127      6106        $$   \n..                   ...               ...        ...       ...       ...   \n177          John Dudley  4565183162071073    Sun6203      1073        $$   \n39     Mr. Brandon Berry  6011525851069856    Sat6373      9856       $$$   \n145            Amy Young     4285454264477   Thur9331      4477         $   \n122         Perry Garcia   180034646320219   Thur3579      0219        $$   \n118  Dr. Caroline Tucker      502047186908   Thur8084      6908        $$   \n\n    Tip Quality    some  \n85        Other  41.796  \n220       Other  14.592  \n161       Other  15.192  \n112       Other  45.684  \n151       Other  15.756  \n..          ...     ...  \n177       Other  17.376  \n39        Other  37.524  \n145       Other  10.020  \n122       Other  17.112  \n118       Other  14.916  \n\n[61 rows x 15 columns]",
      "text/html": "<div>\n<style scoped>\n    .dataframe tbody tr th:only-of-type {\n        vertical-align: middle;\n    }\n\n    .dataframe tbody tr th {\n        vertical-align: top;\n    }\n\n    .dataframe thead th {\n        text-align: right;\n    }\n</style>\n<table border=\"1\" class=\"dataframe\">\n  <thead>\n    <tr style=\"text-align: right;\">\n      <th></th>\n      <th>total_bill</th>\n      <th>tip</th>\n      <th>sex</th>\n      <th>smoker</th>\n      <th>day</th>\n      <th>time</th>\n      <th>size</th>\n      <th>price_per_person</th>\n      <th>Payer Name</th>\n      <th>CC Number</th>\n      <th>Payment ID</th>\n      <th>last_four</th>\n      <th>Expensive</th>\n      <th>Tip Quality</th>\n      <th>some</th>\n    </tr>\n  </thead>\n  <tbody>\n    <tr>\n      <th>85</th>\n      <td>34.83</td>\n      <td>5.17</td>\n      <td>Female</td>\n      <td>No</td>\n      <td>Thur</td>\n      <td>Lunch</td>\n      <td>4</td>\n      <td>8.71</td>\n      <td>Shawna Cook</td>\n      <td>6011787464177340</td>\n      <td>Thur7972</td>\n      <td>7340</td>\n      <td>$$$</td>\n      <td>Other</td>\n      <td>41.796</td>\n    </tr>\n    <tr>\n      <th>220</th>\n      <td>12.16</td>\n      <td>2.20</td>\n      <td>Male</td>\n      <td>Yes</td>\n      <td>Fri</td>\n      <td>Lunch</td>\n      <td>2</td>\n      <td>6.08</td>\n      <td>Ricky Johnson</td>\n      <td>213109508670736</td>\n      <td>Fri4607</td>\n      <td>0736</td>\n      <td>$$</td>\n      <td>Other</td>\n      <td>14.592</td>\n    </tr>\n    <tr>\n      <th>161</th>\n      <td>12.66</td>\n      <td>2.50</td>\n      <td>Male</td>\n      <td>No</td>\n      <td>Sun</td>\n      <td>Dinner</td>\n      <td>2</td>\n      <td>6.33</td>\n      <td>Brandon Oconnor</td>\n      <td>4406882156920533</td>\n      <td>Sun5879</td>\n      <td>0533</td>\n      <td>$$</td>\n      <td>Other</td>\n      <td>15.192</td>\n    </tr>\n    <tr>\n      <th>112</th>\n      <td>38.07</td>\n      <td>4.00</td>\n      <td>Male</td>\n      <td>No</td>\n      <td>Sun</td>\n      <td>Dinner</td>\n      <td>3</td>\n      <td>12.69</td>\n      <td>Jeff Lopez</td>\n      <td>3572865915176463</td>\n      <td>Sun591</td>\n      <td>6463</td>\n      <td>$$$</td>\n      <td>Other</td>\n      <td>45.684</td>\n    </tr>\n    <tr>\n      <th>151</th>\n      <td>13.13</td>\n      <td>2.00</td>\n      <td>Male</td>\n      <td>No</td>\n      <td>Sun</td>\n      <td>Dinner</td>\n      <td>2</td>\n      <td>6.56</td>\n      <td>Jason Arnold</td>\n      <td>3571825125296106</td>\n      <td>Sun2127</td>\n      <td>6106</td>\n      <td>$$</td>\n      <td>Other</td>\n      <td>15.756</td>\n    </tr>\n    <tr>\n      <th>...</th>\n      <td>...</td>\n      <td>...</td>\n      <td>...</td>\n      <td>...</td>\n      <td>...</td>\n      <td>...</td>\n      <td>...</td>\n      <td>...</td>\n      <td>...</td>\n      <td>...</td>\n      <td>...</td>\n      <td>...</td>\n      <td>...</td>\n      <td>...</td>\n      <td>...</td>\n    </tr>\n    <tr>\n      <th>177</th>\n      <td>14.48</td>\n      <td>2.00</td>\n      <td>Male</td>\n      <td>Yes</td>\n      <td>Sun</td>\n      <td>Dinner</td>\n      <td>2</td>\n      <td>7.24</td>\n      <td>John Dudley</td>\n      <td>4565183162071073</td>\n      <td>Sun6203</td>\n      <td>1073</td>\n      <td>$$</td>\n      <td>Other</td>\n      <td>17.376</td>\n    </tr>\n    <tr>\n      <th>39</th>\n      <td>31.27</td>\n      <td>5.00</td>\n      <td>Male</td>\n      <td>No</td>\n      <td>Sat</td>\n      <td>Dinner</td>\n      <td>3</td>\n      <td>10.42</td>\n      <td>Mr. Brandon Berry</td>\n      <td>6011525851069856</td>\n      <td>Sat6373</td>\n      <td>9856</td>\n      <td>$$$</td>\n      <td>Other</td>\n      <td>37.524</td>\n    </tr>\n    <tr>\n      <th>145</th>\n      <td>8.35</td>\n      <td>1.50</td>\n      <td>Female</td>\n      <td>No</td>\n      <td>Thur</td>\n      <td>Lunch</td>\n      <td>2</td>\n      <td>4.18</td>\n      <td>Amy Young</td>\n      <td>4285454264477</td>\n      <td>Thur9331</td>\n      <td>4477</td>\n      <td>$</td>\n      <td>Other</td>\n      <td>10.020</td>\n    </tr>\n    <tr>\n      <th>122</th>\n      <td>14.26</td>\n      <td>2.50</td>\n      <td>Male</td>\n      <td>No</td>\n      <td>Thur</td>\n      <td>Lunch</td>\n      <td>2</td>\n      <td>7.13</td>\n      <td>Perry Garcia</td>\n      <td>180034646320219</td>\n      <td>Thur3579</td>\n      <td>0219</td>\n      <td>$$</td>\n      <td>Other</td>\n      <td>17.112</td>\n    </tr>\n    <tr>\n      <th>118</th>\n      <td>12.43</td>\n      <td>1.80</td>\n      <td>Female</td>\n      <td>No</td>\n      <td>Thur</td>\n      <td>Lunch</td>\n      <td>2</td>\n      <td>6.22</td>\n      <td>Dr. Caroline Tucker</td>\n      <td>502047186908</td>\n      <td>Thur8084</td>\n      <td>6908</td>\n      <td>$$</td>\n      <td>Other</td>\n      <td>14.916</td>\n    </tr>\n  </tbody>\n</table>\n<p>61 rows × 15 columns</p>\n</div>"
     },
     "execution_count": 83,
     "metadata": {},
     "output_type": "execute_result"
    }
   ],
   "source": [
    "df.sample(frac=0.25)"
   ]
  },
  {
   "cell_type": "markdown",
   "metadata": {},
   "source": [
    "<a id='idx'></a>\n",
    "### idxmin and idxmax"
   ]
  },
  {
   "cell_type": "code",
   "execution_count": null,
   "metadata": {},
   "outputs": [],
   "source": [
    "df.head()"
   ]
  },
  {
   "cell_type": "code",
   "execution_count": null,
   "metadata": {},
   "outputs": [],
   "source": [
    "df['total_bill'].max()"
   ]
  },
  {
   "cell_type": "code",
   "execution_count": null,
   "metadata": {},
   "outputs": [],
   "source": [
    "df['total_bill'].idxmax()"
   ]
  },
  {
   "cell_type": "code",
   "execution_count": null,
   "metadata": {},
   "outputs": [],
   "source": [
    "df['total_bill'].idxmin()"
   ]
  },
  {
   "cell_type": "code",
   "execution_count": null,
   "metadata": {},
   "outputs": [],
   "source": [
    "df.iloc[67]"
   ]
  },
  {
   "cell_type": "code",
   "execution_count": null,
   "metadata": {},
   "outputs": [],
   "source": [
    "df.iloc[170]"
   ]
  },
  {
   "cell_type": "markdown",
   "metadata": {},
   "source": [
    "<a id='v_c'></a>\n",
    "### value_counts\n",
    "\n",
    "Nice method to quickly get a count per category. Only makes sense on categorical columns."
   ]
  },
  {
   "cell_type": "code",
   "execution_count": null,
   "metadata": {},
   "outputs": [],
   "source": [
    "df.head()"
   ]
  },
  {
   "cell_type": "code",
   "execution_count": null,
   "metadata": {},
   "outputs": [],
   "source": [
    "df['sex'].value_counts()"
   ]
  },
  {
   "cell_type": "markdown",
   "metadata": {},
   "source": [
    "<a id='replace'></a>\n",
    "\n",
    "### replace\n",
    "\n",
    "Quickly replace values with another one."
   ]
  },
  {
   "cell_type": "code",
   "execution_count": null,
   "metadata": {},
   "outputs": [],
   "source": [
    "df.head()"
   ]
  },
  {
   "cell_type": "code",
   "execution_count": null,
   "metadata": {},
   "outputs": [],
   "source": [
    "df['Tip Quality'].replace(to_replace='Other', value='Ok')"
   ]
  },
  {
   "cell_type": "code",
   "execution_count": null,
   "metadata": {
    "collapsed": true
   },
   "outputs": [],
   "source": [
    "df['Tip Quality'] = df['Tip Quality'].replace(to_replace='Other', value='Ok')"
   ]
  },
  {
   "cell_type": "code",
   "execution_count": null,
   "metadata": {},
   "outputs": [],
   "source": [
    "df.head()"
   ]
  },
  {
   "cell_type": "markdown",
   "metadata": {},
   "source": [
    "<a id='uni'></a>\n",
    "### unique"
   ]
  },
  {
   "cell_type": "code",
   "execution_count": null,
   "metadata": {},
   "outputs": [],
   "source": [
    "df['size'].unique()"
   ]
  },
  {
   "cell_type": "code",
   "execution_count": null,
   "metadata": {},
   "outputs": [],
   "source": [
    "df['size'].nunique()"
   ]
  },
  {
   "cell_type": "code",
   "execution_count": null,
   "metadata": {},
   "outputs": [],
   "source": [
    "df['time'].unique()"
   ]
  },
  {
   "cell_type": "markdown",
   "metadata": {},
   "source": [
    "<a id='map'></a>\n",
    "### map"
   ]
  },
  {
   "cell_type": "code",
   "execution_count": null,
   "metadata": {
    "collapsed": true
   },
   "outputs": [],
   "source": [
    "my_map = {'Dinner': 'D', 'Lunch': 'L'}"
   ]
  },
  {
   "cell_type": "code",
   "execution_count": null,
   "metadata": {},
   "outputs": [],
   "source": [
    "df['time'].map(my_map)"
   ]
  },
  {
   "cell_type": "code",
   "execution_count": null,
   "metadata": {},
   "outputs": [],
   "source": [
    "df.head()"
   ]
  },
  {
   "cell_type": "markdown",
   "metadata": {},
   "source": [
    "<a id='dup'></a>\n",
    "## Duplicates\n",
    "\n",
    "### .duplicated() and .drop_duplicates()"
   ]
  },
  {
   "cell_type": "code",
   "execution_count": null,
   "metadata": {},
   "outputs": [],
   "source": [
    "# Returns True for the 1st instance of a duplicated row\n",
    "df.duplicated()"
   ]
  },
  {
   "cell_type": "code",
   "execution_count": null,
   "metadata": {
    "collapsed": true
   },
   "outputs": [],
   "source": [
    "simple_df = pd.DataFrame([1, 2, 2], ['a', 'b', 'c'])"
   ]
  },
  {
   "cell_type": "code",
   "execution_count": null,
   "metadata": {},
   "outputs": [],
   "source": [
    "simple_df"
   ]
  },
  {
   "cell_type": "code",
   "execution_count": null,
   "metadata": {},
   "outputs": [],
   "source": [
    "simple_df.duplicated()"
   ]
  },
  {
   "cell_type": "code",
   "execution_count": null,
   "metadata": {},
   "outputs": [],
   "source": [
    "simple_df.drop_duplicates()"
   ]
  },
  {
   "cell_type": "markdown",
   "metadata": {},
   "source": [
    "<a id='bet'></a>\n",
    "## between\n",
    "\n",
    "left: A scalar value that defines the left boundary\n",
    "right: A scalar value that defines the right boundary\n",
    "inclusive: A Boolean value which is True by default. If False, it excludes the two passed arguments while checking."
   ]
  },
  {
   "cell_type": "code",
   "execution_count": null,
   "metadata": {},
   "outputs": [],
   "source": [
    "df['total_bill'].between(10, 20, inclusive=True)"
   ]
  },
  {
   "cell_type": "code",
   "execution_count": null,
   "metadata": {},
   "outputs": [],
   "source": [
    "df[df['total_bill'].between(10, 20, inclusive=True)]"
   ]
  },
  {
   "cell_type": "markdown",
   "metadata": {},
   "source": [
    "<a id='sample'></a>\n",
    "## sample"
   ]
  },
  {
   "cell_type": "code",
   "execution_count": null,
   "metadata": {},
   "outputs": [],
   "source": [
    "df.sample(5)"
   ]
  },
  {
   "cell_type": "code",
   "execution_count": null,
   "metadata": {},
   "outputs": [],
   "source": [
    "df.sample(frac=0.1)"
   ]
  },
  {
   "cell_type": "markdown",
   "metadata": {},
   "source": [
    "<a id='n'></a>\n",
    "## nlargest and nsmallest"
   ]
  },
  {
   "cell_type": "code",
   "execution_count": null,
   "metadata": {},
   "outputs": [],
   "source": [
    "df.nlargest(10, 'tip')"
   ]
  },
  {
   "cell_type": "markdown",
   "metadata": {},
   "source": [
    "----"
   ]
  }
 ],
 "metadata": {
  "anaconda-cloud": {},
  "kernelspec": {
   "display_name": "Python 3",
   "language": "python",
   "name": "python3"
  },
  "language_info": {
   "codemirror_mode": {
    "name": "ipython",
    "version": 3
   },
   "file_extension": ".py",
   "mimetype": "text/x-python",
   "name": "python",
   "nbconvert_exporter": "python",
   "pygments_lexer": "ipython3",
   "version": "3.7.6"
  }
 },
 "nbformat": 4,
 "nbformat_minor": 1
}
