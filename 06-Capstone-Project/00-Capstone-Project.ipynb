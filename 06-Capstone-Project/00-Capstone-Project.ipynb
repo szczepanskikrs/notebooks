{
 "cells": [
  {
   "cell_type": "markdown",
   "metadata": {},
   "source": [
    "___\n",
    "\n",
    "<a href='http://www.pieriandata.com'><img src='../Pierian_Data_Logo.png'/></a>\n",
    "___\n",
    "<center><em>Copyright by Pierian Data Inc.</em></center>\n",
    "<center><em>For more information, visit us at <a href='http://www.pieriandata.com'>www.pieriandata.com</a></em></center>"
   ]
  },
  {
   "cell_type": "markdown",
   "metadata": {},
   "source": [
    "# Capstone Project\n",
    "## Overview\n",
    "\n",
    "If you are planning on going out to see a movie, how well can you trust online reviews and ratings? *Especially* if the same company showing the rating *also* makes money by selling movie tickets. Do they have a bias towards rating movies higher than they should be rated?\n",
    "\n",
    "### Goal:\n",
    "\n",
    "**Your goal is to complete the tasks below based off the 538 article and see if you reach a similar conclusion. You will need to use your pandas and visualization skills to determine if Fandango's ratings in 2015 had a bias towards rating movies better to sell more tickets.**\n",
    "\n",
    "---\n",
    "---\n",
    "\n",
    "**Complete the tasks written in bold.**\n",
    "\n",
    "---\n",
    "----\n",
    "\n",
    "## Part One: Understanding the Background and Data\n",
    "\n",
    "\n",
    "**TASK: Read this article: [Be Suspicious Of Online Movie Ratings, Especially Fandango’s](http://fivethirtyeight.com/features/fandango-movies-ratings/)**"
   ]
  },
  {
   "cell_type": "markdown",
   "metadata": {},
   "source": [
    "----\n",
    "\n",
    "**TASK: After reading the article, read these two tables giving an overview of the two .csv files we will be working with:**\n",
    "\n",
    "### The Data\n",
    "\n",
    "This is the data behind the story [Be Suspicious Of Online Movie Ratings, Especially Fandango’s](http://fivethirtyeight.com/features/fandango-movies-ratings/) openly available on 538's github: https://github.com/fivethirtyeight/data. There are two csv files, one with Fandango Stars and Displayed Ratings, and the other with aggregate data for movie ratings from other sites, like Metacritic,IMDB, and Rotten Tomatoes.\n",
    "\n",
    "#### all_sites_scores.csv"
   ]
  },
  {
   "cell_type": "markdown",
   "metadata": {},
   "source": [
    "-----\n",
    "\n",
    "`all_sites_scores.csv` contains every film that has a Rotten Tomatoes rating, a RT User rating, a Metacritic score, a Metacritic User score, and IMDb score, and at least 30 fan reviews on Fandango. The data from Fandango was pulled on Aug. 24, 2015."
   ]
  },
  {
   "cell_type": "markdown",
   "metadata": {},
   "source": [
    "Column | Definition\n",
    "--- | -----------\n",
    "FILM | The film in question\n",
    "RottenTomatoes | The Rotten Tomatoes Tomatometer score  for the film\n",
    "RottenTomatoes_User | The Rotten Tomatoes user score for the film\n",
    "Metacritic | The Metacritic critic score for the film\n",
    "Metacritic_User | The Metacritic user score for the film\n",
    "IMDB | The IMDb user score for the film\n",
    "Metacritic_user_vote_count | The number of user votes the film had on Metacritic\n",
    "IMDB_user_vote_count | The number of user votes the film had on IMDb"
   ]
  },
  {
   "cell_type": "markdown",
   "metadata": {},
   "source": [
    "----\n",
    "----\n",
    "\n",
    "#### fandango_scape.csv"
   ]
  },
  {
   "cell_type": "markdown",
   "metadata": {},
   "source": [
    "`fandango_scrape.csv` contains every film 538 pulled from Fandango.\n",
    "\n",
    "Column | Definiton\n",
    "--- | ---------\n",
    "FILM | The movie\n",
    "STARS | Number of stars presented on Fandango.com\n",
    "RATING |  The Fandango ratingValue for the film, as pulled from the HTML of each page. This is the actual average score the movie obtained.\n",
    "VOTES | number of people who had reviewed the film at the time we pulled it."
   ]
  },
  {
   "cell_type": "markdown",
   "metadata": {},
   "source": [
    "----\n",
    "\n",
    "**TASK: Import any libraries you think you will use:**"
   ]
  },
  {
   "cell_type": "code",
   "execution_count": 2,
   "metadata": {
    "ExecuteTime": {
     "end_time": "2024-04-14T15:11:39.950916Z",
     "start_time": "2024-04-14T15:11:39.948589Z"
    }
   },
   "outputs": [],
   "source": [
    "import matplotlib.pyplot as plt\n",
    "import pandas as pd\n",
    "import seaborn as sns\n"
   ]
  },
  {
   "cell_type": "code",
   "outputs": [],
   "source": [
    "def normalize_score(score: float) -> int:\n",
    "    return int(score * 10)"
   ],
   "metadata": {
    "collapsed": false,
    "ExecuteTime": {
     "end_time": "2024-04-14T15:11:40.408418Z",
     "start_time": "2024-04-14T15:11:40.406118Z"
    }
   },
   "execution_count": 3
  },
  {
   "cell_type": "code",
   "outputs": [],
   "source": [
    "def normalize_fandango(score: float) -> int:\n",
    "    return int(score * 20)"
   ],
   "metadata": {
    "collapsed": false,
    "ExecuteTime": {
     "end_time": "2024-04-14T15:11:40.886931Z",
     "start_time": "2024-04-14T15:11:40.884158Z"
    }
   },
   "execution_count": 4
  },
  {
   "cell_type": "markdown",
   "source": [],
   "metadata": {
    "collapsed": false
   }
  },
  {
   "cell_type": "code",
   "execution_count": 5,
   "metadata": {
    "ExecuteTime": {
     "end_time": "2024-04-14T15:11:41.732326Z",
     "start_time": "2024-04-14T15:11:41.711904Z"
    }
   },
   "outputs": [
    {
     "data": {
      "text/plain": "                                          FILM  RottenTomatoes  \\\n0               Avengers: Age of Ultron (2015)              74   \n1                            Cinderella (2015)              85   \n2                               Ant-Man (2015)              80   \n3                       Do You Believe? (2015)              18   \n4                Hot Tub Time Machine 2 (2015)              14   \n..                                         ...             ...   \n141                          Mr. Holmes (2015)              87   \n142                                 '71 (2015)              97   \n143                 Two Days, One Night (2014)              97   \n144  Gett: The Trial of Viviane Amsalem (2015)             100   \n145         Kumiko, The Treasure Hunter (2015)              87   \n\n     RottenTomatoes_User  Metacritic  Metacritic_User  IMDB  \\\n0                     86          66               71    78   \n1                     80          67               75    71   \n2                     90          64               81    78   \n3                     84          22               47    54   \n4                     28          29               34    51   \n..                   ...         ...              ...   ...   \n141                   78          67               79    74   \n142                   82          83               75    72   \n143                   78          89               88    74   \n144                   81          90               73    78   \n145                   63          68               64    67   \n\n     Metacritic_user_vote_count  IMDB_user_vote_count  \n0                          1330                271107  \n1                           249                 65709  \n2                           627                103660  \n3                            31                  3136  \n4                            88                 19560  \n..                          ...                   ...  \n141                          33                  7367  \n142                          60                 24116  \n143                         123                 24345  \n144                          19                  1955  \n145                          19                  5289  \n\n[146 rows x 8 columns]",
      "text/html": "<div>\n<style scoped>\n    .dataframe tbody tr th:only-of-type {\n        vertical-align: middle;\n    }\n\n    .dataframe tbody tr th {\n        vertical-align: top;\n    }\n\n    .dataframe thead th {\n        text-align: right;\n    }\n</style>\n<table border=\"1\" class=\"dataframe\">\n  <thead>\n    <tr style=\"text-align: right;\">\n      <th></th>\n      <th>FILM</th>\n      <th>RottenTomatoes</th>\n      <th>RottenTomatoes_User</th>\n      <th>Metacritic</th>\n      <th>Metacritic_User</th>\n      <th>IMDB</th>\n      <th>Metacritic_user_vote_count</th>\n      <th>IMDB_user_vote_count</th>\n    </tr>\n  </thead>\n  <tbody>\n    <tr>\n      <th>0</th>\n      <td>Avengers: Age of Ultron (2015)</td>\n      <td>74</td>\n      <td>86</td>\n      <td>66</td>\n      <td>71</td>\n      <td>78</td>\n      <td>1330</td>\n      <td>271107</td>\n    </tr>\n    <tr>\n      <th>1</th>\n      <td>Cinderella (2015)</td>\n      <td>85</td>\n      <td>80</td>\n      <td>67</td>\n      <td>75</td>\n      <td>71</td>\n      <td>249</td>\n      <td>65709</td>\n    </tr>\n    <tr>\n      <th>2</th>\n      <td>Ant-Man (2015)</td>\n      <td>80</td>\n      <td>90</td>\n      <td>64</td>\n      <td>81</td>\n      <td>78</td>\n      <td>627</td>\n      <td>103660</td>\n    </tr>\n    <tr>\n      <th>3</th>\n      <td>Do You Believe? (2015)</td>\n      <td>18</td>\n      <td>84</td>\n      <td>22</td>\n      <td>47</td>\n      <td>54</td>\n      <td>31</td>\n      <td>3136</td>\n    </tr>\n    <tr>\n      <th>4</th>\n      <td>Hot Tub Time Machine 2 (2015)</td>\n      <td>14</td>\n      <td>28</td>\n      <td>29</td>\n      <td>34</td>\n      <td>51</td>\n      <td>88</td>\n      <td>19560</td>\n    </tr>\n    <tr>\n      <th>...</th>\n      <td>...</td>\n      <td>...</td>\n      <td>...</td>\n      <td>...</td>\n      <td>...</td>\n      <td>...</td>\n      <td>...</td>\n      <td>...</td>\n    </tr>\n    <tr>\n      <th>141</th>\n      <td>Mr. Holmes (2015)</td>\n      <td>87</td>\n      <td>78</td>\n      <td>67</td>\n      <td>79</td>\n      <td>74</td>\n      <td>33</td>\n      <td>7367</td>\n    </tr>\n    <tr>\n      <th>142</th>\n      <td>'71 (2015)</td>\n      <td>97</td>\n      <td>82</td>\n      <td>83</td>\n      <td>75</td>\n      <td>72</td>\n      <td>60</td>\n      <td>24116</td>\n    </tr>\n    <tr>\n      <th>143</th>\n      <td>Two Days, One Night (2014)</td>\n      <td>97</td>\n      <td>78</td>\n      <td>89</td>\n      <td>88</td>\n      <td>74</td>\n      <td>123</td>\n      <td>24345</td>\n    </tr>\n    <tr>\n      <th>144</th>\n      <td>Gett: The Trial of Viviane Amsalem (2015)</td>\n      <td>100</td>\n      <td>81</td>\n      <td>90</td>\n      <td>73</td>\n      <td>78</td>\n      <td>19</td>\n      <td>1955</td>\n    </tr>\n    <tr>\n      <th>145</th>\n      <td>Kumiko, The Treasure Hunter (2015)</td>\n      <td>87</td>\n      <td>63</td>\n      <td>68</td>\n      <td>64</td>\n      <td>67</td>\n      <td>19</td>\n      <td>5289</td>\n    </tr>\n  </tbody>\n</table>\n<p>146 rows × 8 columns</p>\n</div>"
     },
     "execution_count": 5,
     "metadata": {},
     "output_type": "execute_result"
    }
   ],
   "source": [
    "all_sites_scores = pd.read_csv(\"all_sites_scores.csv\")\n",
    "all_sites_scores[\"Metacritic_User\"] = all_sites_scores[\"Metacritic_User\"].apply(normalize_score)\n",
    "all_sites_scores[\"IMDB\"] = all_sites_scores[\"IMDB\"].apply(normalize_score)\n",
    "all_sites_scores"
   ]
  },
  {
   "cell_type": "markdown",
   "metadata": {},
   "source": [
    "## Part Two: Exploring Fandango Displayed Scores versus True User Ratings\n",
    "\n",
    "Let's first explore the Fandango ratings to see if our analysis agrees with the article's conclusion.\n",
    "\n",
    "**TASK: Run the cell below to read in the fandango_scrape.csv file**"
   ]
  },
  {
   "cell_type": "markdown",
   "source": [],
   "metadata": {
    "collapsed": false
   }
  },
  {
   "cell_type": "code",
   "execution_count": 6,
   "metadata": {
    "ExecuteTime": {
     "end_time": "2024-04-14T15:11:43.308586Z",
     "start_time": "2024-04-14T15:11:43.298553Z"
    }
   },
   "outputs": [
    {
     "data": {
      "text/plain": "                            FILM  STARS  RATING  VOTES\n0    Fifty Shades of Grey (2015)     80      78  34846\n1          Jurassic World (2015)     90      90  34390\n2         American Sniper (2015)    100      96  34085\n3               Furious 7 (2015)    100      96  33538\n4              Inside Out (2015)     90      90  15749\n..                           ...    ...     ...    ...\n430       That Sugar Film (2015)    100     100      1\n431            The Intern (2015)    100     100      1\n432        The Park Bench (2015)    100     100      1\n433         The Wanted 18 (2015)    100     100      1\n434       Z For Zachariah (2015)    100     100      1\n\n[435 rows x 4 columns]",
      "text/html": "<div>\n<style scoped>\n    .dataframe tbody tr th:only-of-type {\n        vertical-align: middle;\n    }\n\n    .dataframe tbody tr th {\n        vertical-align: top;\n    }\n\n    .dataframe thead th {\n        text-align: right;\n    }\n</style>\n<table border=\"1\" class=\"dataframe\">\n  <thead>\n    <tr style=\"text-align: right;\">\n      <th></th>\n      <th>FILM</th>\n      <th>STARS</th>\n      <th>RATING</th>\n      <th>VOTES</th>\n    </tr>\n  </thead>\n  <tbody>\n    <tr>\n      <th>0</th>\n      <td>Fifty Shades of Grey (2015)</td>\n      <td>80</td>\n      <td>78</td>\n      <td>34846</td>\n    </tr>\n    <tr>\n      <th>1</th>\n      <td>Jurassic World (2015)</td>\n      <td>90</td>\n      <td>90</td>\n      <td>34390</td>\n    </tr>\n    <tr>\n      <th>2</th>\n      <td>American Sniper (2015)</td>\n      <td>100</td>\n      <td>96</td>\n      <td>34085</td>\n    </tr>\n    <tr>\n      <th>3</th>\n      <td>Furious 7 (2015)</td>\n      <td>100</td>\n      <td>96</td>\n      <td>33538</td>\n    </tr>\n    <tr>\n      <th>4</th>\n      <td>Inside Out (2015)</td>\n      <td>90</td>\n      <td>90</td>\n      <td>15749</td>\n    </tr>\n    <tr>\n      <th>...</th>\n      <td>...</td>\n      <td>...</td>\n      <td>...</td>\n      <td>...</td>\n    </tr>\n    <tr>\n      <th>430</th>\n      <td>That Sugar Film (2015)</td>\n      <td>100</td>\n      <td>100</td>\n      <td>1</td>\n    </tr>\n    <tr>\n      <th>431</th>\n      <td>The Intern (2015)</td>\n      <td>100</td>\n      <td>100</td>\n      <td>1</td>\n    </tr>\n    <tr>\n      <th>432</th>\n      <td>The Park Bench (2015)</td>\n      <td>100</td>\n      <td>100</td>\n      <td>1</td>\n    </tr>\n    <tr>\n      <th>433</th>\n      <td>The Wanted 18 (2015)</td>\n      <td>100</td>\n      <td>100</td>\n      <td>1</td>\n    </tr>\n    <tr>\n      <th>434</th>\n      <td>Z For Zachariah (2015)</td>\n      <td>100</td>\n      <td>100</td>\n      <td>1</td>\n    </tr>\n  </tbody>\n</table>\n<p>435 rows × 4 columns</p>\n</div>"
     },
     "execution_count": 6,
     "metadata": {},
     "output_type": "execute_result"
    }
   ],
   "source": [
    "fandango = pd.read_csv(\"fandango_scrape.csv\")\n",
    "fandango[\"RATING\"] = fandango[\"RATING\"].apply(normalize_fandango)\n",
    "fandango[\"STARS\"] = fandango[\"STARS\"].apply(normalize_fandango)\n",
    "fandango[fandango[[\"RATING\", \"STARS\"]].sum(axis=1) > 0]"
   ]
  },
  {
   "cell_type": "code",
   "outputs": [],
   "source": [],
   "metadata": {
    "collapsed": false,
    "ExecuteTime": {
     "end_time": "2024-04-14T15:11:43.834569Z",
     "start_time": "2024-04-14T15:11:43.832158Z"
    }
   },
   "execution_count": 6
  },
  {
   "cell_type": "code",
   "outputs": [],
   "source": [],
   "metadata": {
    "collapsed": false,
    "ExecuteTime": {
     "end_time": "2024-04-14T15:11:44.150920Z",
     "start_time": "2024-04-14T15:11:44.148783Z"
    }
   },
   "execution_count": 6
  },
  {
   "cell_type": "markdown",
   "metadata": {},
   "source": [
    "**TASK: Explore the DataFrame Properties and Head.**"
   ]
  },
  {
   "cell_type": "code",
   "execution_count": 6,
   "metadata": {
    "ExecuteTime": {
     "end_time": "2024-04-14T15:11:45.049634Z",
     "start_time": "2024-04-14T15:11:45.048349Z"
    }
   },
   "outputs": [],
   "source": []
  },
  {
   "cell_type": "code",
   "execution_count": 6,
   "metadata": {
    "ExecuteTime": {
     "end_time": "2024-04-14T15:11:45.754067Z",
     "start_time": "2024-04-14T15:11:45.751922Z"
    }
   },
   "outputs": [],
   "source": []
  },
  {
   "cell_type": "code",
   "execution_count": 6,
   "metadata": {
    "ExecuteTime": {
     "end_time": "2024-04-14T15:11:46.012416Z",
     "start_time": "2024-04-14T15:11:46.010333Z"
    }
   },
   "outputs": [],
   "source": []
  },
  {
   "cell_type": "markdown",
   "metadata": {},
   "source": [
    "**TASK: Let's explore the relationship between popularity of a film and its rating. Create a scatterplot showing the relationship between rating and votes. Feel free to edit visual styling to your preference.**"
   ]
  },
  {
   "cell_type": "code",
   "execution_count": 7,
   "metadata": {
    "ExecuteTime": {
     "end_time": "2024-04-14T15:11:46.908307Z",
     "start_time": "2024-04-14T15:11:46.729899Z"
    }
   },
   "outputs": [
    {
     "data": {
      "text/plain": "<Axes: xlabel='RATING', ylabel='VOTES'>"
     },
     "execution_count": 7,
     "metadata": {},
     "output_type": "execute_result"
    },
    {
     "data": {
      "text/plain": "<Figure size 640x480 with 1 Axes>",
      "image/png": "[encoded data removed]"
     },
     "metadata": {},
     "output_type": "display_data"
    }
   ],
   "source": [
    "# sns.scatterplot(y=\"IMDB_user_vote_count\", x=\"Metacritic\", data=all_sites_scores)\n",
    "sns.scatterplot(y=\"VOTES\", x=\"RATING\", data=fandango)"
   ]
  },
  {
   "cell_type": "code",
   "execution_count": 14,
   "metadata": {
    "ExecuteTime": {
     "end_time": "2024-04-14T15:16:08.814007Z",
     "start_time": "2024-04-14T15:16:08.806348Z"
    }
   },
   "outputs": [
    {
     "data": {
      "text/plain": "                   RATING  RottenTomatoes  Metacritic  Metacritic_User  \\\nRATING           1.000000        0.284391    0.171986         0.331946   \nRottenTomatoes   0.284391        1.000000    0.957243         0.752564   \nMetacritic       0.171986        0.957243    1.000000         0.721946   \nMetacritic_User  0.331946        0.752564    0.721946         1.000000   \nIMDB             0.596930        0.777921    0.725744         0.754456   \n\n                     IMDB  \nRATING           0.596930  \nRottenTomatoes   0.777921  \nMetacritic       0.725744  \nMetacritic_User  0.754456  \nIMDB             1.000000  ",
      "text/html": "<div>\n<style scoped>\n    .dataframe tbody tr th:only-of-type {\n        vertical-align: middle;\n    }\n\n    .dataframe tbody tr th {\n        vertical-align: top;\n    }\n\n    .dataframe thead th {\n        text-align: right;\n    }\n</style>\n<table border=\"1\" class=\"dataframe\">\n  <thead>\n    <tr style=\"text-align: right;\">\n      <th></th>\n      <th>RATING</th>\n      <th>RottenTomatoes</th>\n      <th>Metacritic</th>\n      <th>Metacritic_User</th>\n      <th>IMDB</th>\n    </tr>\n  </thead>\n  <tbody>\n    <tr>\n      <th>RATING</th>\n      <td>1.000000</td>\n      <td>0.284391</td>\n      <td>0.171986</td>\n      <td>0.331946</td>\n      <td>0.596930</td>\n    </tr>\n    <tr>\n      <th>RottenTomatoes</th>\n      <td>0.284391</td>\n      <td>1.000000</td>\n      <td>0.957243</td>\n      <td>0.752564</td>\n      <td>0.777921</td>\n    </tr>\n    <tr>\n      <th>Metacritic</th>\n      <td>0.171986</td>\n      <td>0.957243</td>\n      <td>1.000000</td>\n      <td>0.721946</td>\n      <td>0.725744</td>\n    </tr>\n    <tr>\n      <th>Metacritic_User</th>\n      <td>0.331946</td>\n      <td>0.752564</td>\n      <td>0.721946</td>\n      <td>1.000000</td>\n      <td>0.754456</td>\n    </tr>\n    <tr>\n      <th>IMDB</th>\n      <td>0.596930</td>\n      <td>0.777921</td>\n      <td>0.725744</td>\n      <td>0.754456</td>\n      <td>1.000000</td>\n    </tr>\n  </tbody>\n</table>\n</div>"
     },
     "execution_count": 14,
     "metadata": {},
     "output_type": "execute_result"
    }
   ],
   "source": [
    "merged = pd.merge(all_sites_scores, fandango, left_on=\"FILM\", right_on=\"FILM\", how=\"inner\")\n",
    "merged[[\"RATING\", 'RottenTomatoes', 'Metacritic', 'Metacritic_User', 'IMDB']].corr()"
   ]
  },
  {
   "cell_type": "markdown",
   "metadata": {},
   "source": [
    "**TASK: Calculate the correlation between the columns:**"
   ]
  },
  {
   "cell_type": "code",
   "execution_count": 31,
   "metadata": {
    "ExecuteTime": {
     "end_time": "2024-04-14T15:31:47.068879Z",
     "start_time": "2024-04-14T15:31:47.060913Z"
    }
   },
   "outputs": [
    {
     "data": {
      "text/plain": "                                          FILM  RottenTomatoes  \\\n0               Avengers: Age of Ultron (2015)              74   \n1                            Cinderella (2015)              85   \n2                               Ant-Man (2015)              80   \n3                       Do You Believe? (2015)              18   \n4                Hot Tub Time Machine 2 (2015)              14   \n..                                         ...             ...   \n140                          Mr. Holmes (2015)              87   \n141                                 '71 (2015)              97   \n142                 Two Days, One Night (2014)              97   \n143  Gett: The Trial of Viviane Amsalem (2015)             100   \n144         Kumiko, The Treasure Hunter (2015)              87   \n\n     RottenTomatoes_User  Metacritic  Metacritic_User  IMDB  \\\n0                     86          66               71    78   \n1                     80          67               75    71   \n2                     90          64               81    78   \n3                     84          22               47    54   \n4                     28          29               34    51   \n..                   ...         ...              ...   ...   \n140                   78          67               79    74   \n141                   82          83               75    72   \n142                   78          89               88    74   \n143                   81          90               73    78   \n144                   63          68               64    67   \n\n     Metacritic_user_vote_count  IMDB_user_vote_count  STARS  RATING  VOTES  \\\n0                          1330                271107    100      90  14846   \n1                           249                 65709    100      90  12640   \n2                           627                103660    100      90  12055   \n3                            31                  3136    100      90   1793   \n4                            88                 19560     70      60   1021   \n..                          ...                   ...    ...     ...    ...   \n140                          33                  7367     80      80   1348   \n141                          60                 24116     70      70    192   \n142                         123                 24345     70      70    118   \n143                          19                  1955     70      70     59   \n144                          19                  5289     70      70     41   \n\n     YEAR  \n0    2015  \n1    2015  \n2    2015  \n3    2015  \n4    2015  \n..    ...  \n140  2015  \n141  2015  \n142  2014  \n143  2015  \n144  2015  \n\n[145 rows x 12 columns]",
      "text/html": "<div>\n<style scoped>\n    .dataframe tbody tr th:only-of-type {\n        vertical-align: middle;\n    }\n\n    .dataframe tbody tr th {\n        vertical-align: top;\n    }\n\n    .dataframe thead th {\n        text-align: right;\n    }\n</style>\n<table border=\"1\" class=\"dataframe\">\n  <thead>\n    <tr style=\"text-align: right;\">\n      <th></th>\n      <th>FILM</th>\n      <th>RottenTomatoes</th>\n      <th>RottenTomatoes_User</th>\n      <th>Metacritic</th>\n      <th>Metacritic_User</th>\n      <th>IMDB</th>\n      <th>Metacritic_user_vote_count</th>\n      <th>IMDB_user_vote_count</th>\n      <th>STARS</th>\n      <th>RATING</th>\n      <th>VOTES</th>\n      <th>YEAR</th>\n    </tr>\n  </thead>\n  <tbody>\n    <tr>\n      <th>0</th>\n      <td>Avengers: Age of Ultron (2015)</td>\n      <td>74</td>\n      <td>86</td>\n      <td>66</td>\n      <td>71</td>\n      <td>78</td>\n      <td>1330</td>\n      <td>271107</td>\n      <td>100</td>\n      <td>90</td>\n      <td>14846</td>\n      <td>2015</td>\n    </tr>\n    <tr>\n      <th>1</th>\n      <td>Cinderella (2015)</td>\n      <td>85</td>\n      <td>80</td>\n      <td>67</td>\n      <td>75</td>\n      <td>71</td>\n      <td>249</td>\n      <td>65709</td>\n      <td>100</td>\n      <td>90</td>\n      <td>12640</td>\n      <td>2015</td>\n    </tr>\n    <tr>\n      <th>2</th>\n      <td>Ant-Man (2015)</td>\n      <td>80</td>\n      <td>90</td>\n      <td>64</td>\n      <td>81</td>\n      <td>78</td>\n      <td>627</td>\n      <td>103660</td>\n      <td>100</td>\n      <td>90</td>\n      <td>12055</td>\n      <td>2015</td>\n    </tr>\n    <tr>\n      <th>3</th>\n      <td>Do You Believe? (2015)</td>\n      <td>18</td>\n      <td>84</td>\n      <td>22</td>\n      <td>47</td>\n      <td>54</td>\n      <td>31</td>\n      <td>3136</td>\n      <td>100</td>\n      <td>90</td>\n      <td>1793</td>\n      <td>2015</td>\n    </tr>\n    <tr>\n      <th>4</th>\n      <td>Hot Tub Time Machine 2 (2015)</td>\n      <td>14</td>\n      <td>28</td>\n      <td>29</td>\n      <td>34</td>\n      <td>51</td>\n      <td>88</td>\n      <td>19560</td>\n      <td>70</td>\n      <td>60</td>\n      <td>1021</td>\n      <td>2015</td>\n    </tr>\n    <tr>\n      <th>...</th>\n      <td>...</td>\n      <td>...</td>\n      <td>...</td>\n      <td>...</td>\n      <td>...</td>\n      <td>...</td>\n      <td>...</td>\n      <td>...</td>\n      <td>...</td>\n      <td>...</td>\n      <td>...</td>\n      <td>...</td>\n    </tr>\n    <tr>\n      <th>140</th>\n      <td>Mr. Holmes (2015)</td>\n      <td>87</td>\n      <td>78</td>\n      <td>67</td>\n      <td>79</td>\n      <td>74</td>\n      <td>33</td>\n      <td>7367</td>\n      <td>80</td>\n      <td>80</td>\n      <td>1348</td>\n      <td>2015</td>\n    </tr>\n    <tr>\n      <th>141</th>\n      <td>'71 (2015)</td>\n      <td>97</td>\n      <td>82</td>\n      <td>83</td>\n      <td>75</td>\n      <td>72</td>\n      <td>60</td>\n      <td>24116</td>\n      <td>70</td>\n      <td>70</td>\n      <td>192</td>\n      <td>2015</td>\n    </tr>\n    <tr>\n      <th>142</th>\n      <td>Two Days, One Night (2014)</td>\n      <td>97</td>\n      <td>78</td>\n      <td>89</td>\n      <td>88</td>\n      <td>74</td>\n      <td>123</td>\n      <td>24345</td>\n      <td>70</td>\n      <td>70</td>\n      <td>118</td>\n      <td>2014</td>\n    </tr>\n    <tr>\n      <th>143</th>\n      <td>Gett: The Trial of Viviane Amsalem (2015)</td>\n      <td>100</td>\n      <td>81</td>\n      <td>90</td>\n      <td>73</td>\n      <td>78</td>\n      <td>19</td>\n      <td>1955</td>\n      <td>70</td>\n      <td>70</td>\n      <td>59</td>\n      <td>2015</td>\n    </tr>\n    <tr>\n      <th>144</th>\n      <td>Kumiko, The Treasure Hunter (2015)</td>\n      <td>87</td>\n      <td>63</td>\n      <td>68</td>\n      <td>64</td>\n      <td>67</td>\n      <td>19</td>\n      <td>5289</td>\n      <td>70</td>\n      <td>70</td>\n      <td>41</td>\n      <td>2015</td>\n    </tr>\n  </tbody>\n</table>\n<p>145 rows × 12 columns</p>\n</div>"
     },
     "execution_count": 31,
     "metadata": {},
     "output_type": "execute_result"
    }
   ],
   "source": [
    "merged"
   ]
  },
  {
   "cell_type": "code",
   "execution_count": 45,
   "metadata": {
    "ExecuteTime": {
     "end_time": "2024-04-13T18:45:46.685688Z",
     "start_time": "2024-04-13T18:45:46.683241Z"
    }
   },
   "outputs": [],
   "source": []
  },
  {
   "cell_type": "markdown",
   "metadata": {},
   "source": [
    "**TASK: Assuming that every row in the FILM title column has the same format:**\n",
    "\n",
    "    Film Title Name (Year)\n",
    "    \n",
    "**Create a new column that is able to strip the year from the title strings and set this new column as YEAR**"
   ]
  },
  {
   "cell_type": "code",
   "execution_count": 21,
   "metadata": {
    "ExecuteTime": {
     "end_time": "2024-04-14T15:24:55.599906Z",
     "start_time": "2024-04-14T15:24:55.593693Z"
    }
   },
   "outputs": [
    {
     "data": {
      "text/plain": "FILM\n2015    477\n2014     24\n2016      1\n1964      1\n2012      1\nName: count, dtype: int64"
     },
     "execution_count": 21,
     "metadata": {},
     "output_type": "execute_result"
    }
   ],
   "source": [
    "import re\n",
    "\n",
    "\n",
    "def get_year(title: str) -> str:\n",
    "    return re.search(\"\\\\((\\\\d+.\\\\d+)\\\\)\", title).group(1)\n",
    "\n",
    "\n",
    "years = fandango[\"FILM\"].apply(get_year)\n",
    "merged[\"YEAR\"] = merged[\"FILM\"].apply(get_year)\n",
    "years.value_counts()"
   ]
  },
  {
   "cell_type": "code",
   "execution_count": 46,
   "metadata": {
    "ExecuteTime": {
     "end_time": "2024-04-13T18:45:46.690739Z",
     "start_time": "2024-04-13T18:45:46.688171Z"
    }
   },
   "outputs": [],
   "source": []
  },
  {
   "cell_type": "markdown",
   "metadata": {},
   "source": [
    "**TASK: How many movies are in the Fandango DataFrame per year?**"
   ]
  },
  {
   "cell_type": "code",
   "execution_count": 47,
   "metadata": {
    "ExecuteTime": {
     "end_time": "2024-04-13T18:45:46.693295Z",
     "start_time": "2024-04-13T18:45:46.690739Z"
    }
   },
   "outputs": [],
   "source": [
    "#CODE HERE"
   ]
  },
  {
   "cell_type": "code",
   "execution_count": 47,
   "metadata": {
    "ExecuteTime": {
     "end_time": "2024-04-13T18:45:46.695481Z",
     "start_time": "2024-04-13T18:45:46.693295Z"
    }
   },
   "outputs": [],
   "source": []
  },
  {
   "cell_type": "markdown",
   "metadata": {},
   "source": [
    "**TASK: Visualize the count of movies per year with a plot:**"
   ]
  },
  {
   "cell_type": "code",
   "execution_count": 30,
   "metadata": {
    "ExecuteTime": {
     "end_time": "2024-04-14T15:30:59.229514Z",
     "start_time": "2024-04-14T15:30:59.120609Z"
    }
   },
   "outputs": [
    {
     "data": {
      "text/plain": "<seaborn.axisgrid.FacetGrid at 0x15e14ae71a0>"
     },
     "execution_count": 30,
     "metadata": {},
     "output_type": "execute_result"
    },
    {
     "data": {
      "text/plain": "<Figure size 500x500 with 1 Axes>",
      "image/png": "[encoded data removed]"
     },
     "metadata": {},
     "output_type": "display_data"
    }
   ],
   "source": [
    "plot = sns.displot(years)\n",
    "plot.set(xlabel=\"Years\", ylabel=\"Count\")"
   ]
  },
  {
   "cell_type": "code",
   "execution_count": 48,
   "metadata": {
    "ExecuteTime": {
     "end_time": "2024-04-13T18:45:46.700521Z",
     "start_time": "2024-04-13T18:45:46.698521Z"
    }
   },
   "outputs": [],
   "source": []
  },
  {
   "cell_type": "markdown",
   "metadata": {},
   "source": [
    "**TASK: What are the 10 movies with the highest number of votes?**"
   ]
  },
  {
   "cell_type": "code",
   "outputs": [],
   "source": [],
   "metadata": {
    "collapsed": false
   }
  },
  {
   "cell_type": "code",
   "execution_count": 44,
   "metadata": {
    "ExecuteTime": {
     "end_time": "2024-04-14T15:36:01.385265Z",
     "start_time": "2024-04-14T15:36:01.381248Z"
    }
   },
   "outputs": [],
   "source": [
    "merged[\"VIEWS COUNT\"] = merged[[\"VOTES\", \"IMDB_user_vote_count\", \"Metacritic_user_vote_count\"]].sum(axis=1)"
   ]
  },
  {
   "cell_type": "code",
   "execution_count": 48,
   "metadata": {
    "ExecuteTime": {
     "end_time": "2024-04-14T15:36:49.043469Z",
     "start_time": "2024-04-14T15:36:49.037248Z"
    }
   },
   "outputs": [
    {
     "data": {
      "text/plain": "                                                 FILM  RottenTomatoes  \\\n14                          The Imitation Game (2014)              90   \n65                                     Birdman (2014)              92   \n74   The Hobbit: The Battle of the Five Armies (2014)              61   \n88                          Mad Max: Fury Road (2015)              97   \n44                Kingsman: The Secret Service (2015)              75   \n0                      Avengers: Age of Ultron (2015)              74   \n72                             American Sniper (2015)              72   \n129                             Jurassic World (2015)              71   \n73                                   Furious 7 (2015)              81   \n97                        Fifty Shades of Grey (2015)              25   \n\n     RottenTomatoes_User  Metacritic  Metacritic_User  IMDB  \\\n14                    92          73               82    81   \n65                    78          88               80    79   \n74                    75          59               70    75   \n88                    88          89               87    83   \n44                    84          58               79    78   \n0                     86          66               71    78   \n72                    85          72               66    74   \n129                   81          59               70    73   \n73                    84          67               68    74   \n97                    42          46               32    42   \n\n     Metacritic_user_vote_count  IMDB_user_vote_count  STARS  RATING  VOTES  \\\n14                          566                334164    100      92   8055   \n65                         1171                303505     80      74   4194   \n74                          903                289464     90      86  15337   \n88                         2375                292023     90      86  10509   \n44                         1054                272204     90      84  15205   \n0                          1330                271107    100      90  14846   \n72                          850                251856    100      96  34085   \n129                        1281                241807     90      90  34390   \n73                          764                207211    100      96  33538   \n97                          778                179506     80      78  34846   \n\n     YEAR  VIEWS COUNT  \n14   2014       342785  \n65   2014       308870  \n74   2014       305704  \n88   2015       304907  \n44   2015       288463  \n0    2015       287283  \n72   2015       286791  \n129  2015       277478  \n73   2015       241513  \n97   2015       215130  ",
      "text/html": "<div>\n<style scoped>\n    .dataframe tbody tr th:only-of-type {\n        vertical-align: middle;\n    }\n\n    .dataframe tbody tr th {\n        vertical-align: top;\n    }\n\n    .dataframe thead th {\n        text-align: right;\n    }\n</style>\n<table border=\"1\" class=\"dataframe\">\n  <thead>\n    <tr style=\"text-align: right;\">\n      <th></th>\n      <th>FILM</th>\n      <th>RottenTomatoes</th>\n      <th>RottenTomatoes_User</th>\n      <th>Metacritic</th>\n      <th>Metacritic_User</th>\n      <th>IMDB</th>\n      <th>Metacritic_user_vote_count</th>\n      <th>IMDB_user_vote_count</th>\n      <th>STARS</th>\n      <th>RATING</th>\n      <th>VOTES</th>\n      <th>YEAR</th>\n      <th>VIEWS COUNT</th>\n    </tr>\n  </thead>\n  <tbody>\n    <tr>\n      <th>14</th>\n      <td>The Imitation Game (2014)</td>\n      <td>90</td>\n      <td>92</td>\n      <td>73</td>\n      <td>82</td>\n      <td>81</td>\n      <td>566</td>\n      <td>334164</td>\n      <td>100</td>\n      <td>92</td>\n      <td>8055</td>\n      <td>2014</td>\n      <td>342785</td>\n    </tr>\n    <tr>\n      <th>65</th>\n      <td>Birdman (2014)</td>\n      <td>92</td>\n      <td>78</td>\n      <td>88</td>\n      <td>80</td>\n      <td>79</td>\n      <td>1171</td>\n      <td>303505</td>\n      <td>80</td>\n      <td>74</td>\n      <td>4194</td>\n      <td>2014</td>\n      <td>308870</td>\n    </tr>\n    <tr>\n      <th>74</th>\n      <td>The Hobbit: The Battle of the Five Armies (2014)</td>\n      <td>61</td>\n      <td>75</td>\n      <td>59</td>\n      <td>70</td>\n      <td>75</td>\n      <td>903</td>\n      <td>289464</td>\n      <td>90</td>\n      <td>86</td>\n      <td>15337</td>\n      <td>2014</td>\n      <td>305704</td>\n    </tr>\n    <tr>\n      <th>88</th>\n      <td>Mad Max: Fury Road (2015)</td>\n      <td>97</td>\n      <td>88</td>\n      <td>89</td>\n      <td>87</td>\n      <td>83</td>\n      <td>2375</td>\n      <td>292023</td>\n      <td>90</td>\n      <td>86</td>\n      <td>10509</td>\n      <td>2015</td>\n      <td>304907</td>\n    </tr>\n    <tr>\n      <th>44</th>\n      <td>Kingsman: The Secret Service (2015)</td>\n      <td>75</td>\n      <td>84</td>\n      <td>58</td>\n      <td>79</td>\n      <td>78</td>\n      <td>1054</td>\n      <td>272204</td>\n      <td>90</td>\n      <td>84</td>\n      <td>15205</td>\n      <td>2015</td>\n      <td>288463</td>\n    </tr>\n    <tr>\n      <th>0</th>\n      <td>Avengers: Age of Ultron (2015)</td>\n      <td>74</td>\n      <td>86</td>\n      <td>66</td>\n      <td>71</td>\n      <td>78</td>\n      <td>1330</td>\n      <td>271107</td>\n      <td>100</td>\n      <td>90</td>\n      <td>14846</td>\n      <td>2015</td>\n      <td>287283</td>\n    </tr>\n    <tr>\n      <th>72</th>\n      <td>American Sniper (2015)</td>\n      <td>72</td>\n      <td>85</td>\n      <td>72</td>\n      <td>66</td>\n      <td>74</td>\n      <td>850</td>\n      <td>251856</td>\n      <td>100</td>\n      <td>96</td>\n      <td>34085</td>\n      <td>2015</td>\n      <td>286791</td>\n    </tr>\n    <tr>\n      <th>129</th>\n      <td>Jurassic World (2015)</td>\n      <td>71</td>\n      <td>81</td>\n      <td>59</td>\n      <td>70</td>\n      <td>73</td>\n      <td>1281</td>\n      <td>241807</td>\n      <td>90</td>\n      <td>90</td>\n      <td>34390</td>\n      <td>2015</td>\n      <td>277478</td>\n    </tr>\n    <tr>\n      <th>73</th>\n      <td>Furious 7 (2015)</td>\n      <td>81</td>\n      <td>84</td>\n      <td>67</td>\n      <td>68</td>\n      <td>74</td>\n      <td>764</td>\n      <td>207211</td>\n      <td>100</td>\n      <td>96</td>\n      <td>33538</td>\n      <td>2015</td>\n      <td>241513</td>\n    </tr>\n    <tr>\n      <th>97</th>\n      <td>Fifty Shades of Grey (2015)</td>\n      <td>25</td>\n      <td>42</td>\n      <td>46</td>\n      <td>32</td>\n      <td>42</td>\n      <td>778</td>\n      <td>179506</td>\n      <td>80</td>\n      <td>78</td>\n      <td>34846</td>\n      <td>2015</td>\n      <td>215130</td>\n    </tr>\n  </tbody>\n</table>\n</div>"
     },
     "execution_count": 48,
     "metadata": {},
     "output_type": "execute_result"
    }
   ],
   "source": [
    "merged.sort_values(by=\"VIEWS COUNT\", ascending=False).head(10)"
   ]
  },
  {
   "cell_type": "markdown",
   "metadata": {},
   "source": [
    "**TASK: How many movies have zero votes?**"
   ]
  },
  {
   "cell_type": "code",
   "execution_count": 50,
   "metadata": {
    "ExecuteTime": {
     "end_time": "2024-04-13T18:45:46.711481Z",
     "start_time": "2024-04-13T18:45:46.708896Z"
    }
   },
   "outputs": [],
   "source": [
    "#CODE HERE"
   ]
  },
  {
   "cell_type": "code",
   "execution_count": 50,
   "metadata": {
    "ExecuteTime": {
     "end_time": "2024-04-13T18:45:46.713885Z",
     "start_time": "2024-04-13T18:45:46.711481Z"
    }
   },
   "outputs": [],
   "source": []
  },
  {
   "cell_type": "markdown",
   "metadata": {},
   "source": [
    "**TASK: Create DataFrame of only reviewed films by removing any films that have zero votes.**"
   ]
  },
  {
   "cell_type": "code",
   "execution_count": 51,
   "metadata": {
    "ExecuteTime": {
     "end_time": "2024-04-13T18:45:47.015209Z",
     "start_time": "2024-04-13T18:45:47.012019Z"
    }
   },
   "outputs": [],
   "source": [
    "#CODE HERE"
   ]
  },
  {
   "cell_type": "code",
   "execution_count": 51,
   "metadata": {
    "ExecuteTime": {
     "end_time": "2024-04-13T18:45:47.305726Z",
     "start_time": "2024-04-13T18:45:47.303049Z"
    }
   },
   "outputs": [],
   "source": []
  },
  {
   "cell_type": "markdown",
   "metadata": {},
   "source": [
    "----\n",
    "\n",
    "**As noted in the article, due to HTML and star rating displays, the true user rating may be slightly different than the rating shown to a user. Let's visualize this difference in distributions.**\n",
    "\n",
    "**TASK: Create a KDE plot (or multiple kdeplots) that displays the distribution of ratings that are displayed (STARS) versus what the true rating was from votes (RATING). Clip the KDEs to 0-5.**"
   ]
  },
  {
   "cell_type": "code",
   "outputs": [],
   "source": [],
   "metadata": {
    "collapsed": false
   }
  },
  {
   "cell_type": "code",
   "execution_count": 68,
   "metadata": {
    "ExecuteTime": {
     "end_time": "2024-04-14T15:45:46.941408Z",
     "start_time": "2024-04-14T15:45:46.707684Z"
    }
   },
   "outputs": [
    {
     "data": {
      "text/plain": "<matplotlib.legend.Legend at 0x15e1f714590>"
     },
     "execution_count": 68,
     "metadata": {},
     "output_type": "execute_result"
    },
    {
     "data": {
      "text/plain": "<Figure size 1200x600 with 1 Axes>",
      "image/png": "[encoded data removed]"
     },
     "metadata": {},
     "output_type": "display_data"
    }
   ],
   "source": [
    "fig, ax = plt.subplots(figsize=(12, 6))\n",
    "sns.kdeplot(data=merged, x=\"Metacritic\", color=\"red\", label=\"Metacritic\", fill=True, ax=ax)\n",
    "sns.kdeplot(data=merged, x=\"IMDB\", color=\"green\", label=\"IMDB\", fill=True, ax=ax)\n",
    "sns.kdeplot(data=merged, x=\"RATING\", color=\"yellow\", label=\"Fandango\", fill=True, ax=ax)\n",
    "sns.kdeplot(data=merged, x=\"Metacritic_User\", color=\"blue\", label=\"Metacritic Users\", fill=True, ax=ax)\n",
    "sns.kdeplot(data=merged, x=\"RottenTomatoes\", color=\"brown\", label=\"Rotten\", fill=True, ax=ax)\n",
    "sns.kdeplot(data=merged, x=\"RottenTomatoes_User\", color=\"brown\", label=\"Rotten Users\", fill=True, ax=ax)\n",
    "ax.legend()"
   ]
  },
  {
   "cell_type": "code",
   "execution_count": 52,
   "metadata": {
    "ExecuteTime": {
     "end_time": "2024-04-13T18:45:47.623430Z",
     "start_time": "2024-04-13T18:45:47.620779Z"
    }
   },
   "outputs": [],
   "source": []
  },
  {
   "cell_type": "markdown",
   "metadata": {},
   "source": [
    "**TASK: Let's now actually quantify this discrepancy. Create a new column of the different between STARS displayed versus true RATING. Calculate this difference with STARS-RATING and round these differences to the nearest decimal point.**"
   ]
  },
  {
   "cell_type": "code",
   "execution_count": 53,
   "metadata": {
    "ExecuteTime": {
     "end_time": "2024-04-13T18:45:47.664556Z",
     "start_time": "2024-04-13T18:45:47.661779Z"
    }
   },
   "outputs": [],
   "source": [
    "#CODE HERE"
   ]
  },
  {
   "cell_type": "code",
   "execution_count": 53,
   "metadata": {
    "ExecuteTime": {
     "end_time": "2024-04-13T18:45:47.714756Z",
     "start_time": "2024-04-13T18:45:47.712980Z"
    }
   },
   "outputs": [],
   "source": []
  },
  {
   "cell_type": "code",
   "execution_count": 53,
   "metadata": {
    "ExecuteTime": {
     "end_time": "2024-04-13T18:45:47.724818Z",
     "start_time": "2024-04-13T18:45:47.723135Z"
    }
   },
   "outputs": [],
   "source": []
  },
  {
   "cell_type": "markdown",
   "metadata": {},
   "source": [
    "**TASK: Create a count plot to display the number of times a certain difference occurs:**"
   ]
  },
  {
   "cell_type": "code",
   "execution_count": 54,
   "metadata": {
    "ExecuteTime": {
     "end_time": "2024-04-13T18:45:47.739993Z",
     "start_time": "2024-04-13T18:45:47.737259Z"
    }
   },
   "outputs": [],
   "source": [
    "#CODE HERE"
   ]
  },
  {
   "cell_type": "code",
   "execution_count": 54,
   "metadata": {
    "ExecuteTime": {
     "end_time": "2024-04-13T18:45:47.776924Z",
     "start_time": "2024-04-13T18:45:47.774661Z"
    }
   },
   "outputs": [],
   "source": []
  },
  {
   "cell_type": "markdown",
   "metadata": {},
   "source": [
    "**TASK: We can see from the plot that one movie was displaying over a 1 star difference than its true rating! What movie had this close to 1 star differential?**"
   ]
  },
  {
   "cell_type": "code",
   "execution_count": 55,
   "metadata": {
    "ExecuteTime": {
     "end_time": "2024-04-13T18:45:47.787225Z",
     "start_time": "2024-04-13T18:45:47.784550Z"
    }
   },
   "outputs": [],
   "source": [
    "#CODE HERE"
   ]
  },
  {
   "cell_type": "code",
   "execution_count": 55,
   "metadata": {
    "ExecuteTime": {
     "end_time": "2024-04-13T18:45:47.794686Z",
     "start_time": "2024-04-13T18:45:47.792469Z"
    }
   },
   "outputs": [],
   "source": []
  },
  {
   "cell_type": "markdown",
   "metadata": {},
   "source": [
    "## Part Three: Comparison of Fandango Ratings to Other Sites\n",
    "\n",
    "Let's now compare the scores from Fandango to other movies sites and see how they compare.\n",
    "\n",
    "**TASK: Read in the \"all_sites_scores.csv\" file by running the cell below**"
   ]
  },
  {
   "cell_type": "code",
   "execution_count": 56,
   "metadata": {
    "ExecuteTime": {
     "end_time": "2024-04-13T18:45:47.809542Z",
     "start_time": "2024-04-13T18:45:47.805330Z"
    }
   },
   "outputs": [],
   "source": [
    "all_sites = pd.read_csv(\"all_sites_scores.csv\")"
   ]
  },
  {
   "cell_type": "markdown",
   "metadata": {},
   "source": [
    "**TASK: Explore the DataFrame columns, info, description.**"
   ]
  },
  {
   "cell_type": "code",
   "execution_count": 56,
   "metadata": {
    "ExecuteTime": {
     "end_time": "2024-04-13T18:45:47.861152Z",
     "start_time": "2024-04-13T18:45:47.858645Z"
    }
   },
   "outputs": [],
   "source": []
  },
  {
   "cell_type": "code",
   "execution_count": 56,
   "metadata": {
    "ExecuteTime": {
     "end_time": "2024-04-13T18:45:47.880643Z",
     "start_time": "2024-04-13T18:45:47.877884Z"
    }
   },
   "outputs": [],
   "source": []
  },
  {
   "cell_type": "code",
   "execution_count": 56,
   "metadata": {
    "ExecuteTime": {
     "end_time": "2024-04-13T18:45:47.915706Z",
     "start_time": "2024-04-13T18:45:47.912989Z"
    }
   },
   "outputs": [],
   "source": []
  },
  {
   "cell_type": "code",
   "execution_count": 56,
   "metadata": {
    "ExecuteTime": {
     "end_time": "2024-04-13T18:45:47.934638Z",
     "start_time": "2024-04-13T18:45:47.932493Z"
    }
   },
   "outputs": [],
   "source": []
  },
  {
   "cell_type": "markdown",
   "metadata": {},
   "source": [
    "### Rotten Tomatoes\n",
    "\n",
    "Let's first take a look at Rotten Tomatoes. RT has two sets of reviews, their critics reviews (ratings published by official critics) and user reviews. \n",
    "\n",
    "**TASK: Create a scatterplot exploring the relationship between RT Critic reviews and RT User reviews.**"
   ]
  },
  {
   "cell_type": "code",
   "execution_count": 57,
   "metadata": {
    "ExecuteTime": {
     "end_time": "2024-04-13T18:45:47.946609Z",
     "start_time": "2024-04-13T18:45:47.943980Z"
    }
   },
   "outputs": [],
   "source": [
    "# CODE HERE"
   ]
  },
  {
   "cell_type": "code",
   "execution_count": 57,
   "metadata": {
    "ExecuteTime": {
     "end_time": "2024-04-13T18:45:47.977401Z",
     "start_time": "2024-04-13T18:45:47.975502Z"
    }
   },
   "outputs": [],
   "source": []
  },
  {
   "cell_type": "markdown",
   "metadata": {},
   "source": [
    "Let's quantify this difference by comparing the critics ratings and the RT User ratings. We will calculate this with RottenTomatoes-RottenTomatoes_User. Note: Rotten_Diff here is Critics - User Score. So values closer to 0 means aggrement between Critics and Users. Larger positive values means critics rated much higher than users. Larger negative values means users rated much higher than critics.\n",
    "\n",
    "**TASK: Create a new column based off the difference between critics ratings and users ratings for Rotten Tomatoes. Calculate this with RottenTomatoes-RottenTomatoes_User**"
   ]
  },
  {
   "cell_type": "code",
   "execution_count": 58,
   "metadata": {
    "ExecuteTime": {
     "end_time": "2024-04-13T18:45:48.001941Z",
     "start_time": "2024-04-13T18:45:47.999323Z"
    }
   },
   "outputs": [],
   "source": [
    "#CODE HERE"
   ]
  },
  {
   "cell_type": "code",
   "execution_count": 58,
   "metadata": {
    "ExecuteTime": {
     "end_time": "2024-04-13T18:45:48.020457Z",
     "start_time": "2024-04-13T18:45:48.017795Z"
    }
   },
   "outputs": [],
   "source": []
  },
  {
   "cell_type": "markdown",
   "metadata": {},
   "source": [
    "Let's now compare the overall mean difference. Since we're dealing with differences that could be negative or positive, first take the absolute value of all the differences, then take the mean. This would report back on average to absolute difference between the critics rating versus the user rating."
   ]
  },
  {
   "cell_type": "markdown",
   "metadata": {},
   "source": [
    "**TASK: Calculate the Mean Absolute Difference between RT scores and RT User scores as described above.**"
   ]
  },
  {
   "cell_type": "code",
   "execution_count": 59,
   "metadata": {
    "ExecuteTime": {
     "end_time": "2024-04-13T18:45:48.070900Z",
     "start_time": "2024-04-13T18:45:48.068686Z"
    }
   },
   "outputs": [],
   "source": [
    "# CODE HERE"
   ]
  },
  {
   "cell_type": "code",
   "execution_count": 59,
   "metadata": {
    "ExecuteTime": {
     "end_time": "2024-04-13T18:45:48.084563Z",
     "start_time": "2024-04-13T18:45:48.082270Z"
    }
   },
   "outputs": [],
   "source": []
  },
  {
   "cell_type": "markdown",
   "metadata": {},
   "source": [
    "**TASK: Plot the distribution of the differences between RT Critics Score and RT User Score. There should be negative values in this distribution plot. Feel free to use KDE or Histograms to display this distribution.**"
   ]
  },
  {
   "cell_type": "code",
   "execution_count": 60,
   "metadata": {
    "ExecuteTime": {
     "end_time": "2024-04-13T18:45:48.130399Z",
     "start_time": "2024-04-13T18:45:48.127897Z"
    }
   },
   "outputs": [],
   "source": [
    "#CODE HERE"
   ]
  },
  {
   "cell_type": "code",
   "execution_count": 60,
   "metadata": {
    "ExecuteTime": {
     "end_time": "2024-04-13T18:45:48.174370Z",
     "start_time": "2024-04-13T18:45:48.172688Z"
    }
   },
   "outputs": [],
   "source": []
  },
  {
   "cell_type": "markdown",
   "metadata": {},
   "source": [
    "**TASK: Now create a distribution showing the *absolute value* difference between Critics and Users on Rotten Tomatoes.**"
   ]
  },
  {
   "cell_type": "code",
   "execution_count": 61,
   "metadata": {
    "ExecuteTime": {
     "end_time": "2024-04-13T18:45:48.211826Z",
     "start_time": "2024-04-13T18:45:48.208810Z"
    }
   },
   "outputs": [],
   "source": [
    "#CODE HERE"
   ]
  },
  {
   "cell_type": "code",
   "execution_count": 61,
   "metadata": {
    "ExecuteTime": {
     "end_time": "2024-04-13T18:45:48.226504Z",
     "start_time": "2024-04-13T18:45:48.224835Z"
    }
   },
   "outputs": [],
   "source": []
  },
  {
   "cell_type": "markdown",
   "metadata": {},
   "source": [
    "**Let's find out which movies are causing the largest differences. First, show the top 5 movies with the largest *negative* difference between Users and RT critics. Since we calculated the difference as Critics Rating - Users Rating, then large negative values imply the users rated the movie much higher on average than the critics did.**"
   ]
  },
  {
   "cell_type": "markdown",
   "metadata": {},
   "source": [
    "**TASK: What are the top 5 movies users rated higher than critics on average:**"
   ]
  },
  {
   "cell_type": "code",
   "execution_count": 62,
   "metadata": {
    "ExecuteTime": {
     "end_time": "2024-04-13T18:45:48.238415Z",
     "start_time": "2024-04-13T18:45:48.235762Z"
    }
   },
   "outputs": [],
   "source": [
    "# CODE HERE"
   ]
  },
  {
   "cell_type": "code",
   "execution_count": 62,
   "metadata": {
    "ExecuteTime": {
     "end_time": "2024-04-13T18:45:48.278366Z",
     "start_time": "2024-04-13T18:45:48.275442Z"
    }
   },
   "outputs": [],
   "source": []
  },
  {
   "cell_type": "markdown",
   "metadata": {},
   "source": [
    "**TASK: Now show the top 5 movies critics scores higher than users on average.**"
   ]
  },
  {
   "cell_type": "code",
   "execution_count": 63,
   "metadata": {
    "ExecuteTime": {
     "end_time": "2024-04-13T18:45:48.288319Z",
     "start_time": "2024-04-13T18:45:48.285672Z"
    }
   },
   "outputs": [],
   "source": [
    "# CODE HERE"
   ]
  },
  {
   "cell_type": "code",
   "execution_count": 63,
   "metadata": {
    "ExecuteTime": {
     "end_time": "2024-04-13T18:45:48.297675Z",
     "start_time": "2024-04-13T18:45:48.295580Z"
    }
   },
   "outputs": [],
   "source": []
  },
  {
   "cell_type": "markdown",
   "metadata": {},
   "source": [
    "## MetaCritic\n",
    "\n",
    "Now let's take a quick look at the ratings from MetaCritic. Metacritic also shows an average user rating versus their official displayed rating."
   ]
  },
  {
   "cell_type": "markdown",
   "metadata": {},
   "source": [
    "**TASK: Display a scatterplot of the Metacritic Rating versus the Metacritic User rating.**"
   ]
  },
  {
   "cell_type": "code",
   "execution_count": 64,
   "metadata": {
    "ExecuteTime": {
     "end_time": "2024-04-13T18:45:48.316456Z",
     "start_time": "2024-04-13T18:45:48.314216Z"
    }
   },
   "outputs": [],
   "source": [
    "# CODE HERE"
   ]
  },
  {
   "cell_type": "code",
   "execution_count": 64,
   "metadata": {
    "ExecuteTime": {
     "end_time": "2024-04-13T18:45:48.354978Z",
     "start_time": "2024-04-13T18:45:48.352240Z"
    }
   },
   "outputs": [],
   "source": []
  },
  {
   "cell_type": "markdown",
   "metadata": {},
   "source": [
    "## IMDB\n",
    "\n",
    "Finally let's explore IMDB. Notice that both Metacritic and IMDB report back vote counts. Let's analyze the most popular movies.\n",
    "\n",
    "**TASK: Create a scatterplot for the relationship between vote counts on MetaCritic versus vote counts on IMDB.**"
   ]
  },
  {
   "cell_type": "code",
   "execution_count": 65,
   "metadata": {
    "ExecuteTime": {
     "end_time": "2024-04-13T18:45:48.366590Z",
     "start_time": "2024-04-13T18:45:48.364341Z"
    }
   },
   "outputs": [],
   "source": [
    "#CODE HERE"
   ]
  },
  {
   "cell_type": "code",
   "execution_count": 65,
   "metadata": {
    "ExecuteTime": {
     "end_time": "2024-04-13T18:45:48.379428Z",
     "start_time": "2024-04-13T18:45:48.377318Z"
    }
   },
   "outputs": [],
   "source": []
  },
  {
   "cell_type": "markdown",
   "metadata": {},
   "source": [
    "**Notice there are two outliers here. The movie with the highest vote count on IMDB only has about 500 Metacritic ratings. What is this movie?**\n",
    "\n",
    "**TASK: What movie has the highest IMDB user vote count?**"
   ]
  },
  {
   "cell_type": "code",
   "execution_count": 66,
   "metadata": {
    "ExecuteTime": {
     "end_time": "2024-04-13T18:45:48.387351Z",
     "start_time": "2024-04-13T18:45:48.384986Z"
    }
   },
   "outputs": [],
   "source": [
    "#CODE HERE"
   ]
  },
  {
   "cell_type": "code",
   "execution_count": 66,
   "metadata": {
    "ExecuteTime": {
     "end_time": "2024-04-13T18:45:48.417269Z",
     "start_time": "2024-04-13T18:45:48.414716Z"
    }
   },
   "outputs": [],
   "source": []
  },
  {
   "cell_type": "markdown",
   "metadata": {},
   "source": [
    "**TASK: What movie has the highest Metacritic User Vote count?**"
   ]
  },
  {
   "cell_type": "code",
   "execution_count": 67,
   "metadata": {
    "ExecuteTime": {
     "end_time": "2024-04-13T18:45:48.438703Z",
     "start_time": "2024-04-13T18:45:48.436050Z"
    }
   },
   "outputs": [],
   "source": [
    "#CODE HERE"
   ]
  },
  {
   "cell_type": "code",
   "execution_count": 67,
   "metadata": {
    "ExecuteTime": {
     "end_time": "2024-04-13T18:45:48.470815Z",
     "start_time": "2024-04-13T18:45:48.468933Z"
    }
   },
   "outputs": [],
   "source": []
  },
  {
   "cell_type": "markdown",
   "metadata": {},
   "source": [
    "## Fandago Scores vs. All Sites\n",
    "\n",
    "Finally let's begin to explore whether or not Fandango artificially displays higher ratings than warranted to boost ticket sales."
   ]
  },
  {
   "cell_type": "markdown",
   "metadata": {},
   "source": [
    "**TASK: Combine the Fandango Table with the All Sites table. Not every movie in the Fandango table is in the All Sites table, since some Fandango movies have very little or no reviews. We only want to compare movies that are in both DataFrames, so do an *inner* merge to merge together both DataFrames based on the FILM columns.**"
   ]
  },
  {
   "cell_type": "code",
   "execution_count": 68,
   "metadata": {
    "ExecuteTime": {
     "end_time": "2024-04-13T18:45:48.478274Z",
     "start_time": "2024-04-13T18:45:48.476148Z"
    }
   },
   "outputs": [],
   "source": [
    "#CODE HERE"
   ]
  },
  {
   "cell_type": "code",
   "execution_count": 68,
   "metadata": {
    "ExecuteTime": {
     "end_time": "2024-04-13T18:45:48.488830Z",
     "start_time": "2024-04-13T18:45:48.486923Z"
    }
   },
   "outputs": [],
   "source": []
  },
  {
   "cell_type": "code",
   "execution_count": 68,
   "metadata": {
    "ExecuteTime": {
     "end_time": "2024-04-13T18:45:48.505742Z",
     "start_time": "2024-04-13T18:45:48.503789Z"
    }
   },
   "outputs": [],
   "source": []
  },
  {
   "cell_type": "code",
   "execution_count": 68,
   "metadata": {
    "ExecuteTime": {
     "end_time": "2024-04-13T18:45:48.540882Z",
     "start_time": "2024-04-13T18:45:48.538595Z"
    }
   },
   "outputs": [],
   "source": []
  },
  {
   "cell_type": "markdown",
   "metadata": {},
   "source": [
    "### Normalize columns to Fandango STARS and RATINGS 0-5 \n",
    "\n",
    "Notice that RT,Metacritic, and IMDB don't use a score between 0-5 stars like Fandango does. In order to do a fair comparison, we need to *normalize* these values so they all fall between 0-5 stars and the relationship between reviews stays the same.\n",
    "\n",
    "**TASK: Create new normalized columns for all ratings so they match up within the 0-5 star range shown on Fandango. There are many ways to do this.**\n",
    "\n",
    "Hint link: https://stackoverflow.com/questions/26414913/normalize-columns-of-pandas-data-frame\n",
    "\n",
    "\n",
    "Easier Hint:\n",
    "\n",
    "Keep in mind, a simple way to convert ratings:\n",
    "* 100/20 = 5 \n",
    "* 10/2 = 5"
   ]
  },
  {
   "cell_type": "code",
   "execution_count": 69,
   "metadata": {
    "ExecuteTime": {
     "end_time": "2024-04-13T18:45:48.551051Z",
     "start_time": "2024-04-13T18:45:48.548721Z"
    }
   },
   "outputs": [],
   "source": [
    "# CODE HERE"
   ]
  },
  {
   "cell_type": "code",
   "execution_count": 69,
   "metadata": {
    "ExecuteTime": {
     "end_time": "2024-04-13T18:45:48.564502Z",
     "start_time": "2024-04-13T18:45:48.562590Z"
    }
   },
   "outputs": [],
   "source": []
  },
  {
   "cell_type": "code",
   "execution_count": 69,
   "metadata": {
    "ExecuteTime": {
     "end_time": "2024-04-13T18:45:48.597341Z",
     "start_time": "2024-04-13T18:45:48.594674Z"
    }
   },
   "outputs": [],
   "source": []
  },
  {
   "cell_type": "code",
   "execution_count": 69,
   "metadata": {
    "ExecuteTime": {
     "end_time": "2024-04-13T18:45:48.619163Z",
     "start_time": "2024-04-13T18:45:48.616647Z"
    }
   },
   "outputs": [],
   "source": []
  },
  {
   "cell_type": "code",
   "execution_count": 69,
   "metadata": {
    "ExecuteTime": {
     "end_time": "2024-04-13T18:45:48.653889Z",
     "start_time": "2024-04-13T18:45:48.651772Z"
    }
   },
   "outputs": [],
   "source": []
  },
  {
   "cell_type": "markdown",
   "metadata": {},
   "source": [
    "**TASK: Now create a norm_scores DataFrame that only contains the normalizes ratings. Include both STARS and RATING from the original Fandango table.**"
   ]
  },
  {
   "cell_type": "code",
   "execution_count": 70,
   "metadata": {
    "ExecuteTime": {
     "end_time": "2024-04-13T18:45:48.674859Z",
     "start_time": "2024-04-13T18:45:48.671672Z"
    }
   },
   "outputs": [],
   "source": [
    "#CODE HERE"
   ]
  },
  {
   "cell_type": "code",
   "execution_count": 70,
   "metadata": {
    "ExecuteTime": {
     "end_time": "2024-04-13T18:45:48.697943Z",
     "start_time": "2024-04-13T18:45:48.696192Z"
    }
   },
   "outputs": [],
   "source": []
  },
  {
   "cell_type": "code",
   "execution_count": 70,
   "metadata": {
    "ExecuteTime": {
     "end_time": "2024-04-13T18:45:48.721837Z",
     "start_time": "2024-04-13T18:45:48.719197Z"
    }
   },
   "outputs": [],
   "source": []
  },
  {
   "cell_type": "markdown",
   "metadata": {},
   "source": [
    "### Comparing Distribution of Scores Across Sites\n",
    "\n",
    "\n",
    "Now the moment of truth! Does Fandango display abnormally high ratings? We already know it pushs displayed RATING higher than STARS, but are the ratings themselves higher than average?\n",
    "\n",
    "\n",
    "**TASK: Create a plot comparing the distributions of normalized ratings across all sites. There are many ways to do this, but explore the Seaborn KDEplot docs for some simple ways to quickly show this. Don't worry if your plot format does not look exactly the same as ours, as long as the differences in distribution are clear.**\n",
    "\n",
    "Quick Note if you have issues moving the legend for a seaborn kdeplot: https://github.com/mwaskom/seaborn/issues/2280"
   ]
  },
  {
   "cell_type": "code",
   "execution_count": 71,
   "metadata": {
    "ExecuteTime": {
     "end_time": "2024-04-13T18:45:48.747088Z",
     "start_time": "2024-04-13T18:45:48.743684Z"
    }
   },
   "outputs": [],
   "source": [
    "#CODE HERE"
   ]
  },
  {
   "cell_type": "code",
   "execution_count": 71,
   "metadata": {
    "ExecuteTime": {
     "end_time": "2024-04-13T18:45:48.754709Z",
     "start_time": "2024-04-13T18:45:48.752563Z"
    }
   },
   "outputs": [],
   "source": []
  },
  {
   "cell_type": "code",
   "execution_count": 71,
   "metadata": {
    "ExecuteTime": {
     "end_time": "2024-04-13T18:45:48.785564Z",
     "start_time": "2024-04-13T18:45:48.783017Z"
    }
   },
   "outputs": [],
   "source": []
  },
  {
   "cell_type": "markdown",
   "metadata": {},
   "source": [
    "**Clearly Fandango has an uneven distribution. We can also see that RT critics have the most uniform distribution. Let's directly compare these two.** \n",
    "\n",
    "**TASK: Create a KDE plot that compare the distribution of RT critic ratings against the STARS displayed by Fandango.**"
   ]
  },
  {
   "cell_type": "code",
   "execution_count": 72,
   "metadata": {
    "ExecuteTime": {
     "end_time": "2024-04-13T18:45:48.812200Z",
     "start_time": "2024-04-13T18:45:48.809537Z"
    }
   },
   "outputs": [],
   "source": [
    "#CODE HERE"
   ]
  },
  {
   "cell_type": "code",
   "execution_count": 72,
   "metadata": {
    "ExecuteTime": {
     "end_time": "2024-04-13T18:45:48.845352Z",
     "start_time": "2024-04-13T18:45:48.842817Z"
    }
   },
   "outputs": [],
   "source": []
  },
  {
   "cell_type": "markdown",
   "metadata": {},
   "source": [
    "**OPTIONAL TASK: Create a histplot comparing all normalized scores.**"
   ]
  },
  {
   "cell_type": "code",
   "execution_count": 73,
   "metadata": {
    "ExecuteTime": {
     "end_time": "2024-04-13T18:45:48.855615Z",
     "start_time": "2024-04-13T18:45:48.853123Z"
    }
   },
   "outputs": [],
   "source": [
    "#CODE HERE"
   ]
  },
  {
   "cell_type": "code",
   "execution_count": 73,
   "metadata": {
    "ExecuteTime": {
     "end_time": "2024-04-13T18:45:48.864054Z",
     "start_time": "2024-04-13T18:45:48.862056Z"
    }
   },
   "outputs": [],
   "source": []
  },
  {
   "cell_type": "markdown",
   "metadata": {},
   "source": [
    "\n",
    "### How are the worst movies rated across all platforms?\n",
    "\n",
    "**TASK: Create a clustermap visualization of all normalized scores. Note the differences in ratings, highly rated movies should be clustered together versus poorly rated movies. Note: This clustermap does not need to have the FILM titles as the index, feel free to drop it for the clustermap.**"
   ]
  },
  {
   "cell_type": "code",
   "execution_count": 74,
   "metadata": {
    "ExecuteTime": {
     "end_time": "2024-04-13T18:45:48.872829Z",
     "start_time": "2024-04-13T18:45:48.870685Z"
    }
   },
   "outputs": [],
   "source": [
    "# CODE HERE"
   ]
  },
  {
   "cell_type": "code",
   "execution_count": 74,
   "metadata": {
    "ExecuteTime": {
     "end_time": "2024-04-13T18:45:48.910801Z",
     "start_time": "2024-04-13T18:45:48.908682Z"
    }
   },
   "outputs": [],
   "source": []
  },
  {
   "cell_type": "markdown",
   "metadata": {},
   "source": [
    "**TASK: Clearly Fandango is rating movies much higher than other sites, especially considering that it is then displaying a rounded up version of the rating. Let's examine the top 10 worst movies. Based off the Rotten Tomatoes Critic Ratings, what are the top 10 lowest rated movies? What are the normalized scores across all platforms for these movies? You may need to add the FILM column back in to your DataFrame of normalized scores to see the results.**"
   ]
  },
  {
   "cell_type": "code",
   "execution_count": 75,
   "metadata": {
    "ExecuteTime": {
     "end_time": "2024-04-13T18:45:48.923328Z",
     "start_time": "2024-04-13T18:45:48.920896Z"
    }
   },
   "outputs": [],
   "source": [
    "# CODE HERE"
   ]
  },
  {
   "cell_type": "code",
   "execution_count": 75,
   "metadata": {
    "ExecuteTime": {
     "end_time": "2024-04-13T18:45:48.959336Z",
     "start_time": "2024-04-13T18:45:48.956628Z"
    }
   },
   "outputs": [],
   "source": []
  },
  {
   "cell_type": "code",
   "execution_count": 75,
   "metadata": {
    "ExecuteTime": {
     "end_time": "2024-04-13T18:45:48.970348Z",
     "start_time": "2024-04-13T18:45:48.968170Z"
    }
   },
   "outputs": [],
   "source": []
  },
  {
   "cell_type": "markdown",
   "metadata": {},
   "source": [
    "**FINAL TASK: Visualize the distribution of ratings across all sites for the top 10 worst movies.**"
   ]
  },
  {
   "cell_type": "code",
   "execution_count": 76,
   "metadata": {
    "ExecuteTime": {
     "end_time": "2024-04-13T18:45:48.980575Z",
     "start_time": "2024-04-13T18:45:48.978023Z"
    }
   },
   "outputs": [],
   "source": [
    "# CODE HERE"
   ]
  },
  {
   "cell_type": "code",
   "execution_count": 76,
   "metadata": {
    "ExecuteTime": {
     "end_time": "2024-04-13T18:45:49.006217Z",
     "start_time": "2024-04-13T18:45:49.004622Z"
    }
   },
   "outputs": [],
   "source": []
  },
  {
   "cell_type": "markdown",
   "metadata": {},
   "source": [
    "---\n",
    "----\n",
    "\n",
    "<img src=\"https://upload.wikimedia.org/wikipedia/en/6/6f/Taken_3_poster.jpg\">\n",
    "\n",
    "**Final thoughts: Wow! Fandango is showing around 3-4 star ratings for films that are clearly bad! Notice the biggest offender, [Taken 3!](https://www.youtube.com/watch?v=tJrfImRCHJ0). Fandango is displaying 4.5 stars on their site for a film with an [average rating of 1.86](https://en.wikipedia.org/wiki/Taken_3#Critical_response) across the other platforms!**"
   ]
  },
  {
   "cell_type": "code",
   "execution_count": 76,
   "metadata": {
    "ExecuteTime": {
     "end_time": "2024-04-13T18:45:49.021611Z",
     "start_time": "2024-04-13T18:45:49.018852Z"
    }
   },
   "outputs": [],
   "source": []
  },
  {
   "cell_type": "code",
   "execution_count": 77,
   "metadata": {
    "ExecuteTime": {
     "end_time": "2024-04-13T18:45:49.036413Z",
     "start_time": "2024-04-13T18:45:49.033180Z"
    }
   },
   "outputs": [
    {
     "data": {
      "text/plain": "9.3"
     },
     "execution_count": 77,
     "metadata": {},
     "output_type": "execute_result"
    }
   ],
   "source": [
    "0.4 + 2.3 + 1.3 + 2.3 + 3"
   ]
  },
  {
   "cell_type": "code",
   "execution_count": 78,
   "metadata": {
    "ExecuteTime": {
     "end_time": "2024-04-13T18:45:49.072659Z",
     "start_time": "2024-04-13T18:45:49.069086Z"
    }
   },
   "outputs": [
    {
     "data": {
      "text/plain": "1.86"
     },
     "execution_count": 78,
     "metadata": {},
     "output_type": "execute_result"
    }
   ],
   "source": [
    "9.3 / 5"
   ]
  },
  {
   "cell_type": "markdown",
   "metadata": {},
   "source": [
    "----"
   ]
  }
 ],
 "metadata": {
  "anaconda-cloud": {},
  "kernelspec": {
   "display_name": "Python 3",
   "language": "python",
   "name": "python3"
  },
  "language_info": {
   "codemirror_mode": {
    "name": "ipython",
    "version": 3
   },
   "file_extension": ".py",
   "mimetype": "text/x-python",
   "name": "python",
   "nbconvert_exporter": "python",
   "pygments_lexer": "ipython3",
   "version": "3.7.6"
  }
 },
 "nbformat": 4,
 "nbformat_minor": 1
}
